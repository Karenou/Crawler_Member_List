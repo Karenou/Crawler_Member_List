{
 "cells": [
  {
   "cell_type": "code",
   "execution_count": 8,
   "metadata": {},
   "outputs": [],
   "source": [
    "import re\n",
    "import pandas as pd\n",
    "import numpy as np\n",
    "from bs4 import BeautifulSoup\n",
    "import requests\n",
    "from urllib.parse import parse_qs, urlparse\n",
    "from datetime import datetime\n",
    "import time\n",
    "import random"
   ]
  },
  {
   "cell_type": "markdown",
   "metadata": {},
   "source": [
    "# I. Crawl Information"
   ]
  },
  {
   "cell_type": "markdown",
   "metadata": {},
   "source": [
    "Helper function to extract information about Hong Kong Bar Association - senior counsel"
   ]
  },
  {
   "cell_type": "code",
   "execution_count": 2,
   "metadata": {},
   "outputs": [],
   "source": [
    "def extract_data(soup, language = 'Eng'):\n",
    "    '''\n",
    "    @soup: BeautifulSoup object contains html of the website\n",
    "    @language: a string indicates whether the language is Chi or Eng\n",
    "    \n",
    "    the function extract member information on current page and return a data dictionary with below format\n",
    "    return data: {'Member': name, 'Name of Chambers': ,Address': , 'Tel.No': , 'Fax.No':, 'Website': , Call':}\n",
    "    ''' \n",
    "    data = {}\n",
    "    \n",
    "    # name format: last name Eng, middle name Eng, initials Eng, title, name Chi, title Chi \n",
    "    name = soup.find('div',{'class':'barrister-name'}).text.strip().split(' ')\n",
    "    name = ' '.join(name[:-1]).strip()\n",
    "    data['Member'] = name\n",
    "    \n",
    "    # other info, split key and value using the first :\n",
    "    info = soup.find_all('div',{'class':'barrister-row'})\n",
    "    for item in info:\n",
    "        content = item.text\n",
    "        key = content[:content.find(':')]\n",
    "        value = content[content.find(':')+1:]\n",
    "        data[key] = value\n",
    "        \n",
    "    return data"
   ]
  },
  {
   "cell_type": "markdown",
   "metadata": {},
   "source": [
    "## English version "
   ]
  },
  {
   "cell_type": "markdown",
   "metadata": {},
   "source": [
    "Extract main page html, the website stores the names in javascript dataTable"
   ]
  },
  {
   "cell_type": "code",
   "execution_count": 3,
   "metadata": {},
   "outputs": [],
   "source": [
    "eng_url = \"https://www.hkba.org/Bar-List/senior-counsel\"\n",
    "session = requests.Session()\n",
    "eng_html = session.get(eng_url)\n",
    "soup = BeautifulSoup(eng_html.text, 'html.parser')"
   ]
  },
  {
   "cell_type": "markdown",
   "metadata": {},
   "source": [
    "get the html where the javascript defines the dataSet variable"
   ]
  },
  {
   "cell_type": "code",
   "execution_count": 4,
   "metadata": {
    "scrolled": true
   },
   "outputs": [],
   "source": [
    "content = soup.find_all('script')[27].text\n",
    "end_str = 'ty-sc\",\"\",\"\"],]'\n",
    "idx = content.find(end_str)\n",
    "# get only dataset html\n",
    "content = content[:idx+len(end_str)]\n",
    "# get only lists of html\n",
    "content = content.split('[')[2:]"
   ]
  },
  {
   "cell_type": "markdown",
   "metadata": {},
   "source": [
    "Get the html of each member's website"
   ]
  },
  {
   "cell_type": "code",
   "execution_count": 5,
   "metadata": {},
   "outputs": [],
   "source": [
    "# extract only the html part from data, remove \"\"\n",
    "member_url = [x.split(',')[-4][1:-1] for x in content]\n",
    "# concat the prefix and member specific html\n",
    "html_prefix = \"https://www.hkba.org/\"\n",
    "member_url = [html_prefix + x for x in member_url]"
   ]
  },
  {
   "cell_type": "markdown",
   "metadata": {},
   "source": [
    "Extract member data on all pages. To mimic human visits, set to headers as below."
   ]
  },
  {
   "cell_type": "code",
   "execution_count": 6,
   "metadata": {},
   "outputs": [],
   "source": [
    "USER_AGENT_LIST = [\n",
    "    \"Mozilla/4.0 (compatible; MSIE 6.0; Windows NT 5.1; SV1; AcooBrowser; .NET CLR 1.1.4322; .NET CLR 2.0.50727)\",\n",
    "    \"Mozilla/4.0 (compatible; MSIE 7.0; Windows NT 6.0; Acoo Browser; SLCC1; .NET CLR 2.0.50727; Media Center PC 5.0; .NET CLR 3.0.04506)\",\n",
    "    \"Mozilla/4.0 (compatible; MSIE 7.0; AOL 9.5; AOLBuild 4337.35; Windows NT 5.1; .NET CLR 1.1.4322; .NET CLR 2.0.50727)\",\n",
    "    \"Mozilla/5.0 (Windows; U; MSIE 9.0; Windows NT 9.0; en-US)\",\n",
    "    \"Mozilla/5.0 (compatible; MSIE 9.0; Windows NT 6.1; Win64; x64; Trident/5.0; .NET CLR 3.5.30729; .NET CLR 3.0.30729; .NET CLR 2.0.50727; Media Center PC 6.0)\",\n",
    "    \"Mozilla/5.0 (compatible; MSIE 8.0; Windows NT 6.0; Trident/4.0; WOW64; Trident/4.0; SLCC2; .NET CLR 2.0.50727; .NET CLR 3.5.30729; .NET CLR 3.0.30729; .NET CLR 1.0.3705; .NET CLR 1.1.4322)\",\n",
    "    \"Mozilla/4.0 (compatible; MSIE 7.0b; Windows NT 5.2; .NET CLR 1.1.4322; .NET CLR 2.0.50727; InfoPath.2; .NET CLR 3.0.04506.30)\"\n",
    "]"
   ]
  },
  {
   "cell_type": "code",
   "execution_count": 10,
   "metadata": {
    "scrolled": true
   },
   "outputs": [
    {
     "name": "stdout",
     "output_type": "stream",
     "text": [
      "0 {'Member': 'Lee, Martin C.M., S.C. 李柱銘 資深大律師', 'Address': '704A, Tower 1, Admiralty Centre, 18 Harcourt Rd, Admiralty, H.K.', 'Tel.No': '25290864', 'Fax.No': '28612829', 'Call': 'HK( 1966 ), Inner HK( 1979 ), UK( 1965  )'}\n",
      "1 {'Member': 'Chang, Denis K.L., S.C. 張健利 資深大律師', 'Name of Chambers': \"Denis Chang's Chambers\", 'Address': '9th Floor, One Lippo Centre, 89 Queensway, Admiralty, H.K.', 'Tel.No': '28107222', 'Fax.No': '28450439', 'E-mail': 'dchang@dcc.law', 'Website': 'https://dcc.law/barrister/denis-chang/', 'Call': 'HK( 1970 ), Inner HK( 1981 ), UK( 1968  )'}\n",
      "2 {'Member': 'Griffiths, John, S.C.', 'Name of Chambers': 'Des Voeux Chambers', 'Address': '38/F, Gloucester Tower, The Landmark,  Central, H.K.', 'Tel.No': '25263071', 'Fax.No': '28105287', 'Call': 'HK( 1979 ), Inner HK( 1982 ), UK( 1956  )'}\n",
      "3 {'Member': 'Cheng, Huan, S.C. 清洪 資深大律師', 'Name of Chambers': \"Cheng Huan SC's Chambers\", 'Address': '15/F, Dina House, 11 Duddell St, Central, H.K.', 'Tel.No': '25262293', 'Fax.No': '28453749', 'Call': 'HK( 1976 ), Inner HK( 1988 ), UK( 1969  )'}\n",
      "4 {'Member': 'Chan, Edward K.S., S.C. 陳景生 資深大律師', 'Name of Chambers': \"Sir Oswald Cheung's Chambers\", 'Address': '10/F, New Henry House, 10 Ice House St, Central, H.K.', 'Tel.No': '25242156', 'Fax.No': '28105656', 'E-mail': 'echan@siroswald.com', 'Quals': 'LLB , LLM (U. Lon)', 'Call': 'HK( 1975 ), Inner HK( 1989 ), UK( 1974  )'}\n",
      "5 {'Member': 'Liao, Andrew, S.C. 廖長城 資深大律師', 'Name of Chambers': 'Andrew Liao SC’s Chambers', 'Address': 'Rm 82, New Henry House, 10 Ice House St, Central, H.K.', 'Tel.No': '25300430', 'Fax.No': '25300108', 'E-mail': 'alpatc@netvigator.com', 'Call': 'HK( 1975 ), Inner HK( 1989 ), UK( 1974  )'}\n",
      "6 {'Member': 'Kotewall, Robert G., S.C. 羅正威 資深大律師', 'Address': '9/F, AIE Building, 33 Connaught Rd Central, H.K.', 'Tel.No': '25251091', 'Fax.No': '28453099', 'Quals': 'LLB (HKU)', 'Call': 'HK( 1976 ), Inner HK( 1989 ), UK( 1975  )'}\n",
      "7 {'Member': 'Leong, Jacqueline P., S.C. (Ms) 梁冰濂 資深大律師 (女士)', 'Address': \"802, Tesbury Centre, 28 Queen's Road East, H.K.\", 'Tel.No': '25232899 / 25253594', 'Fax.No': '28400786', 'E-mail': 'jpleong@netvigator.com', 'Call': 'HK( 1971 ), Inner HK( 1990 ), UK( 1970  )'}\n",
      "8 {'Member': 'Wong, Ronny F.H., S.C. 黃福鑫 資深大律師', 'Name of Chambers': 'Chambers of Ronny Wong S.C.', 'Address': 'Rms 3206-3208, Alexandra House, 18 Chater Rd, Central, H.K.', 'Tel.No': '25261732', 'Fax.No': '28455421', 'Call': 'HK( 1973 ), Inner HK( 1990 ), UK( 1970  )'}\n",
      "9 {'Member': 'Hoo, Alan, S.C. 胡漢清 資深大律師', 'Address': 'Suite 402, Nos.30-32 Connaught Rd, Central, H.K.', 'Tel.No': '28686155', 'Fax.No': '28106795', 'E-mail': 'alanhoo@netvigator.com', 'Call': 'HK( 1975 ), Inner HK( 1990 ), UK( 1973  )'}\n",
      "10 {'Member': 'Tong, Ronny K.W., S.C. 湯家驊 資深大律師', 'Name of Chambers': 'Temple Chambers', 'Address': '16/F, One Pacific Place, 88 Queensway, Admiralty, H.K.', 'Tel.No': '25232003', 'Fax.No': '28100302', 'E-mail': 'rkwtong@templechambers.com', 'Website': 'http://www.templechambers.com', 'Quals': 'LLB (HKU) , BCL (Oxon)', 'Call': 'HK( 1975 ), Inner HK( 1990 ), UK( 1974 ), Victoria( 1983 ), Singapore( 1986 ), New York( 1988  )'}\n",
      "11 {'Member': 'Neoh, Anthony F., S.C. 梁定邦 資深大律師', 'Address': 'Rm 3406 & Rm 412, Tower Two, Lippo Centre, 89 Queensway, Admiralty, H.K.', 'Tel.No': '25223365', 'Fax.No': '28101872', 'Call': 'HK( 1976 ), Inner HK( 1990 ), UK( 1976  )'}\n",
      "12 {'Member': 'Fung, Daniel R., S.C. 馮華健 資深大律師 *', 'Name of Chambers': 'Des Voeux Chambers', 'Address': '38/F, Gloucester Tower, The Landmark,  Central, H.K.', 'Tel.No': '25254245', 'Fax.No': '25268610', 'E-mail': 'danfung@dvc.com.hk', 'Call': 'HK( 1977 ), Inner HK( 1990 ), UK( 1975  )'}\n",
      "13 {'Member': 'Li, Gladys, S.C. (Ms) 李志喜 資深大律師 (女士)', 'Address': \"Rm 802, 8/F, Dominion Centre, 43-59 Queen's Rd East, Wanchai, H.K.\", 'Tel.No': '25217188', 'Fax.No': '28101823', 'Quals': 'BA (Cantab) , MA (Cantab)', 'Call': 'HK( 1978 ), Inner HK( 1990 ), UK( 1971  )'}\n",
      "14 {'Member': 'Huggins, Adrian, S.C.', 'Name of Chambers': 'Temple Chambers', 'Address': '16/F, One Pacific Place, 88 Queensway, Admiralty, H.K.', 'Tel.No': '25232003', 'Fax.No': '25236343', 'Mobile': '91039022', 'E-mail': 'ahuggins@netvigator.com', 'Website': 'http://www.templechambers.com', 'Quals': 'LLM (Cantab) , MA (Cantab)', 'Call': 'HK( 1977 ), Inner HK( 1991 ), UK( 1975  )'}\n",
      "15 {'Member': 'Sarony, Neville Leslie, S.C. 蘇朗年 資深大律師', 'Name of Chambers': 'π Chambers', 'Address': 'Rm 2003, 20/F, Wilson House, 19-27 Wyndham St, Central, H.K.', 'Tel.No': '25237188', 'Fax.No': '25231328', 'Call': 'HK( 1985 ), Inner HK( 1992 ), UK( 1964  )'}\n",
      "16 {'Member': 'Kwok, Kenneth H.W., S.C. 郭慶偉 資深大律師', 'Name of Chambers': \"Patrick Yu's Chambers\", 'Address': 'Rms 45-46, New Henry House, 10 Ice House St, Central, H.K.', 'Tel.No': '25257295', 'Fax.No': '28106239', 'Call': 'HK( 1974 ), Inner HK( 1993  )'}\n",
      "17 {'Member': 'Eu, Audrey, S.C. (Ms) 余若薇 資深大律師 (女士) *', 'Name of Chambers': \"Sir Oswald Cheung's Chambers\", 'Address': '10/F, New Henry House, 10 Ice House St, Central, H.K.', 'Tel.No': '25242156', 'Fax.No': '28105656', 'Call': 'HK( 1978 ), Inner HK( 1993 ), UK( 1977  )'}\n",
      "18 {'Member': 'Grossman, Clive S., S.C. 郭兆銘 資深大律師', 'Name of Chambers': 'Parkside Chambers', 'Address': 'Suite 3101, Two Pacific Place, 88 Queensway, Admiralty, H.K.', 'Tel.No': '28401130', 'Fax.No': '28100612', 'Website': 'http://www.parksidechambers.com.hk/members/clive-grossman/', 'Call': 'HK( 1993 ), Inner HK( 1993 ), Cwlth( 1967  )'}\n",
      "19 {'Member': 'Lok, Lawrence, S.C. 駱應淦 資深大律師', 'Address': '10/F, Printing House, 6 Duddell St, Central, H.K.', 'Tel.No': '25260068', 'Fax.No': '28400131', 'Call': 'HK( 1979 ), Inner HK( 1994 ), UK( 1978  )'}\n",
      "20 {'Member': 'Aiken, Nigel, S.C. 區啟賢 資深大律師', 'Name of Chambers': 'Temple Chambers', 'Address': '16/F, One Pacific Place, 88 Queensway, Admiralty, H.K.', 'Tel.No': '25232003', 'Fax.No': '28100302', 'Website': 'http://www.templechambers.com', 'Call': 'HK( 1981 ), Inner HK( 1994 ), UK( 1974  )'}\n",
      "21 {'Member': 'Fung, Patrick, S.C. 馮柏棟 資深大律師 *', 'Name of Chambers': 'Des Voeux Chambers', 'Address': '38/F, Gloucester Tower, The Landmark,  Central, H.K.', 'Tel.No': '25263071', 'Fax.No': '25268610', 'E-mail': 'pfungsc@netvigator.com', 'Website': 'http://www.dvc.hk', 'Quals': 'LLB (Lond) , FCI Arb', 'Call': 'HK( 1970 ), Inner HK( 1995 ), UK( 1968  )'}\n",
      "22 {'Member': 'Yu, Benjamin, S.C. 余若海 資深大律師', 'Address': '704B, Tower 1, Admiralty Centre, 18 Harcourt Rd, Admiralty, H.K.', 'Tel.No': '28653825', 'Fax.No': '28650219', 'Call': 'HK( 1979 ), Inner HK( 1995  )'}\n",
      "23 {'Member': 'Poon, Winston, S.C. 潘松輝 資深大律師', 'Name of Chambers': 'Temple Chambers', 'Address': '16/F, One Pacific Place, 88 Queensway, Admiralty, H.K.', 'Tel.No': '25232003', 'Fax.No': '28100302', 'Website': 'http://www.templechambers.com', 'Quals': 'BA (Cantab) , MA (Cantab)', 'Call': 'HK( 1976 ), Inner HK( 1996 ), UK( 1975  )'}\n",
      "24 {'Member': 'Ozorio, Michael, S.C. 歐文豪 資深大律師', 'Name of Chambers': '601 Dina House', 'Address': 'Rm 601, Dina House, 11 Duddell St, Central, H.K.', 'Tel.No': '28452020', 'Fax.No': '25960769', 'Call': 'HK( 1977 ), Inner HK( 1996 ), UK( 1976  )'}\n",
      "25 {'Member': 'Scott, John A., S.C. 莊施格 資深大律師', 'Name of Chambers': 'Des Voeux Chambers', 'Address': '38/F, Gloucester Tower, The Landmark,  Central, H.K.', 'Tel.No': '25263071', 'Fax.No': '28105287', 'E-mail': 'john.scott@dvc.com.hk', 'Quals': 'LLM (Cantab) , MA (Cantab)', 'Call': 'HK( 1986 ), Inner HK( 1996 ), UK( 1982  )'}\n",
      "26 {'Member': 'Bruce, Andrew, S.C. 布思義 資深大律師', 'Name of Chambers': 'Gilt Chambers', 'Address': '8/F, Far East Finance Centre, 16 Harcourt Rd, Admiralty, H.K.', 'Tel.No': '28668233', 'Fax.No': '28667858', 'E-mail': 'andrew.bruce@giltchambers.com', 'Quals': 'Solicitor (S. Australia) [1977 --]', 'Call': 'HK( 1996 ), Inner HK( 1996 ), Cwlth( 1977  )'}\n",
      "27 {'Member': 'Wong, Ching Y., S.C. 王正宇 資深大律師', 'Name of Chambers': 'Chambers of Ching Y. Wong SC', 'Address': '14/F, Kailey Tower, 16 Stanley St, Central, H.K.', 'Tel.No': '25227330', 'Fax.No': '28014729', 'Call': 'HK( 1975 ), Inner HK( 1997 ), UK( 1972  )'}\n",
      "28 {'Member': 'Mok, Alice, S.C. (Ms) 莫愛麗 資深大律師 (女士)', 'Name of Chambers': \"Sir Oswald Cheung's Chambers\", 'Address': '10/F, New Henry House, 10 Ice House St, Central, H.K.', 'Tel.No': '25242156', 'Fax.No': '28696933', 'E-mail': 'amok@siroswald.com', 'Quals': 'CEDR Accredited Mediator', 'Call': 'HK( 1977 ), Inner HK( 1997 ), UK( 1977  )'}\n"
     ]
    },
    {
     "name": "stdout",
     "output_type": "stream",
     "text": [
      "29 {'Member': 'Dykes, Philip John, S.C. 戴啟思 資深大律師', 'Name of Chambers': 'Bernacchi Chambers', 'Address': '1402, Tower 1, Admiralty Centre, 18 Harcourt Rd, Admiralty, H.K.', 'Tel.No': '25220066', 'Fax.No': '28450851', 'E-mail': 'pjd@bernacchichambers.com', 'Call': 'HK( 1985 ), Inner HK( 1997 ), UK( 1977  )'}\n",
      "30 {'Member': 'Leong, Alan K.K., S.C. 梁家傑 資深大律師 *', 'Name of Chambers': \"Alan Leong, S.C.'s Chambers\", 'Address': \"Rms 1323A-1328, Prince's Bldg, 10 Chater Rd, Central, H.K.\", 'Tel.No': '25266182', 'Fax.No': '28681730', 'Quals': 'FCI Arb', 'Call': 'HK( 1983 ), Inner HK( 1998  )'}\n",
      "31 {'Member': 'Reading, John Richard, S.C. 李定國 資深大律師', 'Name of Chambers': 'Pacific Chambers', 'Address': 'Rm 901, Dina House, 11 Duddell St, Central, H.K.', 'Tel.No': '25215544', 'Fax.No': '25245912', 'Mobile': '90428840', 'E-mail': 'johnreadingsc@gmail.com', 'Quals': 'Dip Law (BAB) , Dip in CRIM , BA (Deakin U. of Victoria) , LLM (HKU) , FCI Arb , CEDR Accredited Mediator', 'Call': 'HK( 2002 ), Inner HK( 1999 ), Australia( 1978  )'}\n",
      "32 {'Member': 'Whitehead, Robert, S.C. 韋浩德 資深大律師', 'Name of Chambers': 'Bernacchi Chambers', 'Address': '1402, Tower 1, Admiralty Centre, 18 Harcourt Rd, Admiralty, H.K.', 'Tel.No': '25220066', 'Fax.No': '28450851', 'Quals': 'FCI Arb , Chartered Arbitrator', 'Call': 'HK( 1977 ), Inner HK( 2000 ), UK( 1977  )'}\n",
      "33 {'Member': 'Sussex, Charles, S.C. 沙惜時 資深大律師', 'Name of Chambers': 'Des Voeux Chambers', 'Address': '38/F, Gloucester Tower, The Landmark,  Central, H.K.', 'Tel.No': '25263071', 'Fax.No': '28105287', 'E-mail': 'charles.sussex@dvc.com.hk', 'Quals': 'Solicitor (HK) [1978-1982] , Solicitor (UK) [1976-1982]', 'Call': 'HK( 1983 ), Inner HK( 2000 ), UK( 1982  )'}\n",
      "34 {'Member': 'Ho, Ambrose, S.C. 何沛謙 資深大律師', 'Name of Chambers': \"Sir Oswald Cheung's Chambers\", 'Address': '10/F, New Henry House, 10 Ice House St, Central, H.K.', 'Tel.No': '25242156', 'Fax.No': '28017134', 'E-mail': 'ambroseho@siroswald.com', 'Call': 'HK( 1984 ), Inner HK( 2000 ), UK( 1984  )'}\n",
      "35 {'Member': 'Barretto, Ruy, S.C. 白理桃 資深大律師', 'Name of Chambers': 'Temple Chambers', 'Address': '16/F, One Pacific Place, 88 Queensway, Admiralty, H.K.', 'Tel.No': '25232003', 'Fax.No': '28100302', 'Mobile': '91551925', 'E-mail': 'ruyb@netvigator.com', 'Website': 'http://www.templechambers.com', 'Quals': 'LLB , AKC , CEDR Accredited Mediator', 'Call': 'HK( 1975 ), Inner HK( 2001 ), UK( 1974  )'}\n",
      "36 {'Member': 'Westbrook, Simon N., S.C. 韋仕博 資深大律師', 'Name of Chambers': 'Des Voeux Chambers', 'Address': '38/F, Gloucester Tower, The Landmark,  Central, H.K.', 'Tel.No': '25263071', 'Fax.No': '25268610', 'Mobile': '90282275', 'E-mail': 'snwest@netvigator.com', 'Call': 'HK( 1981 ), Inner HK( 2001 ), UK( 1973  )'}\n",
      "37 {'Member': 'Smith, Clifford, S.C.', 'Name of Chambers': 'Des Voeux Chambers', 'Address': '38/F, Gloucester Tower, The Landmark,  Central, H.K.', 'Tel.No': '25263071', 'Fax.No': '25268610', 'Call': 'HK( 1982 ), Inner HK( 2001 ), UK( 1974  )'}\n",
      "38 {'Member': 'Wong, Man-Kit, S.C. 黃敏杰 資深大律師', 'Name of Chambers': \"Wong Man Kit SC's Chambers\", 'Address': 'Suites 902-905, Bank of America Tower, 12 Harcourt Rd, Central, H.K.', 'Tel.No': '29189187', 'Fax.No': '29189197', 'Website': 'http://mkwong.com.hk/people/wong-man-kit', 'Quals': 'LLB (HKU) , PCLL (HKU)', 'Call': 'HK( 1985 ), Inner HK( 2001  )'}\n",
      "39 {'Member': 'Blanchflower, Michael C., S.C. 白孝華 資深大律師', 'Name of Chambers': 'Parkside Chambers', 'Address': 'Suite 3101, Two Pacific Place, 88 Queensway, Admiralty, H.K.', 'Tel.No': '28401130', 'Fax.No': '28100612', 'E-mail': 'michael.blanchflower@parksidechambers.com.hk', 'Website': 'http://www.parksidechambers.com.hk/members/michael-blanchflower/', 'Call': 'HK( 2002 ), Inner HK( 2001 ), Cwlth( 1978  )'}\n",
      "40 {'Member': 'Luk, Arthur, S.C. 陸貽信 資深大律師', 'Name of Chambers': \"Cheng Huan SC's Chambers\", 'Address': '15/F, Dina House, 11 Duddell St, Central, H.K.', 'Tel.No': '25262293', 'Fax.No': '28453749', 'E-mail': 'arthurysl@gmail.com', 'Call': 'HK( 1985 ), Inner HK( 2002  )'}\n",
      "41 {'Member': 'Wong, Yan-Lung, S.C. 黃仁龍 資深大律師', 'Name of Chambers': 'Temple Chambers', 'Address': '16/F, One Pacific Place, 88 Queensway, Admiralty, H.K.', 'Tel.No': '25232003', 'Fax.No': '28100302', 'Website': 'http://www.templechambers.com', 'Call': 'HK( 1987 ), Inner HK( 2002 ), UK( 1987  )'}\n",
      "42 {'Member': 'Jat, Sew Tong, S.C. 翟紹唐 資深大律師', 'Name of Chambers': 'Temple Chambers', 'Address': '16/F, One Pacific Place, 88 Queensway, Admiralty, H.K.', 'Tel.No': '25232003', 'Fax.No': '28100302', 'Website': 'http://www.templechambers.com', 'Quals': 'LLB (U. Lon) , BCL (Oxon)', 'Call': 'HK( 1989 ), Inner HK( 2002 ), UK( 1988  )'}\n",
      "43 {'Member': 'Chan, Johannes M.M., S.C. (Hon.) 陳文敏 名譽資深大律師', 'Name of Chambers': \"Denis Chang's Chambers\", 'Address': '9th Floor, One Lippo Centre, 89 Queensway, Admiralty, H.K.', 'Tel.No': '39172935', 'Fax.No': '25595690', 'E-mail': 'johanneschansc.barrister@gmail.com', 'Quals': 'LLB (HKU) , PCLL (HKU) , LLM (U. Lon)', 'Call': 'HK( 1982 ), Inner HK (Hon.)( 2003  )'}\n",
      "44 {'Member': 'Yan, John M.Y., S.C. 甄孟義 資深大律師', 'Address': 'Rm 128, New Henry House, 10 Ice House St, Central, H.K. [Annex to Andrew Liao SC’s Chambers]', 'Tel.No': '25248830', 'Fax.No': '28683896', 'E-mail': 'jyan@netvigator.com', 'Call': 'HK( 1984 ), Inner HK( 2003  )'}\n",
      "45 {'Member': 'Yuen, Rimsky K.K., S.C. 袁國強 資深大律師', 'Name of Chambers': 'Temple Chambers', 'Address': '16/F, One Pacific Place, 88 Queensway, Admiralty, H.K.', 'Tel.No': '25232003', 'Fax.No': '28100302', 'Call': 'HK( 1987 ), Inner HK( 2003  )'}\n",
      "46 {'Member': 'Chua, Guan-Hock, S.C. 蔡源福 資深大律師', 'Name of Chambers': 'Des Voeux Chambers', 'Address': '38/F, Gloucester Tower, The Landmark,  Central, H.K.', 'Tel.No': '25263071', 'Fax.No': '25250317', 'E-mail': 'ghchua@dvc.com.hk', 'Quals': 'MA (Cantab)', 'Call': 'HK( 1987 ), Inner HK( 2003 ), UK( 1987  )'}\n",
      "47 {'Member': 'Shieh, Paul W.T., S.C. 石永泰 資深大律師', 'Name of Chambers': 'Temple Chambers', 'Address': '16/F, One Pacific Place, 88 Queensway, Admiralty, H.K.', 'Tel.No': '25232003', 'Fax.No': '28100302', 'Website': 'http://www.templechambers.com', 'Call': 'HK( 1988 ), Inner HK( 2003  )'}\n",
      "48 {'Member': 'Wong, Horace Y.L., S.C. 黃旭倫 資深大律師', 'Name of Chambers': \"Sir Oswald Cheung's Chambers\", 'Address': '10/F, New Henry House, 10 Ice House St, Central, H.K.', 'Tel.No': '25242156', 'Fax.No': '28686784', 'E-mail': 'horace@siroswald.com', 'Call': 'HK( 1984 ), Inner HK( 2004  )'}\n",
      "49 {'Member': 'Kwok, Eric T.M., S.C. 郭棟明 資深大律師', 'Name of Chambers': 'Parkside Chambers', 'Address': 'Suite 3101, Two Pacific Place, 88 Queensway, Admiralty, H.K.', 'Tel.No': '28401130', 'Fax.No': '28100612', 'Mobile': '90417954', 'E-mail': 'eric.kwok@parksidechambers.com.hk', 'Call': 'HK( 1985 ), Inner HK( 2004 ), UK( 1984  )'}\n",
      "50 {'Member': 'Duncan, Peter N., S.C. 鄧樂勤 資深大律師', 'Name of Chambers': 'Gary Plowman S.C. Chambers', 'Address': 'Rm 1401, Tower One, Lippo Centre, 89 Queensway, Admiralty, H.K.', 'Tel.No': '25212616', 'Fax.No': '28450260', 'E-mail': 'pnduncan@netvigator.com', 'Quals': 'Solicitor (HK) [1976-1992] , Solicitor (UK) [1976 --] , LLB , FCI Arb', 'Call': 'HK( 1992 ), Inner HK( 2004 ), Cwlth( 1970  )'}\n",
      "51 {'Member': 'Clayton, Peter D., S.C.', 'Name of Chambers': 'Parkside Chambers', 'Address': 'Suite 3101, Two Pacific Place, 88 Queensway, Admiralty, H.K.', 'Tel.No': '28401130', 'Fax.No': '28100612', 'Website': 'http://www.parksidechambers.com.hk/members/peter-clayton/', 'Call': 'HK( 1982 ), Inner HK( 2005 ), UK( 1977  )'}\n",
      "52 {'Member': 'Chan, Chi Hung, S.C. 陳志鴻 資深大律師', 'Address': \"Rm 4301, Tower One, Lippo Centre, 89 Queensway, Admiralty, H.K. [Annex to Denis Chang's Chambers]\", 'Tel.No': '25251228', 'Fax.No': '28106728', 'Website': 'https://dcc.law/barrister/chan-chi-hung-sc/', 'Quals': 'LLB (LSE) , PCLL (HKU)', 'Call': 'HK( 1984 ), Inner HK( 2005  )'}\n",
      "53 {'Member': 'Pow, Jason W.N., S.C. 鮑永年 資深大律師', 'Name of Chambers': \"Jason Pow SC's Chambers\", 'Address': 'Suite 2006, One Pacific Place, 88 Queensway, Admiralty, H.K.', 'Tel.No': '25224847', 'Fax.No': '28450720', 'Call': 'HK( 1986 ), Inner HK( 2005  )'}\n",
      "54 {'Member': 'Pilbrow, David G., S.C.', 'Name of Chambers': 'Gary Plowman S.C. Chambers', 'Address': 'Rm 1401, Tower One, Lippo Centre, 89 Queensway, Admiralty, H.K.', 'Tel.No': '25212616', 'Fax.No': '28450260', 'Call': 'HK( 1989 ), Inner HK( 2005 ), UK( 1989  )'}\n"
     ]
    },
    {
     "name": "stdout",
     "output_type": "stream",
     "text": [
      "55 {'Member': 'Tse, Joseph W.Y., S.C. 謝華淵,若瑟 資深大律師', 'Name of Chambers': 'Des Voeux Chambers', 'Address': '38/F, Gloucester Tower, The Landmark,  Central, H.K.', 'Tel.No': '28101008 /25263071', 'Fax.No': '28105287', 'Call': 'HK( 1984 ), Inner HK( 2006  )'}\n",
      "56 {'Member': 'Tam, Winnie, S.C. (Ms) 譚允芝 資深大律師 (女士)', 'Name of Chambers': 'Des Voeux Chambers', 'Address': '38/F, Gloucester Tower, The Landmark,  Central, H.K.', 'Tel.No': '25242225', 'Fax.No': '25373393', 'E-mail': 'winnietam@dvc.com.hk', 'Call': 'HK( 1984 ), Inner HK( 2006 ), UK( 1988  )'}\n",
      "57 {'Member': 'Mok, Johnny S.L., S.C. 莫樹聯 資深大律師', 'Name of Chambers': 'Des Voeux Chambers', 'Address': '38/F, Gloucester Tower, The Landmark,  Central, H.K.', 'Tel.No': '25242225', 'Fax.No': '25373393', 'E-mail': 'mail@johnnymok.com', 'Call': 'HK( 1986 ), Inner HK( 2006  )(Voluntary Removal – 1992)\\n(Restoration of Admission – 1993)'}\n",
      "58 {'Member': 'Harris, Paul, S.C. 夏博義 資深大律師', 'Name of Chambers': \"Denis Chang's Chambers\", 'Address': '9th Floor, One Lippo Centre, 89 Queensway, Admiralty, H.K.', 'Tel.No': '28107222', 'Fax.No': '28450439', 'E-mail': 'pharris@dcc.law', 'Website': 'https://dcc.law/barrister/paul-harris-sc/', 'Quals': 'MA (Oxon)', 'Call': 'HK( 1993 ), Inner HK( 2006 ), UK( 1976  )'}\n",
      "59 {'Member': 'Barlow, Barrie, S.C.', 'Name of Chambers': 'Des Voeux Chambers', 'Address': '38/F, Gloucester Tower, The Landmark,  Central, H.K.', 'Tel.No': '25263071', 'Fax.No': '28105287', 'Website': 'http://www.dvc.hk/en/members-of-chambers/silks/barrie-barlow-s.c', 'Call': 'HK( 1984 ), Inner HK( 2007 ), Cwlth( 1975  )'}\n",
      "60 {'Member': 'Burns, S. Ashley, S.C.', 'Name of Chambers': 'Temple Chambers', 'Address': '16/F, One Pacific Place, 88 Queensway, Admiralty, H.K.', 'Tel.No': '25232003', 'Fax.No': '28100302', 'Website': 'http://www.templechambers.com', 'Quals': 'Solicitor (HK) [1977-1996] , Solicitor (UK) [1972-1996]', 'Call': 'HK( 1996 ), Inner HK( 2007  )'}\n",
      "61 {'Member': 'Lee, Robert S.K., S.C. 李紹強 資深大律師 *', 'Name of Chambers': \"Cheng Huan SC's Chambers\", 'Address': '15/F, Dina House, 11 Duddell St, Central, H.K.', 'Tel.No': '25262293', 'Fax.No': '28453749', 'E-mail': 'robertsklee@gmail.com', 'Call': 'HK( 1988 ), Inner HK( 2008  )'}\n",
      "62 {'Member': 'Draycott, Charlotte E., S.C. (Ms) 郭莎樂 資深大律師 (女士)', 'Name of Chambers': 'Central Chambers', 'Address': 'Rm 418, Tower Two, Lippo Centre, 89 Queensway, Admiralty, H.K.', 'Tel.No': '25213517', 'Fax.No': '28681965', 'E-mail': 'centlaw@netvigator.com', 'Call': 'HK( 1988 ), Inner HK( 2008 ), UK( 1981  )'}\n",
      "63 {'Member': 'Houghton, Anthony K., S.C.', 'Name of Chambers': 'Des Voeux Chambers', 'Address': '38/F, Gloucester Tower, The Landmark,  Central, H.K.', 'Tel.No': '25263071', 'Fax.No': '28105287', 'E-mail': 'ahsc@outlook.com', 'Quals': 'FHKI Arb , FCI Arb , Chartered Arbitrator , MHKIS , MRICS', 'Call': 'HK( 1989 ), Inner HK( 2008 ), UK( 1988  )'}\n",
      "64 {'Member': 'Ramanathan, Kumar, S.C. 林孟達 資深大律師', 'Name of Chambers': '601 Dina House', 'Address': 'Rm 601, Dina House, 11 Duddell St, Central, H.K.', 'Tel.No': '28452020', 'Fax.No': '25960769', 'Quals': 'LLB , PCLL', 'Call': 'HK( 1978 ), Inner HK( 2009  )'}\n",
      "65 {'Member': 'Cooney, Nicholas James, S.C. 高樂賢 資深大律師', 'Name of Chambers': 'Gilt Chambers', 'Address': '8/F, Far East Finance Centre, 16 Harcourt Rd, Admiralty, H.K.', 'Tel.No': '28668233', 'Fax.No': '28667858', 'E-mail': 'njcooney@netvigator.com', 'Quals': 'Solicitor (Australia) [1980 --]', 'Call': 'HK( 2000 ), Inner HK( 2009 ), Cwlth( 1980  )'}\n",
      "66 {'Member': 'Yu, Selwyn, S.C. 余承章 資深大律師', 'Name of Chambers': 'Bernacchi Chambers', 'Address': '1402, Tower 1, Admiralty Centre, 18 Harcourt Rd, Admiralty, H.K.', 'Tel.No': '25220066', 'Fax.No': '28450851', 'Call': 'HK( 1990 ), Inner HK( 2010 ), UK( 1989  )'}\n",
      "67 {'Member': 'Harris, Graham A., S.C. 夏偉志 資深大律師', 'Name of Chambers': 'Liberty Chambers', 'Address': '3102, Tower 1, Admiralty Centre, 18 Harcourt Rd, Admiralty, H.K.', 'Tel.No': '28108222', 'Fax.No': '28100777', 'E-mail': 'grahamharris@libertychambers.com', 'Website': 'http://libertychambers.com/members/graham-harris-sc/', 'Call': 'HK( 1985 ), Inner HK( 2011 ), UK( 1975  )'}\n",
      "68 {'Member': 'Wong, Stewart K.M., S.C. 黃繼明 資深大律師', 'Name of Chambers': 'Temple Chambers', 'Address': '16/F, One Pacific Place, 88 Queensway, Admiralty, H.K.', 'Tel.No': '25232003', 'Fax.No': '28100302', 'Website': 'http://www.templechambers.com', 'Quals': 'CEDR Accredited Mediator , MCI Arb', 'Call': 'HK( 1987 ), Inner HK( 2011  )'}\n",
      "69 {'Member': 'Li, Chau-Yuen, S.C. 李秋源 資深大律師', 'Name of Chambers': \"Sir Oswald Cheung's Chambers\", 'Address': '10/F, New Henry House, 10 Ice House St, Central, H.K.', 'Tel.No': '25242156', 'Fax.No': '28459449', 'E-mail': 'cyli@siroswald.com', 'Call': 'HK( 1987 ), Inner HK( 2012  )'}\n",
      "70 {'Member': 'Pang, Robert Y.H., S.C. 彭耀鴻 資深大律師', 'Name of Chambers': 'Bernacchi Chambers', 'Address': '1402, Tower 1, Admiralty Centre, 18 Harcourt Rd, Admiralty, H.K.', 'Tel.No': '25220066', 'Fax.No': '28450851', 'E-mail': 'robertpang@bernacchichambers.com', 'Quals': 'FHKI Arb , FCI Arb , CEDR Accredited Mediator', 'Call': 'HK( 1988 ), Inner HK( 2012  )'}\n",
      "71 {'Member': 'Fung, Eugene T.S., S.C. 馮庭碩 資深大律師', 'Name of Chambers': 'Temple Chambers', 'Address': '16/F, One Pacific Place, 88 Queensway, Admiralty, H.K.', 'Tel.No': '25232003', 'Fax.No': '28100302', 'Website': 'http://www.templechambers.com', 'Quals': 'LLM (Cantab) , MA (Cantab)', 'Call': 'HK( 1997 ), Inner HK( 2012 ), UK( 1997  )'}\n",
      "72 {'Member': 'Manzoni, Charles, S.C.', 'Name of Chambers': 'Temple Chambers', 'Address': '16/F, One Pacific Place, 88 Queensway, Admiralty, H.K.', 'Tel.No': '22481806', 'Fax.No': '28100302', 'E-mail': 'Manzoni@templechambers.com', 'Website': 'http://www.templechambers.com', 'Call': 'HK( 2000 ), Inner HK( 2012 ), UK( 1988  )'}\n",
      "73 {'Member': 'Lam, Paul T.K., S.C. 林定國 資深大律師', 'Name of Chambers': 'Parkside Chambers', 'Address': 'Suite 3101, Two Pacific Place, 88 Queensway, Admiralty, H.K.', 'Tel.No': '28401130', 'Fax.No': '28100612', 'Website': 'http://www.parksidechambers.com.hk/members/paul-t-k-lam/', 'Call': 'HK( 1992 ), Inner HK( 2013  )'}\n",
      "74 {'Member': 'Cheng, Yvonne W.S., S.C. (Ms) 鄭蕙心 資深大律師 (女士)', 'Name of Chambers': 'Temple Chambers', 'Address': '16/F, One Pacific Place, 88 Queensway, Admiralty, H.K.', 'Tel.No': '25232003', 'Fax.No': '28100302', 'Website': 'http://www.templechambers.com', 'Quals': 'MA (Oxon)', 'Call': 'HK( 1996 ), Inner HK( 2013 ), UK( 1996  )'}\n",
      "75 {'Member': 'Wong, William M.F., S.C. 王鳴峰 資深大律師 *', 'Name of Chambers': 'Des Voeux Chambers', 'Address': '38/F, Gloucester Tower, The Landmark,  Central, H.K.', 'Tel.No': '25263071', 'Fax.No': '25268610', 'Mobile': '98002876', 'E-mail': 'wilexong@netvigator.com', 'Quals': 'BA (Oxon) , BBA (CUHK) , CEDR Accredited Mediator , FCI Arb , PhD (Peking U.)', 'Call': 'HK( 1997 ), Inner HK( 2013 ), UK( 1997 ), BVI( 2011  )'}\n",
      "76 {'Member': 'Ismail, Roxanne, S.C. (Ms) 葉靜思 資深大律師 (女士)', 'Name of Chambers': 'Temple Chambers', 'Address': '16/F, One Pacific Place, 88 Queensway, Admiralty, H.K.', 'Tel.No': '25232003', 'Fax.No': '28100302', 'Website': 'http://www.templechambers.com', 'Call': 'HK( 2001 ), Inner HK( 2013 ), UK( 1993  )'}\n",
      "77 {'Member': 'Strachan, Douglas Mark Arthur, S.C.', 'Name of Chambers': 'Parkside Chambers', 'Address': 'Suite 3101, Two Pacific Place, 88 Queensway, Admiralty, H.K.', 'Tel.No': '28401130', 'Fax.No': '28100612', 'Website': 'http://www.parksidechambers.com.hk/members/mark-strachan/', 'Call': 'HK( 2002 ), Inner HK( 2013 ), UK( 1969  )'}\n",
      "78 {'Member': 'Pennicott, Ian, S.C.', 'Name of Chambers': 'Des Voeux Chambers', 'Address': '38/F, Gloucester Tower, The Landmark,  Central, H.K.', 'Tel.No': '25263071', 'Fax.No': '28105287', 'Call': 'HK( 1984 ), Inner HK( 2014 ), UK( 1982  )'}\n",
      "79 {'Member': 'Yip, Anita H.K., S.C. (Ms) 葉巧琦 資深大律師 (女士)', 'Name of Chambers': '28 Admiralty', 'Address': 'Unit 2807, 28/F, Tower 1, Admiralty Centre, 18 Harcourt Rd, Admiralty, H.K.', 'Tel.No': '21229980', 'Fax.No': '21229990', 'E-mail': 'aysc@28admiralty.com', 'Call': 'HK( 1989 ), Inner HK( 2014  )'}\n",
      "80 {'Member': 'Leung, Raymond Wai-Man, S.C. 梁偉文 資深大律師', 'Name of Chambers': 'Temple Chambers', 'Address': '16/F, One Pacific Place, 88 Queensway, Admiralty, H.K.', 'Tel.No': '25232003', 'Fax.No': '28100302', 'Website': 'http://www.templechambers.com', 'Call': 'HK( 1992 ), Inner HK( 2014 ), UK( 1992  )'}\n"
     ]
    },
    {
     "name": "stdout",
     "output_type": "stream",
     "text": [
      "81 {'Member': 'Wong, Anson M.K., S.C. 黃文傑 資深大律師 *', 'Name of Chambers': 'Des Voeux Chambers', 'Address': '38/F, Gloucester Tower, The Landmark,  Central, H.K.', 'Tel.No': '25263071', 'Fax.No': '28105287', 'Mobile': '60922188', 'E-mail': 'ansonwong@dvc.com.hk', 'Quals': 'LLB (HKU) , LLM (Cantab) , Bar Scholarship (1999)', 'Call': 'HK( 1999 ), Inner HK( 2014  )'}\n",
      "82 {'Member': 'Kat, Nigel, S.C. 祁志 資深大律師', 'Name of Chambers': 'Parkside Chambers', 'Address': 'Suite 3101, Two Pacific Place, 88 Queensway, Admiralty, H.K.', 'Tel.No': '28401130', 'Fax.No': '28100612', 'E-mail': 'chambers@nkat.net', 'Website': 'http://www.parksidechambers.com.hk/members/nigel-kat/', 'Quals': 'LLB , MBA (Export Management & International Business) , FHKI Arb , FCI Arb , Chartered Arbitrator , CEDR Accredited Mediator', 'Call': 'HK( 1984 ), Inner HK( 2015 ), UK( 1977  )'}\n",
      "83 {'Member': 'Hui, Martin S.T., S.C. 許紹鼎 資深大律師', 'Name of Chambers': 'Gary Plowman S.C. Chambers', 'Address': 'Rm 1401, Tower One, Lippo Centre, 89 Queensway, Admiralty, H.K.', 'Tel.No': '25212616', 'Fax.No': '28450260', 'Call': 'HK( 1995 ), Inner HK( 2015  )'}\n",
      "84 {'Member': 'Pun, Hectar H., S.C. 潘熙 資深大律師 *', 'Name of Chambers': \"Denis Chang's Chambers\", 'Address': '9th Floor, One Lippo Centre, 89 Queensway, Admiralty, H.K.', 'Tel.No': '28107222', 'Fax.No': '28450439', 'Website': 'https://dcc.law/barrister/hectar-pun-sc/', 'Call': 'HK( 1995 ), Inner HK( 2015  )'}\n",
      "85 {'Member': 'Bartlett, Jeremy J., S.C. 包智力 資深大律師', 'Name of Chambers': \"Prince's Chambers\", 'Address': '3002, Tower Two, Lippo Centre, 89 Queensway, Admiralty, H.K.', 'Tel.No': '25257388', 'Fax.No': '25253930', 'Quals': 'Solicitor (HK) [1988-1999] , Solicitor (UK) [1988-1999] , Solicitor (NZ) [1984 --] , Solicitor (Victoria) [1986 --]', 'Call': 'HK( 1999 ), Inner HK( 2015  )'}\n",
      "86 {'Member': 'Lam, Douglas, S.C. 藍德業 資深大律師 *', 'Name of Chambers': 'Des Voeux Chambers', 'Address': '38/F, Gloucester Tower, The Landmark,  Central, H.K.', 'Tel.No': '25263071', 'Fax.No': '25373393', 'E-mail': 'douglaslam@dvc.com.hk', 'Call': 'HK( 1999 ), Inner HK( 2015  )'}\n",
      "87 {'Member': 'Dawes, Victor, S.C. 杜淦堃 資深大律師', 'Name of Chambers': 'Temple Chambers', 'Address': '16/F, One Pacific Place, 88 Queensway, Admiralty, H.K.', 'Tel.No': '25232003', 'Fax.No': '28100302', 'Website': 'http://www.templechambers.com', 'Call': 'HK( 1999 ), Inner HK( 2015  )'}\n",
      "88 {'Member': 'Man, Bernard, S.C. 文本立 資深大律師 *', 'Name of Chambers': 'Temple Chambers', 'Address': '16/F, One Pacific Place, 88 Queensway, Admiralty, H.K.', 'Tel.No': '28401131', 'Fax.No': '28100302', 'E-mail': 'bman@templechambers.com', 'Website': 'http://www.templechambers.com', 'Quals': 'BA (Oxon) , BCL (Oxon) , Bar Scholarship (2000)', 'Call': 'HK( 2000 ), Inner HK( 2015 ), UK( 2000  )'}\n",
      "89 {'Member': 'Walsh, Wayne Patrick, S.C.', 'Name of Chambers': 'Parkside Chambers', 'Address': 'Suite 3101, Two Pacific Place, 88 Queensway, Admiralty, H.K.', 'Tel.No': '28401130', 'Fax.No': '28100612', 'E-mail': 'wayne.walsh@parksidechambers.com.hk', 'Website': 'http://www.parksidechambers.com.hk/members/wayne-walsh-sc/', 'Call': 'HK( 2006 ), Inner HK( 2015 ), Cwlth( 1986  )'}\n",
      "90 {'Member': 'Lai, Yuen Kee Anna, S.C. (Ms) 黎婉姫 資深大律師 (女士)', 'Name of Chambers': 'Gary Plowman S.C. Chambers', 'Address': 'Rm 1401, Tower One, Lippo Centre, 89 Queensway, Admiralty, H.K.', 'Tel.No': '25212616', 'Fax.No': '28450260', 'E-mail': 'annayklai@plowmanchambers.com', 'Website': 'http://www.plowmanchambers.com', 'Call': 'HK( 1991 ), Inner HK( 2016  )'}\n",
      "91 {'Member': 'Khaw, Richard, S.C. 許偉強 資深大律師 *', 'Name of Chambers': 'Temple Chambers', 'Address': '16/F, One Pacific Place, 88 Queensway, Admiralty, H.K.', 'Tel.No': '25232003', 'Fax.No': '28100302', 'Website': 'http://www.templechambers.com', 'Quals': 'FHKIArb', 'Call': 'HK( 1993 ), Inner HK( 2016  )'}\n",
      "92 {'Member': 'Maurellet, José Antonio, S.C. 毛樂禮 資深大律師', 'Name of Chambers': 'Des Voeux Chambers', 'Address': '38/F, Gloucester Tower, The Landmark,  Central, H.K.', 'Tel.No': '25263071', 'Fax.No': '28450274', 'E-mail': 'bowie@dvc.hk', 'Website': 'http://www.dvc.hk', 'Quals': 'MA (Oxon) , Bar Scholarship (2000) , AHKI Arb , CEDR Accredited Mediator', 'Call': 'HK( 2000 ), Inner HK( 2016  )'}\n",
      "93 {'Member': 'Stock, Alexander, S.C. 司徒歷 資深大律師', 'Name of Chambers': 'Temple Chambers', 'Address': '16/F, One Pacific Place, 88 Queensway, Admiralty, H.K.', 'Tel.No': '25232003', 'Fax.No': '28100302', 'Website': 'http://www.templechambers.com', 'Quals': 'LLM (Cantab) , MA (Oxon)', 'Call': 'HK( 2001 ), Inner HK( 2016 ), UK( 1998  )'}\n",
      "94 {'Member': 'Chan, Abraham, S.C. 陳樂信 資深大律師', 'Name of Chambers': 'Temple Chambers', 'Address': '16/F, One Pacific Place, 88 Queensway, Admiralty, H.K.', 'Tel.No': '25232003', 'Fax.No': '28100302', 'Website': 'http://www.templechambers.com', 'Quals': 'LLB (U. Lon) , BCL (Oxon) , M Phil (Oxon) , Bar Scholarship (2003)', 'Call': 'HK( 2000 ), Inner HK( 2017  )'}\n",
      "95 {'Member': 'Wong, Maggie P.K., S.C. (Ms) 黃佩琪 資深大律師 (女士)', 'Name of Chambers': 'Gary Plowman S.C. Chambers', 'Address': 'Rm 1401, Tower One, Lippo Centre, 89 Queensway, Admiralty, H.K.', 'Tel.No': '25212616', 'Fax.No': '28450260', 'Call': 'HK( 2000 ), Inner HK( 2018  )'}\n",
      "96 {'Member': 'Choy, Edwin W.B., S.C. 蔡維邦 資深大律師', 'Address': '10/F, Printing House, 6 Duddell St, Central, H.K.', 'Tel.No': '25260068', 'Fax.No': '28400131', 'Website': 'https://www.lokchambers.com/members/edwin-choy/', 'Call': 'HK( 2000 ), Inner HK( 2018  )'}\n",
      "97 {'Member': 'Pao, Jin, S.C. 鮑進龍 資深大律師', 'Name of Chambers': 'Temple Chambers', 'Address': '16/F, One Pacific Place, 88 Queensway, Admiralty, H.K.', 'Tel.No': '25232003', 'Fax.No': '28100302', 'E-mail': 'jinpao@templechambers.com', 'Website': 'http://www.templechambers.com', 'Quals': 'LLM (Harv) , Bar Scholarship (2001)', 'Call': 'HK( 2002 ), Inner HK( 2018  )'}\n",
      "98 {'Member': 'Chan, Derek C.L., S.C. 陳政龍 資深大律師', 'Name of Chambers': 'Gary Plowman S.C. Chambers', 'Address': 'Rm 1401, Tower One, Lippo Centre, 89 Queensway, Admiralty, H.K.', 'Tel.No': '25212616', 'Fax.No': '28450260', 'Quals': 'Bar Scholarship (2003) , B Comm , LLB (Auckland)', 'Call': 'HK( 2004 ), Inner HK( 2018 ), NZ( 2002 ), NSW( 2002  )'}\n",
      "99 {'Member': 'Sit, Eva Y.W., S.C. (Ms) 薛日華 資深大律師 (女士)', 'Name of Chambers': 'Temple Chambers', 'Address': '16/F, One Pacific Place, 88 Queensway, Admiralty, H.K.', 'Tel.No': '25232003', 'Fax.No': '28100302', 'E-mail': 'esit@templechambers.com', 'Website': 'http://www.templechambers.com', 'Quals': 'BA (Oxon) , BCL (Oxon) , Bar Scholarship (2003)', 'Call': 'HK( 2002 ), Inner HK( 2019  )'}\n",
      "100 {'Member': 'Suen, Jenkin, S.C. 孫靖乾 資深大律師 *', 'Name of Chambers': 'Des Voeux Chambers', 'Address': '38/F, Gloucester Tower, The Landmark,  Central, H.K.', 'Tel.No': '25263071', 'Fax.No': '28105287', 'E-mail': 'jenkinsuen@dvc.com.hk', 'Quals': 'BCL (Oxon)', 'Call': 'HK( 2004 ), Inner HK( 2019  )'}\n",
      "101 {'Member': 'Lam, Rachel Y.K., S.C. (Ms) 林欣琪 資深大律師 (女士) *', 'Name of Chambers': 'Des Voeux Chambers', 'Address': '38/F, Gloucester Tower, The Landmark,  Central, H.K.', 'Tel.No': '25263071', 'Fax.No': '28105287', 'E-mail': 'rachelyklam@dvc.com.hk', 'Call': 'HK( 2004 ), Inner HK( 2019  )'}\n",
      "102 {'Member': 'Li, Laurence L.J., S.C. 李律仁 資深大律師 *', 'Name of Chambers': 'Temple Chambers', 'Address': '16/F, One Pacific Place, 88 Queensway, Admiralty, H.K.', 'Tel.No': '28401131', 'Fax.No': '28100302', 'E-mail': 'laurenceli@templechambers.com', 'Website': 'http://www.templechambers.com', 'Quals': 'BA (Yale) , JD (Harv)', 'Call': 'HK( 2006 ), Inner HK( 2019 ), New York( 1998  )'}\n",
      "103 {'Member': 'Chang, Jonathan T.Y., S.C. 張天任 資深大律師 *', 'Name of Chambers': 'Temple Chambers', 'Address': '16/F, One Pacific Place, 88 Queensway, Admiralty, H.K.', 'Tel.No': '25232003', 'Fax.No': '28100302', 'E-mail': 'jchang@templechambers.com', 'Website': 'http://www.templechambers.com', 'Quals': 'LLB (HKU) , LLM (U. Lon) , Bar Scholarship (2001) , CEDR Accredited Mediator', 'Call': 'HK( 2001 ), Inner HK( 2020  )'}\n",
      "Take 183.27792930603027 second to crawl 104 items\n"
     ]
    }
   ],
   "source": [
    "data = []\n",
    "i = 0\n",
    "start = time.time()\n",
    "for url in member_url:\n",
    "    USER_AGENT = random.choice(USER_AGENT_LIST)\n",
    "    headers = {'user-agent': USER_AGENT}\n",
    "    html = session.get(url, headers=headers)\n",
    "    soup = BeautifulSoup(html.text, 'html.parser')\n",
    "    data.append(extract_data(soup, 'Eng'))\n",
    "    print(i, data[-1])\n",
    "    i += 1\n",
    "end = time.time()\n",
    "print('Take {} second to crawl 104 items'.format(end-start))"
   ]
  },
  {
   "cell_type": "markdown",
   "metadata": {},
   "source": [
    "Save data to Dataframe"
   ]
  },
  {
   "cell_type": "code",
   "execution_count": 69,
   "metadata": {
    "scrolled": true
   },
   "outputs": [
    {
     "name": "stdout",
     "output_type": "stream",
     "text": [
      "                              Member  \\\n",
      "0   Lee, Martin C.M., S.C. 李柱銘 資深大律師   \n",
      "1  Chang, Denis K.L., S.C. 張健利 資深大律師   \n",
      "2              Griffiths, John, S.C.   \n",
      "3         Cheng, Huan, S.C. 清洪 資深大律師   \n",
      "4  Chan, Edward K.S., S.C. 陳景生 資深大律師   \n",
      "\n",
      "                                             Address    Tel.No    Fax.No  \\\n",
      "0  704A, Tower 1, Admiralty Centre, 18 Harcourt R...  25290864  28612829   \n",
      "1  9th Floor, One Lippo Centre, 89 Queensway, Adm...  28107222  28450439   \n",
      "2  38/F, Gloucester Tower, The Landmark,  Central...  25263071  28105287   \n",
      "3     15/F, Dina House, 11 Duddell St, Central, H.K.  25262293  28453749   \n",
      "4  10/F, New Henry House, 10 Ice House St, Centra...  25242156  28105656   \n",
      "\n",
      "                                        Call              Name of Chambers  \\\n",
      "0  HK( 1966 ), Inner HK( 1979 ), UK( 1965  )                           NaN   \n",
      "1  HK( 1970 ), Inner HK( 1981 ), UK( 1968  )        Denis Chang's Chambers   \n",
      "2  HK( 1979 ), Inner HK( 1982 ), UK( 1956  )            Des Voeux Chambers   \n",
      "3  HK( 1976 ), Inner HK( 1988 ), UK( 1969  )      Cheng Huan SC's Chambers   \n",
      "4  HK( 1975 ), Inner HK( 1989 ), UK( 1974  )  Sir Oswald Cheung's Chambers   \n",
      "\n",
      "                E-mail                                 Website  \\\n",
      "0                  NaN                                     NaN   \n",
      "1       dchang@dcc.law  https://dcc.law/barrister/denis-chang/   \n",
      "2                  NaN                                     NaN   \n",
      "3                  NaN                                     NaN   \n",
      "4  echan@siroswald.com                                     NaN   \n",
      "\n",
      "                Quals Mobile                     Category  \\\n",
      "0                 NaN    NaN  Professional Qualifications   \n",
      "1                 NaN    NaN  Professional Qualifications   \n",
      "2                 NaN    NaN  Professional Qualifications   \n",
      "3                 NaN    NaN  Professional Qualifications   \n",
      "4  LLB , LLM (U. Lon)    NaN  Professional Qualifications   \n",
      "\n",
      "                Organization  \n",
      "0  Hong Kong Bar Association  \n",
      "1  Hong Kong Bar Association  \n",
      "2  Hong Kong Bar Association  \n",
      "3  Hong Kong Bar Association  \n",
      "4  Hong Kong Bar Association  \n",
      "(104, 12)\n"
     ]
    }
   ],
   "source": [
    "df = pd.DataFrame(data)\n",
    "df['Category'] = 'Professional Qualifications'\n",
    "df['Organization'] = 'Hong Kong Bar Association'\n",
    "print(df.head())\n",
    "print(df.shape)"
   ]
  },
  {
   "cell_type": "markdown",
   "metadata": {},
   "source": [
    "## Data cleaning"
   ]
  },
  {
   "cell_type": "markdown",
   "metadata": {},
   "source": [
    "Add gender"
   ]
  },
  {
   "cell_type": "code",
   "execution_count": 70,
   "metadata": {},
   "outputs": [],
   "source": [
    "df['Gender'] = df['Member'].apply(lambda x: 'F' if 'Ms' in x else 'M')"
   ]
  },
  {
   "cell_type": "markdown",
   "metadata": {},
   "source": [
    "Separate Eng and Chi name"
   ]
  },
  {
   "cell_type": "code",
   "execution_count": 71,
   "metadata": {},
   "outputs": [],
   "source": [
    "df['Eng Name'] = df['Member'].apply(lambda x: x.split('S.C.')[0].strip()[:-1] if 'S.C.' in x else x)"
   ]
  },
  {
   "cell_type": "code",
   "execution_count": 72,
   "metadata": {},
   "outputs": [],
   "source": [
    "def split_chi_name(name):\n",
    "    chi_name = re.findall(r'[\\u4e00-\\u9fa5]+',name)\n",
    "    if chi_name:\n",
    "        return chi_name[0]\n",
    "    else:\n",
    "        return \"\""
   ]
  },
  {
   "cell_type": "code",
   "execution_count": 73,
   "metadata": {},
   "outputs": [],
   "source": [
    "df['Chi Name'] = df['Member'].apply(split_chi_name)"
   ]
  },
  {
   "cell_type": "markdown",
   "metadata": {},
   "source": [
    "Split First and Last Name Eng"
   ]
  },
  {
   "cell_type": "code",
   "execution_count": 74,
   "metadata": {},
   "outputs": [],
   "source": [
    "df['First Name Eng'] = df['Eng Name'].apply(lambda x: x.split(',')[1] if ',' in x else x)\n",
    "df['Last Name Eng'] = df['Eng Name'].apply(lambda x: x.split(',')[0] if ',' in x else x)"
   ]
  },
  {
   "cell_type": "markdown",
   "metadata": {},
   "source": [
    "Split First and Last Name Chi"
   ]
  },
  {
   "cell_type": "code",
   "execution_count": 75,
   "metadata": {},
   "outputs": [],
   "source": [
    "df['First Name Chi'] = df['Chi Name'].apply(lambda x: x[1:] if x else \"\")\n",
    "df['Last Name Chi'] = df['Chi Name'].apply(lambda x: x[0] if x else \"\")"
   ]
  },
  {
   "cell_type": "markdown",
   "metadata": {},
   "source": [
    "Add title"
   ]
  },
  {
   "cell_type": "code",
   "execution_count": 76,
   "metadata": {},
   "outputs": [],
   "source": [
    "df['Title'] = 'Senior Counsel'"
   ]
  },
  {
   "cell_type": "markdown",
   "metadata": {},
   "source": [
    "Order the columns"
   ]
  },
  {
   "cell_type": "code",
   "execution_count": 77,
   "metadata": {},
   "outputs": [
    {
     "data": {
      "text/plain": [
       "Index(['Member', 'Address', 'Tel.No', 'Fax.No', 'Call', 'Name of Chambers',\n",
       "       'E-mail', 'Website', 'Quals', 'Mobile', 'Category', 'Organization',\n",
       "       'Gender', 'Eng Name', 'Chi Name', 'First Name Eng', 'Last Name Eng',\n",
       "       'First Name Chi', 'Last Name Chi', 'Title'],\n",
       "      dtype='object')"
      ]
     },
     "execution_count": 77,
     "metadata": {},
     "output_type": "execute_result"
    }
   ],
   "source": [
    "df.columns"
   ]
  },
  {
   "cell_type": "code",
   "execution_count": 78,
   "metadata": {
    "scrolled": true
   },
   "outputs": [],
   "source": [
    "df = df[['Last Name Chi','First Name Chi','Chi Name',\n",
    "         'Last Name Eng','First Name Eng','Eng Name','Member',\n",
    "         'Gender','Title','Category','Organization',\n",
    "         'Name of Chambers','Quals','Call',\n",
    "         'Address','Mobile','Tel.No','Fax.No','E-mail','Website']]"
   ]
  },
  {
   "cell_type": "markdown",
   "metadata": {},
   "source": [
    "Save to csv file"
   ]
  },
  {
   "cell_type": "code",
   "execution_count": 79,
   "metadata": {},
   "outputs": [],
   "source": [
    "df.to_excel('香港大律师公会_SeniorCounsel.xlsx',encoding='utf_8_sig')\n",
    "df.to_csv('香港大律师公会_SeniorCounsel.csv',encoding='utf_8_sig')"
   ]
  }
 ],
 "metadata": {
  "kernelspec": {
   "display_name": "Python 3",
   "language": "python",
   "name": "python3"
  },
  "language_info": {
   "codemirror_mode": {
    "name": "ipython",
    "version": 3
   },
   "file_extension": ".py",
   "mimetype": "text/x-python",
   "name": "python",
   "nbconvert_exporter": "python",
   "pygments_lexer": "ipython3",
   "version": "3.7.3"
  }
 },
 "nbformat": 4,
 "nbformat_minor": 2
}
