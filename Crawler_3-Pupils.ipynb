{
 "cells": [
  {
   "cell_type": "code",
   "execution_count": 1,
   "metadata": {},
   "outputs": [],
   "source": [
    "import re\n",
    "import pandas as pd\n",
    "import numpy as np\n",
    "from bs4 import BeautifulSoup\n",
    "import requests\n",
    "from urllib.parse import parse_qs, urlparse\n",
    "from datetime import datetime\n",
    "import time\n",
    "import random"
   ]
  },
  {
   "cell_type": "markdown",
   "metadata": {},
   "source": [
    "# I. Crawl Information"
   ]
  },
  {
   "cell_type": "markdown",
   "metadata": {},
   "source": [
    "## English version "
   ]
  },
  {
   "cell_type": "markdown",
   "metadata": {},
   "source": [
    "Extract main page html, the website stores the names in javascript dataTable"
   ]
  },
  {
   "cell_type": "code",
   "execution_count": 2,
   "metadata": {},
   "outputs": [],
   "source": [
    "eng_url = \"https://www.hkba.org/Bar-List/pupils\"\n",
    "session = requests.Session()\n",
    "eng_html = session.get(eng_url)\n",
    "soup = BeautifulSoup(eng_html.text, 'html.parser')"
   ]
  },
  {
   "cell_type": "code",
   "execution_count": 24,
   "metadata": {},
   "outputs": [],
   "source": [
    "name = soup.find_all('td',{'class':'views-field views-field-field-name'})\n",
    "commence_date = soup.find_all('td',{'class':'views-field views-field-field-pupillage-commencement'})\n",
    "address = soup.find_all('td',{'class':'views-field views-field-field-chamber-address'})\n",
    "en_data = [{'Member': n.text.strip(), \n",
    "         'Commence Date': d.text.strip(), \n",
    "         'Address':a.text.split('/o')[1].strip()} for n,d,a in zip(name, commence_date, address)]"
   ]
  },
  {
   "cell_type": "markdown",
   "metadata": {},
   "source": [
    "Save data to Dataframe"
   ]
  },
  {
   "cell_type": "code",
   "execution_count": 67,
   "metadata": {
    "scrolled": true
   },
   "outputs": [
    {
     "name": "stdout",
     "output_type": "stream",
     "text": [
      "(89, 3)\n"
     ]
    }
   ],
   "source": [
    "en_df = pd.DataFrame(en_data)\n",
    "print(en_df.shape)"
   ]
  },
  {
   "cell_type": "markdown",
   "metadata": {},
   "source": [
    "## Chinese version "
   ]
  },
  {
   "cell_type": "code",
   "execution_count": 26,
   "metadata": {},
   "outputs": [],
   "source": [
    "cn_url = \"https://www.hkba.org/zh-hant/Bar-List/pupils\"\n",
    "session = requests.Session()\n",
    "cn_html = session.get(cn_url)\n",
    "soup = BeautifulSoup(cn_html.text, 'html.parser')"
   ]
  },
  {
   "cell_type": "code",
   "execution_count": 38,
   "metadata": {},
   "outputs": [],
   "source": [
    "name = soup.find_all('td',{'class':'views-field views-field-field-name'})\n",
    "commence_date = soup.find_all('td',{'class':'views-field views-field-field-pupillage-commencement'})\n",
    "address = soup.find_all('td',{'class':'views-field views-field-field-chamber-address'})\n",
    "cn_data = [{'Member': n.text.strip(), \n",
    "         'Commence Date': d.text.strip(), \n",
    "         'Address':a.text.split('\\n')[2].strip()} for n,d,a in zip(name, commence_date, address)]"
   ]
  },
  {
   "cell_type": "markdown",
   "metadata": {},
   "source": [
    "Save to dataframe"
   ]
  },
  {
   "cell_type": "code",
   "execution_count": 39,
   "metadata": {},
   "outputs": [
    {
     "name": "stdout",
     "output_type": "stream",
     "text": [
      "      Member Commence Date                           Address\n",
      "0        包德偉    01.12.2019     (臨時辦事處) 香港中環 都爹利街11號 帝納大廈901室\n",
      "1        陳振達    01.12.2019   (臨時辦事處) 香港中環 夏慤道12號 美國銀行中心3403室\n",
      "2  陳曉姸  (女士)    01.09.2019     (臨時辦事處) 香港金鐘 金鐘道89號 力寶中心第1期9樓\n",
      "3        陳珽浺    01.12.2019  (臨時辦事處) 香港金鐘 金鐘道89號 力寶中心第1期1401室\n",
      "4        陳文軒    01.09.2019    (臨時辦事處) 香港金鐘 金鐘道88號 太古廣場第1期16樓\n",
      "(89, 3)\n"
     ]
    }
   ],
   "source": [
    "cn_df = pd.DataFrame(cn_data)\n",
    "print(cn_df.head())\n",
    "print(cn_df.shape)"
   ]
  },
  {
   "cell_type": "markdown",
   "metadata": {},
   "source": [
    "Merge two dataframes"
   ]
  },
  {
   "cell_type": "code",
   "execution_count": 77,
   "metadata": {},
   "outputs": [],
   "source": [
    "df = en_df.merge(cn_df, left_index = True, right_index=True, how='outer')\n",
    "df.drop(['Commence Date_y','Address_y'],axis=1,inplace=True)\n",
    "df.columns = ['Eng Name','Commence Date','Address','Chi Name']\n",
    "df['Category'] = 'Professional Qualifications'\n",
    "df['Organization'] = 'Hong Kong Bar Association'\n",
    "df['Title'] = 'Pupil'"
   ]
  },
  {
   "cell_type": "markdown",
   "metadata": {},
   "source": [
    "## Data cleaning"
   ]
  },
  {
   "cell_type": "markdown",
   "metadata": {},
   "source": [
    "Change date format"
   ]
  },
  {
   "cell_type": "code",
   "execution_count": 78,
   "metadata": {},
   "outputs": [],
   "source": [
    "df['Commence Date'] = pd.to_datetime(df['Commence Date'],format='%d.%m.%Y')"
   ]
  },
  {
   "cell_type": "markdown",
   "metadata": {},
   "source": [
    "Add gender"
   ]
  },
  {
   "cell_type": "code",
   "execution_count": 79,
   "metadata": {},
   "outputs": [],
   "source": [
    "df['Gender'] = df['Eng Name'].apply(lambda x: 'F' if 'Ms' in x else 'M')"
   ]
  },
  {
   "cell_type": "markdown",
   "metadata": {},
   "source": [
    "Split First and Last Name Eng, delete (Ms) in first name if necessary"
   ]
  },
  {
   "cell_type": "code",
   "execution_count": 80,
   "metadata": {},
   "outputs": [],
   "source": [
    "df['First Name Eng'] = df['Eng Name'].apply(lambda x: x.split(',')[1] if ',' in x else x)\n",
    "df['First Name Eng'] = df['First Name Eng'].apply(lambda x: x[:x.find('(')] if '(' in x else x)\n",
    "df['Last Name Eng'] = df['Eng Name'].apply(lambda x: x.split(',')[0] if ',' in x else x)"
   ]
  },
  {
   "cell_type": "markdown",
   "metadata": {},
   "source": [
    "If Chi name in Eng, change its Chi name to null"
   ]
  },
  {
   "cell_type": "code",
   "execution_count": 74,
   "metadata": {},
   "outputs": [],
   "source": [
    "def search_eng_character(name):\n",
    "    eng_cha = re.search('[a-zA-Z]+',name)\n",
    "    if eng_cha:\n",
    "        return \"\"\n",
    "    else:\n",
    "        return name"
   ]
  },
  {
   "cell_type": "code",
   "execution_count": 82,
   "metadata": {},
   "outputs": [],
   "source": [
    "df['Chi Name'] = df['Chi Name'].apply(search_eng_character)"
   ]
  },
  {
   "cell_type": "markdown",
   "metadata": {},
   "source": [
    "Split First and Last Name Chi, delete (女士) in first name if necessary. If name is in Eng, skip"
   ]
  },
  {
   "cell_type": "code",
   "execution_count": 85,
   "metadata": {},
   "outputs": [],
   "source": [
    "df['First Name Chi'] = df['Chi Name'].apply(lambda x: x[1:] if x else \"\")\n",
    "df['First Name Chi'] = df['First Name Chi'].apply(lambda x: x[:x.find('(')] if '(' in x else x)\n",
    "df['Last Name Chi'] = df['Chi Name'].apply(lambda x: x[0] if x else \"\")"
   ]
  },
  {
   "cell_type": "markdown",
   "metadata": {},
   "source": [
    "Order the columns"
   ]
  },
  {
   "cell_type": "code",
   "execution_count": 87,
   "metadata": {},
   "outputs": [
    {
     "data": {
      "text/plain": [
       "Index(['Eng Name', 'Commence Date', 'Address', 'Chi Name', 'Category',\n",
       "       'Organization', 'Title', 'Gender', 'First Name Eng', 'Last Name Eng',\n",
       "       'First Name Chi', 'Last Name Chi'],\n",
       "      dtype='object')"
      ]
     },
     "execution_count": 87,
     "metadata": {},
     "output_type": "execute_result"
    }
   ],
   "source": [
    "df.columns"
   ]
  },
  {
   "cell_type": "code",
   "execution_count": 88,
   "metadata": {
    "scrolled": true
   },
   "outputs": [],
   "source": [
    "df = df[['Last Name Chi','First Name Chi','Chi Name',\n",
    "         'Last Name Eng','First Name Eng','Eng Name',\n",
    "         'Gender','Title','Commence Date',\n",
    "         'Category','Organization']]"
   ]
  },
  {
   "cell_type": "markdown",
   "metadata": {},
   "source": [
    "Save to csv file"
   ]
  },
  {
   "cell_type": "code",
   "execution_count": 90,
   "metadata": {},
   "outputs": [],
   "source": [
    "df.to_excel('香港大律师公会_Pupil.xlsx',encoding='utf_8_sig')\n",
    "df.to_csv('香港大律师公会_Pupil.csv',encoding='utf_8_sig')"
   ]
  }
 ],
 "metadata": {
  "kernelspec": {
   "display_name": "Python 3",
   "language": "python",
   "name": "python3"
  },
  "language_info": {
   "codemirror_mode": {
    "name": "ipython",
    "version": 3
   },
   "file_extension": ".py",
   "mimetype": "text/x-python",
   "name": "python",
   "nbconvert_exporter": "python",
   "pygments_lexer": "ipython3",
   "version": "3.7.3"
  }
 },
 "nbformat": 4,
 "nbformat_minor": 2
}
