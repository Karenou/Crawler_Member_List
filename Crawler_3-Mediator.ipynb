{
  "nbformat": 4,
  "nbformat_minor": 0,
  "metadata": {
    "kernelspec": {
      "display_name": "Python 3",
      "language": "python",
      "name": "python3"
    },
    "language_info": {
      "codemirror_mode": {
        "name": "ipython",
        "version": 3
      },
      "file_extension": ".py",
      "mimetype": "text/x-python",
      "name": "python",
      "nbconvert_exporter": "python",
      "pygments_lexer": "ipython3",
      "version": "3.7.3"
    },
    "colab": {
      "name": "Crawler_3-Mediator.ipynb",
      "provenance": [],
      "collapsed_sections": [],
      "toc_visible": true
    }
  },
  "cells": [
    {
      "cell_type": "code",
      "metadata": {
        "id": "kQ1LE-sfHQvV",
        "colab_type": "code",
        "colab": {}
      },
      "source": [
        "import re\n",
        "import pandas as pd\n",
        "import numpy as np\n",
        "from bs4 import BeautifulSoup\n",
        "import requests\n",
        "from datetime import datetime\n",
        "import time\n",
        "import random"
      ],
      "execution_count": 1,
      "outputs": []
    },
    {
      "cell_type": "markdown",
      "metadata": {
        "id": "b-rml-e_HQvb",
        "colab_type": "text"
      },
      "source": [
        "# I. Crawl Information"
      ]
    },
    {
      "cell_type": "markdown",
      "metadata": {
        "id": "U2mopnNYHQvc",
        "colab_type": "text"
      },
      "source": [
        "Helper function to extract information about Hong Kong Bar Association - senior counsel"
      ]
    },
    {
      "cell_type": "code",
      "metadata": {
        "id": "c3T0lvCSHQvd",
        "colab_type": "code",
        "colab": {}
      },
      "source": [
        "def extract_data(soup, language = 'Eng'):\n",
        "    '''\n",
        "    @soup: BeautifulSoup object contains html of the website\n",
        "    @language: a string indicates whether the language is Chi or Eng\n",
        "    \n",
        "    the function extract member information on current page and return a data dictionary with below format\n",
        "    return data: {'Member': name, 'Name of Chambers': ,Address': , 'Tel.No': , 'Fax.No':, 'Website': , Call':}\n",
        "    ''' \n",
        "    data = {}\n",
        "    \n",
        "    # name format: last name Eng, middle name Eng, initials Eng, title, name Chi, title Chi \n",
        "    name = soup.find('div',{'class':'barrister-name'}).text.strip().split(' ')\n",
        "    name = ' '.join(name[:-1]).strip()\n",
        "    data['Member'] = name\n",
        "    \n",
        "    # other info, split key and value using the first :\n",
        "    info = soup.find_all('div',{'class':'barrister-row'})\n",
        "    for item in info:\n",
        "        content = item.text\n",
        "        key = content[:content.find(':')]\n",
        "        value = content[content.find(':')+1:]\n",
        "        data[key] = value\n",
        "        \n",
        "    return data"
      ],
      "execution_count": 2,
      "outputs": []
    },
    {
      "cell_type": "markdown",
      "metadata": {
        "id": "IIKffvwWHQvg",
        "colab_type": "text"
      },
      "source": [
        "## English version "
      ]
    },
    {
      "cell_type": "markdown",
      "metadata": {
        "id": "tFHlMDsAHQvh",
        "colab_type": "text"
      },
      "source": [
        "Extract main page html, the website stores the names in javascript dataTable"
      ]
    },
    {
      "cell_type": "code",
      "metadata": {
        "id": "nPHh-yNKHQvh",
        "colab_type": "code",
        "colab": {}
      },
      "source": [
        "eng_url = \"https://www.hkba.org/Bar-List/mediators\"\n",
        "session = requests.Session()\n",
        "eng_html = session.get(eng_url)\n",
        "soup = BeautifulSoup(eng_html.text, 'html.parser')"
      ],
      "execution_count": 3,
      "outputs": []
    },
    {
      "cell_type": "markdown",
      "metadata": {
        "id": "NqVeiL-jHQvk",
        "colab_type": "text"
      },
      "source": [
        "get the html where the javascript defines the dataSet variable"
      ]
    },
    {
      "cell_type": "code",
      "metadata": {
        "scrolled": true,
        "id": "Fg0QMf6mHQvl",
        "colab_type": "code",
        "colab": {}
      },
      "source": [
        "content = soup.find_all('script')[25].text\n",
        "end_str = 'zimmern-richard\"],]'\n",
        "idx = content.find(end_str)\n",
        "# get only dataset html\n",
        "content = content[:idx+len(end_str)]\n",
        "# get only lists of html\n",
        "content = content.split('[')[2:]"
      ],
      "execution_count": 4,
      "outputs": []
    },
    {
      "cell_type": "markdown",
      "metadata": {
        "id": "TdcU96hhHQvo",
        "colab_type": "text"
      },
      "source": [
        "Get the html of each member's website"
      ]
    },
    {
      "cell_type": "code",
      "metadata": {
        "id": "jyR8468qHQvs",
        "colab_type": "code",
        "colab": {}
      },
      "source": [
        "def extract_member_html(html):\n",
        "    html_prefix = 'https://www.hkba.org/'\n",
        "    url = re.search('barrister/[0-9a-zA-ZÀ-ÿ-.\\-]+',html)\n",
        "    if url:\n",
        "        return html_prefix + url.group()\n",
        "    else:\n",
        "        return \"\""
      ],
      "execution_count": 5,
      "outputs": []
    },
    {
      "cell_type": "code",
      "metadata": {
        "id": "54QkZbl1HQvw",
        "colab_type": "code",
        "colab": {}
      },
      "source": [
        "content_df = pd.DataFrame(content, columns = ['html'])\n",
        "content_df.html = content_df.html.apply(extract_member_html)\n",
        "member_url = content_df.html.tolist()"
      ],
      "execution_count": 6,
      "outputs": []
    },
    {
      "cell_type": "markdown",
      "metadata": {
        "id": "p2P1xSghHQv0",
        "colab_type": "text"
      },
      "source": [
        "Extract member data on all pages. To mimic human visits, set to headers as below."
      ]
    },
    {
      "cell_type": "code",
      "metadata": {
        "id": "48M1EWUaHQv1",
        "colab_type": "code",
        "colab": {}
      },
      "source": [
        "USER_AGENT_LIST = [\n",
        "    \"Mozilla/4.0 (compatible; MSIE 6.0; Windows NT 5.1; SV1; AcooBrowser; .NET CLR 1.1.4322; .NET CLR 2.0.50727)\",\n",
        "    \"Mozilla/4.0 (compatible; MSIE 7.0; Windows NT 6.0; Acoo Browser; SLCC1; .NET CLR 2.0.50727; Media Center PC 5.0; .NET CLR 3.0.04506)\",\n",
        "    \"Mozilla/4.0 (compatible; MSIE 7.0; AOL 9.5; AOLBuild 4337.35; Windows NT 5.1; .NET CLR 1.1.4322; .NET CLR 2.0.50727)\",\n",
        "    \"Mozilla/5.0 (Windows; U; MSIE 9.0; Windows NT 9.0; en-US)\",\n",
        "    \"Mozilla/5.0 (compatible; MSIE 9.0; Windows NT 6.1; Win64; x64; Trident/5.0; .NET CLR 3.5.30729; .NET CLR 3.0.30729; .NET CLR 2.0.50727; Media Center PC 6.0)\",\n",
        "    \"Mozilla/5.0 (compatible; MSIE 8.0; Windows NT 6.0; Trident/4.0; WOW64; Trident/4.0; SLCC2; .NET CLR 2.0.50727; .NET CLR 3.5.30729; .NET CLR 3.0.30729; .NET CLR 1.0.3705; .NET CLR 1.1.4322)\",\n",
        "    \"Mozilla/4.0 (compatible; MSIE 7.0b; Windows NT 5.2; .NET CLR 1.1.4322; .NET CLR 2.0.50727; InfoPath.2; .NET CLR 3.0.04506.30)\",\n",
        "    \"Mozilla/5.0 (Windows; U; Windows NT 5.1; zh-CN) AppleWebKit/523.15 (KHTML, like Gecko, Safari/419.3) Arora/0.3 (Change: 287 c9dfb30)\",\n",
        "    \"Mozilla/5.0 (X11; U; Linux; en-US) AppleWebKit/527+ (KHTML, like Gecko, Safari/419.3) Arora/0.6\",\n",
        "    \"Mozilla/5.0 (Windows; U; Windows NT 5.1; en-US; rv:1.8.1.2pre) Gecko/20070215 K-Ninja/2.1.1\",\n",
        "    \"Mozilla/5.0 (Windows; U; Windows NT 5.1; zh-CN; rv:1.9) Gecko/20080705 Firefox/3.0 Kapiko/3.0\",\n",
        "    \"Mozilla/5.0 (X11; Linux i686; U;) Gecko/20070322 Kazehakase/0.4.5\",\n",
        "    \"Mozilla/5.0 (X11; U; Linux i686; en-US; rv:1.9.0.8) Gecko Fedora/1.9.0.8-1.fc10 Kazehakase/0.5.6\",\n",
        "    \"Mozilla/5.0 (Windows NT 6.1; WOW64) AppleWebKit/535.11 (KHTML, like Gecko) Chrome/17.0.963.56 Safari/535.11\",\n",
        "    \"Mozilla/5.0 (Macintosh; Intel Mac OS X 10_7_3) AppleWebKit/535.20 (KHTML, like Gecko) Chrome/19.0.1036.7 Safari/535.20\",\n",
        "    \"Opera/9.80 (Macintosh; Intel Mac OS X 10.6.8; U; fr) Presto/2.9.168 Version/11.52\",\n",
        "    \"Mozilla/5.0 (Windows NT 6.1; WOW64) AppleWebKit/536.11 (KHTML, like Gecko) Chrome/20.0.1132.11 TaoBrowser/2.0 Safari/536.11\",\n",
        "    \"Mozilla/5.0 (Windows NT 6.1; WOW64) AppleWebKit/537.1 (KHTML, like Gecko) Chrome/21.0.1180.71 Safari/537.1 LBBROWSER\",\n",
        "    \"Mozilla/5.0 (compatible; MSIE 9.0; Windows NT 6.1; WOW64; Trident/5.0; SLCC2; .NET CLR 2.0.50727; .NET CLR 3.5.30729; .NET CLR 3.0.30729; Media Center PC 6.0; .NET4.0C; .NET4.0E; LBBROWSER)\",\n",
        "    \"Mozilla/4.0 (compatible; MSIE 6.0; Windows NT 5.1; SV1; QQDownload 732; .NET4.0C; .NET4.0E; LBBROWSER)\",\n",
        "    \"Mozilla/5.0 (Windows NT 6.1; WOW64) AppleWebKit/535.11 (KHTML, like Gecko) Chrome/17.0.963.84 Safari/535.11 LBBROWSER\",\n",
        "    \"Mozilla/4.0 (compatible; MSIE 7.0; Windows NT 6.1; WOW64; Trident/5.0; SLCC2; .NET CLR 2.0.50727; .NET CLR 3.5.30729; .NET CLR 3.0.30729; Media Center PC 6.0; .NET4.0C; .NET4.0E)\",\n",
        "    \"Mozilla/5.0 (compatible; MSIE 9.0; Windows NT 6.1; WOW64; Trident/5.0; SLCC2; .NET CLR 2.0.50727; .NET CLR 3.5.30729; .NET CLR 3.0.30729; Media Center PC 6.0; .NET4.0C; .NET4.0E; QQBrowser/7.0.3698.400)\",\n",
        "    \"Mozilla/4.0 (compatible; MSIE 6.0; Windows NT 5.1; SV1; QQDownload 732; .NET4.0C; .NET4.0E)\",\n",
        "    \"Mozilla/4.0 (compatible; MSIE 7.0; Windows NT 5.1; Trident/4.0; SV1; QQDownload 732; .NET4.0C; .NET4.0E; 360SE)\",\n",
        "    \"Mozilla/4.0 (compatible; MSIE 6.0; Windows NT 5.1; SV1; QQDownload 732; .NET4.0C; .NET4.0E)\",\n",
        "    \"Mozilla/4.0 (compatible; MSIE 7.0; Windows NT 6.1; WOW64; Trident/5.0; SLCC2; .NET CLR 2.0.50727; .NET CLR 3.5.30729; .NET CLR 3.0.30729; Media Center PC 6.0; .NET4.0C; .NET4.0E)\",\n",
        "    \"Mozilla/5.0 (Windows NT 5.1) AppleWebKit/537.1 (KHTML, like Gecko) Chrome/21.0.1180.89 Safari/537.1\",\n",
        "    \"Mozilla/5.0 (Windows NT 6.1; WOW64) AppleWebKit/537.1 (KHTML, like Gecko) Chrome/21.0.1180.89 Safari/537.1\",\n",
        "    \"Mozilla/5.0 (iPad; U; CPU OS 4_2_1 like Mac OS X; zh-cn) AppleWebKit/533.17.9 (KHTML, like Gecko) Version/5.0.2 Mobile/8C148 Safari/6533.18.5\",\n",
        "    \"Mozilla/5.0 (Windows NT 6.1; Win64; x64; rv:2.0b13pre) Gecko/20110307 Firefox/4.0b13pre\",\n",
        "    \"Mozilla/5.0 (X11; Ubuntu; Linux x86_64; rv:16.0) Gecko/20100101 Firefox/16.0\",\n",
        "    \"Mozilla/5.0 (Windows NT 6.1; WOW64) AppleWebKit/537.11 (KHTML, like Gecko) Chrome/23.0.1271.64 Safari/537.11\",\n",
        "    \"Mozilla/5.0 (X11; U; Linux x86_64; zh-CN; rv:1.9.2.10) Gecko/20100922 Ubuntu/10.10 (maverick) Firefox/3.6.10\",\n",
        "    \"Mozilla/5.0 (Windows NT 10.0; Win64; x64) AppleWebKit/537.36 (KHTML, like Gecko) Chrome/58.0.3029.110 Safari/537.36\",\n",
        "    ]"
      ],
      "execution_count": 7,
      "outputs": []
    },
    {
      "cell_type": "code",
      "metadata": {
        "scrolled": true,
        "id": "D1_JHfuDHQv4",
        "colab_type": "code",
        "colab": {
          "base_uri": "https://localhost:8080/",
          "height": 1000
        },
        "outputId": "6dcbcdf0-e84a-4803-840c-a0c0f0e3be5f"
      },
      "source": [
        "data = []\n",
        "i = 0\n",
        "start = time.time()\n",
        "for url in member_url:\n",
        "    USER_AGENT = random.choice(USER_AGENT_LIST)\n",
        "    headers = {'user-agent': USER_AGENT}\n",
        "    html = session.get(url, headers=headers)\n",
        "    soup = BeautifulSoup(html.text, 'html.parser')\n",
        "    data.append(extract_data(soup, 'Eng'))\n",
        "    print(i, data[-1])\n",
        "    i += 1\n",
        "end = time.time()\n",
        "print('Take {} second to crawl {} items'.format(end-start,len(member_url)))"
      ],
      "execution_count": 8,
      "outputs": [
        {
          "output_type": "stream",
          "text": [
            "0 {'Member': 'Agnani, Meena K. (Ms)', 'Name of Chambers': 'Admiralty Chambers', 'Address': 'Rm 403, Fairmont House, 8 Cotton Tree Drive, Central, H.K.', 'Tel.No': '25273082', 'Fax.No': '25298226', 'Mobile': '91217670', 'E-mail': 'agnanimeena2013@gmail.com', 'Call': 'HK( 2013  )'}\n",
            "1 {'Member': 'Ah-Weng, Jonathan Winston 霍健明', 'Name of Chambers': 'Parkside Chambers', 'Address': 'Suite 3101, Two Pacific Place, 88 Queensway, Admiralty, H.K.', 'Tel.No': '28401130', 'Fax.No': '28100612', 'Mobile': '92380610', 'E-mail': 'jonathan.ah-weng@parksidechambers.com.hk', 'Website': 'http://www.parksidechambers.com.hk/members/jonathan-ah-weng/', 'Quals': 'LLB (U. Durham) , LLM (U. Lon) , AHKIArb , CEDR Accredited Mediator', 'Call': 'HK( 2003  )'}\n",
            "2 {'Member': 'Aiken, Nigel, S.C. 區啟賢 資深大律師', 'Name of Chambers': 'Temple Chambers', 'Address': '16/F, One Pacific Place, 88 Queensway, Admiralty, H.K.', 'Tel.No': '25232003', 'Fax.No': '28100302', 'Website': 'http://www.templechambers.com', 'Call': 'HK( 1981 ), Inner HK( 1994 ), UK( 1974  )'}\n",
            "3 {'Member': 'Au, Clement K.M. 區家文 *', 'Name of Chambers': 'Pacific Chambers', 'Address': 'Rm 901, Dina House, 11 Duddell St, Central, H.K.', 'Tel.No': '25215544', 'Fax.No': '25245912', 'E-mail': 'clement.au@pacificchambers.com', 'Quals': 'LLB (U. Warwick) , LLM (UCL) , PCLL (HKU) , CEDR Accredited Mediator', 'Call': 'HK( 2011  )'}\n",
            "4 {'Member': 'Au, Helen H.L. (Ms) 區曉嵐  (女士) *', 'Address': 'Rm 28, New Henry House, 10 Ice House St, Central, H.K. [Annex to Andrew Liao SC’s Chambers]', 'Tel.No': '35763130', 'Fax.No': '35763030', 'E-mail': 'helen@helen-au.com', 'Quals': 'FCI Arb , FHKI Arb , FAMINZ (Arb) , CEDR Accredited Mediator , HKMC Mediator , MHKIArb , MNI', 'Call': 'HK( 2002  )'}\n",
            "5 {'Member': 'Au, Pak Ching 歐柏青 *', 'Name of Chambers': 'Principal Chambers', 'Address': '4/F, HSBC Bldg, 14-16 Wo Fung St, Fanling, New Territories, H.K.', 'Tel.No': '29881088', 'Fax.No': '29881258', 'Mobile': '90840655', 'E-mail': 'pcau@netvigator.com', 'Quals': 'BA (HKU) , LLB (Lon) , PCLL (City U.) , MED (CUHK) , HKIAC Accredited Family Mediator , HKIAC Accredited General Mediator', 'Call': 'HK( 2000  )'}\n",
            "6 {'Member': 'Barrett, Paul N.', 'Name of Chambers': 'Pacific Chambers', 'Address': 'Rm 901, Dina House, 11 Duddell St, Central, H.K.', 'Tel.No': '25215544', 'Fax.No': '25245912', 'Mobile': '93166195', 'E-mail': 'paul@pnbarrett.com', 'Quals': 'Chartered Arbitrator , FCI Arb , FHKIS , FRICS , FCIOB', 'Call': 'HK( 1999  )'}\n",
            "7 {'Member': 'Barretto, Ruy, S.C. 白理桃 資深大律師', 'Name of Chambers': 'Temple Chambers', 'Address': '16/F, One Pacific Place, 88 Queensway, Admiralty, H.K.', 'Tel.No': '25232003', 'Fax.No': '28100302', 'Mobile': '91551925', 'E-mail': 'ruyb@netvigator.com', 'Website': 'http://www.templechambers.com', 'Quals': 'LLB , AKC , CEDR Accredited Mediator', 'Call': 'HK( 1975 ), Inner HK( 2001 ), UK( 1974  )'}\n",
            "8 {'Member': 'Beresford, Roger G.', 'Name of Chambers': \"Prince's Chambers\", 'Address': '3002, Tower Two, Lippo Centre, 89 Queensway, Admiralty, H.K.', 'Tel.No': '25257388', 'Fax.No': '25253930', 'E-mail': 'rogerberesford@princeschambers.com.hk', 'Quals': 'Solicitor (HK) [1996-1999] , Solicitor (UK) [1996 --] , CEDR Accredited Mediator', 'Call': 'HK( 1999 ), UK( 1994  )'}\n",
            "9 {'Member': 'Bu, Yanan (Ms) 卜亞楠  (女士) *', 'Address': 'Rm 28, New Henry House, 10 Ice House St, Central, H.K. [Annex to Andrew Liao SC’s Chambers]', 'Tel.No': '35763130', 'Fax.No': '35763030', 'Mobile': '97517658', 'E-mail': 'anniebubenoit@gmail.com', 'Call': 'HK( 2011  )'}\n",
            "10 {'Member': 'Burns, S. Ashley, S.C.', 'Name of Chambers': 'Temple Chambers', 'Address': '16/F, One Pacific Place, 88 Queensway, Admiralty, H.K.', 'Tel.No': '25232003', 'Fax.No': '28100302', 'Website': 'http://www.templechambers.com', 'Quals': 'Solicitor (HK) [1977-1996] , Solicitor (UK) [1972-1996]', 'Call': 'HK( 1996 ), Inner HK( 2007  )'}\n",
            "11 {'Member': 'But, Adrian T. 畢彤 *', 'Name of Chambers': \"Sir Oswald Cheung's Chambers\", 'Address': '10/F, New Henry House, 10 Ice House St, Central, H.K.', 'Tel.No': '25242156', 'Fax.No': '28105656', 'Mobile': '92203322', 'E-mail': 'abut@siroswald.com', 'Call': 'HK( 2011  )'}\n",
            "12 {'Member': 'Chai, Michael C. 蔡鎮 *', 'Name of Chambers': 'Bernacchi Chambers', 'Address': '1402, Tower 1, Admiralty Centre, 18 Harcourt Rd, Admiralty, H.K.', 'Tel.No': '25220066', 'Fax.No': '28450851', 'Mobile': '93809361', 'E-mail': 'mchai@bernacchichambers.com', 'Quals': 'CEDR Accredited Mediator', 'Call': 'HK( 2002  )'}\n",
            "13 {'Member': 'Chan, Abraham, S.C. 陳樂信 資深大律師', 'Name of Chambers': 'Temple Chambers', 'Address': '16/F, One Pacific Place, 88 Queensway, Admiralty, H.K.', 'Tel.No': '25232003', 'Fax.No': '28100302', 'Website': 'http://www.templechambers.com', 'Quals': 'LLB (U. Lon) , BCL (Oxon) , M Phil (Oxon) , Bar Scholarship (2003)', 'Call': 'HK( 2000 ), Inner HK( 2017  )'}\n",
            "14 {'Member': 'Chan, Charles J. 陳永豪', 'Name of Chambers': 'Courtyard Chambers', 'Address': '1216, Bank of America Tower, 12 Harcourt Rd, Central, H.K.', 'Tel.No': '25301383', 'Fax.No': '25301083', 'E-mail': 'cjc@courtyardchambers.com', 'Website': 'https://www.courtyardchambers.com/team/charles-j-chan', 'Call': 'HK( 1998  )'}\n",
            "15 {'Member': 'Chan, Charles K.C. 陳貴春 *', 'Name of Chambers': 'Harcourt Chambers', 'Address': '3403, Bank of America Tower, 12 Harcourt Rd, Central, H.K.', 'Tel.No': '28017338', 'Fax.No': '28016229', 'Mobile': '63493398', 'Website': 'https://www.harcourtchambers.com/members/charles-chan-k-c/', 'Quals': 'MCI Arb , HKMAAL Accredited General Mediator , LLB (Lond) , LLM (Renmin U. of China) , FHKIArb', 'Call': 'HK( 1993 ), UK( 1993  )'}\n",
            "16 {'Member': 'Chan, Danny K.K. 陳健強', 'Name of Chambers': 'Century Chambers', 'Address': 'Rm 1005B, Tower One, Lippo Centre, 89 Queensway, Admiralty, H.K.', 'Tel.No': '25268782/25211388', 'Fax.No': '25268718', 'E-mail': 'dc@centurychambers.hk', 'Quals': 'Solicitor (HK) [2009-2010] , Solicitor (UK) [2010--] , HKIAC Accredited General Mediator , HKMAAL Accredited General Mediator , FHKIArb', 'Call': 'HK( 2010  )'}\n",
            "17 {'Member': 'Chan, David L.K. 陳連九', 'Address': \"Rm 1318, Prince's Bldg, 10 Chater Rd, Central, H.K. [Annex to Alan Leong, S.C.'s Chambers]\", 'Tel.No': '25268128', 'Fax.No': '25268500', 'Mobile': '90919825', 'E-mail': 'davidlkc_esq@yahoo.com', 'Quals': 'CEDR Accredited Mediator', 'Call': 'HK( 2011  )'}\n",
            "18 {'Member': 'Chan, Dora K.H. (Mrs) 陳黃潔好  (女士)', 'Address': 'Rm 28, New Henry House, 10 Ice House St, Central, H.K. [Annex to Andrew Liao SC’s Chambers]', 'Tel.No': '35763130', 'Fax.No': '35763030', 'Call': 'HK( 1997 ), UK( 1996  )'}\n",
            "19 {'Member': 'Chan, Edward K.S., S.C. 陳景生 資深大律師', 'Name of Chambers': \"Sir Oswald Cheung's Chambers\", 'Address': '10/F, New Henry House, 10 Ice House St, Central, H.K.', 'Tel.No': '25242156', 'Fax.No': '28105656', 'E-mail': 'echan@siroswald.com', 'Quals': 'LLB , LLM (U. Lon)', 'Call': 'HK( 1975 ), Inner HK( 1989 ), UK( 1974  )'}\n",
            "20 {'Member': 'Chan, Frederick H.F. 陳慶輝 *', 'Name of Chambers': 'Parkside Chambers', 'Address': 'Suite 3101, Two Pacific Place, 88 Queensway, Admiralty, H.K.', 'Tel.No': '28401130', 'Fax.No': '28100612', 'Website': 'http://www.parksidechambers.com.hk/members/frederick-h-f-chan/', 'Quals': 'LLM (U. Lon) , CEDR Accredited Mediator , FCI Arb', 'Call': 'HK( 1993  )'}\n",
            "21 {'Member': 'Chan, Ifan (Ms) 陳儀芬  (女士) *', 'Address': 'Rm 121, 12/F, New Henry House, 10 Ice House St, Central, H.K.', 'Tel.No': '25233011', 'Fax.No': '25247559', 'Mobile': '91389287', 'E-mail': 'ic@ifanchan.com', 'Call': 'HK( 1996 ), UK( 1996  )'}\n",
            "22 {'Member': 'Chan, Isaac C.K. 陳志剛 *', 'Name of Chambers': \"Sir Oswald Cheung's Chambers\", 'Address': '10/F, New Henry House, 10 Ice House St, Central, H.K.', 'Tel.No': '25242156', 'Fax.No': '28105656', 'E-mail': 'isaac.chan@siroswald.com', 'Quals': 'BSS(GL)(HKU) , LLB (HKU) , LLM (U. Lon / LSE) , Bar Scholarship (2006) , Charles Ching Memorial Scholarship (2006)', 'Call': 'HK( 2007  )'}\n",
            "23 {'Member': 'Chan, Jacky Hei-Ching 陳希政 *', 'Name of Chambers': 'Harcourt Chambers', 'Address': '3403, Bank of America Tower, 12 Harcourt Rd, Central, H.K.', 'Tel.No': '28017338', 'Fax.No': '28016229', 'E-mail': 'heiching@harcourtchambers.com', 'Website': 'https://www.harcourtchambers.com/members/chan-hei-ching-jacky/', 'Quals': \"LLB (HKU) , B Eng (CivE-Law) (HKU) , PCLL (HKU) , FCI Arb , FHKI Arb , HKIAC Accredited General Mediator , HKMAAL Accredited Family Mediator , HKMAAL Accredited General Mediator , Master in EU Competition Law (King's College London)\", 'Call': 'HK( 2010  )'}\n",
            "24 {'Member': 'Chan, Jeremy S.K. 陳肇基', 'Name of Chambers': \"Denis Chang's Chambers\", 'Address': '9th Floor, One Lippo Centre, 89 Queensway, Admiralty, H.K.', 'Tel.No': '28107222', 'Fax.No': '28450439', 'Website': 'https://dcc.law/barrister/jeremy-s-k-chan/', 'Quals': 'PCLL (HKU) , MA (Oxon) , CEDR Accredited Mediator , HKMAAL Accredited General Mediator', 'Call': 'HK( 2000  )'}\n",
            "25 {'Member': 'Chan, Jessica W.Y. (Ms) 陳頴賢  (女士) *', 'Name of Chambers': 'Bernacchi Chambers', 'Address': '1402, Tower 1, Admiralty Centre, 18 Harcourt Rd, Admiralty, H.K.', 'Tel.No': '25220066', 'Fax.No': '28450851', 'Mobile': '65570387', 'E-mail': 'jessicachan@bernacchichambers.com', 'Quals': 'Barrister & Solicitor (NZ) [2018 --]', 'Call': 'HK( 2008 ), NZ( 2018  )'}\n",
            "26 {'Member': 'Chan, John 陳顯中 *', 'Name of Chambers': 'Harcourt Chambers', 'Address': '3403, Bank of America Tower, 12 Harcourt Rd, Central, H.K.', 'Tel.No': '28017338', 'Fax.No': '28016229', 'E-mail': 'jc@harcourtchambers.com', 'Quals': 'MBA , PCLL , HKRFP , HKMAAL Accredited General Mediator , HKMAAL Accredited Family Mediator', 'Call': 'HK( 2008  )'}\n",
            "27 {'Member': 'Chan, Kalvin K.H. 陳嘉軒 *', 'Name of Chambers': \"Jason Pow SC's Chambers\", 'Address': 'Suite 2006, One Pacific Place, 88 Queensway, Admiralty, H.K.', 'Tel.No': '21112132', 'Fax.No': '28450720', 'E-mail': 'chan_kalvin@hotmail.com', 'Quals': 'Solicitor (HK) [2006-2007] , LLB (HKU) , PCLL (HKU) , HKIAC Accredited General Mediator', 'Call': 'HK( 2007  )'}\n",
            "28 {'Member': 'Chan, Leona (Ms) 陳姵妏  (女士)', 'Name of Chambers': \"Wong Man Kit SC's Chambers\", 'Address': 'Suites 902-905, Bank of America Tower, 12 Harcourt Rd, Central, H.K.', 'Tel.No': '29189187', 'Fax.No': '29189197', 'E-mail': 'leonachanpm@gmail.com', 'Call': 'HK( 2010  )'}\n",
            "29 {'Member': 'Chan, Paul K.L. 陳健樂 *', 'Name of Chambers': 'Harcourt Chambers', 'Address': '3403, Bank of America Tower, 12 Harcourt Rd, Central, H.K.', 'Tel.No': '28017338', 'Fax.No': '28016229', 'Mobile': '96653145', 'E-mail': 'paulklchan@gmail.com', 'Quals': 'HKMAAL Accredited General Mediator , HKMAAL Accredited Family Mediator , CEDR Accredited Mediator , FCPA (HK) , FCPA (Australia) , FCMA (UK) , MCI Arb (UK) , BSc (Econ) (LSE) , MBA , LLB , PCLL (HKU)', 'Call': 'HK( 2014  )'}\n",
            "30 {'Member': 'Chan, Robert G.M. 陳景文', 'Name of Chambers': 'Parkside Chambers', 'Address': 'Suite 3101, Two Pacific Place, 88 Queensway, Admiralty, H.K.', 'Tel.No': '28401130', 'Fax.No': '28100612', 'Mobile': '65706940', 'E-mail': 'robert.chan@parksidechambers.com.hk', 'Website': 'http://www.parksidechambers.com.hk/members/robert-chan/', 'Quals': 'LLB (KCL) , BVC (COL) , PCLL (HKU) , HKMAAL Accredited General Mediator', 'Call': 'HK( 2012 ), UK( 2006  )'}\n",
            "31 {'Member': 'Chan, Sheena M.Y. (Ms) 陳美玉  (女士) *', 'Name of Chambers': 'Fortune Chambers', 'Address': 'Rm 2305-07, 23/F, Tower Two, Lippo Centre, 89 Queensway, Admiralty, H.K.', 'Tel.No': '25438099', 'Fax.No': '28452668', 'E-mail': 'sheenamc@netvigator.com', 'Quals': 'LLB (U. Lon) , PCLL (HKU) , BA (Canada) , BA (UBC) , LLM (HKU)', 'Call': 'HK( 1999  )'}\n",
            "32 {'Member': 'Chan, Vod K.S. 陳家成 *', 'Name of Chambers': 'Chambers of Ronny Wong S.C.', 'Address': 'Rms 3206-3208, Alexandra House, 18 Chater Rd, Central, H.K.', 'Tel.No': '25261732', 'Fax.No': '28455421', 'Mobile': '91008444', 'E-mail': 'vodchan@hotmail.com', 'Quals': 'LLM , MBA , HKIAC Accredited General Mediator', 'Call': 'HK( 2004  )'}\n",
            "33 {'Member': 'Chang, Geoffrey P. 張鵬 *', 'Address': 'Rm 121, 12/F, New Henry House, 10 Ice House St, Central, H.K.', 'Tel.No': '25233011', 'Fax.No': '25247559', 'E-mail': 'pgchang@netvigator.com', 'Quals': 'CEDR Accredited Mediator', 'Call': 'HK( 1989  )'}\n",
            "34 {'Member': 'Chang, Jonathan T.Y., S.C. 張天任 資深大律師 *', 'Name of Chambers': 'Temple Chambers', 'Address': '16/F, One Pacific Place, 88 Queensway, Admiralty, H.K.', 'Tel.No': '25232003', 'Fax.No': '28100302', 'E-mail': 'jchang@templechambers.com', 'Website': 'http://www.templechambers.com', 'Quals': 'LLB (HKU) , LLM (U. Lon) , Bar Scholarship (2001) , CEDR Accredited Mediator', 'Call': 'HK( 2001 ), Inner HK( 2020  )'}\n",
            "35 {'Member': 'Char, Stephen S.N. 查錫我 *', 'Name of Chambers': 'Central Chambers', 'Address': 'Rm 418, Tower Two, Lippo Centre, 89 Queensway, Admiralty, H.K.', 'Tel.No': '25213517', 'Fax.No': '28681965', 'Mobile': '93714728', 'E-mail': 'stephenchar@gmail.com', 'Call': 'HK( 2007  )'}\n",
            "36 {'Member': 'Chau, Hing-Pang 周慶澎', 'Name of Chambers': 'Bernacchi Chambers', 'Address': '1402, Tower 1, Admiralty Centre, 18 Harcourt Rd, Admiralty, H.K.', 'Tel.No': '25220066', 'Fax.No': '28450851', 'Call': 'HK( 1989 ), UK( 1988  )'}\n",
            "37 {'Member': 'Cheng, Alfred C.P. 鄭頌平 *', 'Name of Chambers': \"Alan Leong, S.C.'s Chambers\", 'Address': \"Rms 1323A-1328, Prince's Bldg, 10 Chater Rd, Central, H.K.\", 'Tel.No': '25266182', 'Fax.No': '25266930', 'E-mail': 'alfred.cheng@alsc-chambers.com', 'Quals': 'LLB (HKU) , PCLL (HKU) , LLM (Cantab) , Bar Scholarship (2005)', 'Call': 'HK( 2006  )'}\n",
            "38 {'Member': 'Cheng, Barbara W.Y. (Ms) 鄭穎儀  (女士)', 'Name of Chambers': 'Chambers of Ching Y. Wong SC', 'Address': '14/F, Kailey Tower, 16 Stanley St, Central, H.K.', 'Tel.No': '25227330', 'Fax.No': '28014729', 'Call': 'HK( 1999  )'}\n",
            "39 {'Member': 'Cheng, Bonnie Y.K. (Ms) 鄭欣琪  (女士) *', 'Name of Chambers': 'Temple Chambers', 'Address': '16/F, One Pacific Place, 88 Queensway, Admiralty, H.K.', 'Tel.No': '25232003', 'Fax.No': '28100302', 'E-mail': 'bcheng@templechambers.com', 'Website': 'http://www.templechambers.com', 'Quals': 'BSSc (Govt & Laws) (HKU) , LLB (HKU) , PCLL (HKU) , MSc (Oxon) , LLM (Harv) , Bar Scholarship (2011) , Charles Ching Memorial Scholarship (2011)', 'Call': 'HK( 2011  )'}\n",
            "40 {'Member': 'Cheng, Bosco Y.K. 鄭宇傑 *', 'Address': '10/F, Printing House, 6 Duddell St, Central, H.K.', 'Tel.No': '25260068', 'Fax.No': '28400131', 'Mobile': '95354581', 'E-mail': 'boscoesq@gmail.com', 'Quals': 'LLM (U. Lon)', 'Call': 'HK( 2007  )'}\n",
            "41 {'Member': 'Cheng, Ching Yee (Ms) 鄭靖怡  (女士)', 'Address': '4/F, Chung Nam Bldg, 1 Lockhart Rd, Wanchai, H.K.', 'Tel.No': '25217317', 'Fax.No': '28450654', 'E-mail': 'cheng06@gmail.com', 'Call': 'HK( 2006  )'}\n",
            "42 {'Member': 'Cheng, Francis M.B. 鄭明斌', 'Address': 'Rm 3308, Tower Two, Lippo Centre, 89 Queensway, Admiralty, H.K.', 'Tel.No': '25220209', 'Fax.No': '28696208', 'Call': 'HK( 1995 ), UK( 1994  )'}\n",
            "43 {'Member': 'Cheng, James C.C. 鄭從展 *', 'Name of Chambers': 'Olympia Chambers', 'Address': 'Rm 56, 5/F, New Henry House, 10 Ice House St, Central, H.K.', 'Tel.No': '24579996', 'Fax.No': '24579997', 'Website': 'http://www.olyc.hk', 'Call': 'HK( 1992  )'}\n",
            "44 {'Member': 'Cheng, Tobias Y.C. 鄭潤聰', 'Name of Chambers': \"Cheng Huan SC's Chambers\", 'Address': '15/F, Dina House, 11 Duddell St, Central, H.K.', 'Tel.No': '25262293', 'Fax.No': '28453749', 'E-mail': 'tobychenghk@gmail.com', 'Quals': 'CEDR Accredited Mediator , JD , BSc (Business Studies) , LLM (Arbitration & Dispute Resolution) (City U.)', 'Call': 'HK( 2011  )'}\n",
            "45 {'Member': 'Cheung, Adonis K.W. 張錦榮', 'Name of Chambers': 'Bernacchi Chambers', 'Address': '1402, Tower 1, Admiralty Centre, 18 Harcourt Rd, Admiralty, H.K.', 'Tel.No': '25220066', 'Fax.No': '28450851', 'E-mail': 'adonis@bernacchichambers.com', 'Call': 'HK( 1994 ), UK( 1994  )'}\n",
            "46 {'Member': 'Cheung, Alexander H.F. 張學鋒 *', 'Name of Chambers': 'Central Chambers', 'Address': 'Rm 418, Tower Two, Lippo Centre, 89 Queensway, Admiralty, H.K.', 'Tel.No': '25213517', 'Fax.No': '28681965', 'Mobile': '60206093', 'E-mail': 'alexhfcheung@hotmail.com', 'Quals': 'CPA (HK) , CA (NZ) , HKIAC Accredited General Mediator', 'Call': 'HK( 2006 ), NSW( 2004 ), Victoria( 2005  )'}\n",
            "47 {'Member': 'Cheung, Charmine C.M. (Ms) 張湛雯  (女士) *', 'Name of Chambers': 'Gilt Chambers', 'Address': '8/F, Far East Finance Centre, 16 Harcourt Rd, Admiralty, H.K.', 'Tel.No': '28668233', 'Fax.No': '28667858', 'Mobile': '62913731', 'E-mail': 'charmine.cheung@giltchambers.com', 'Quals': 'JD (CUHK) , PCLL (CUHK) , LLM (Cantab)', 'Call': 'HK( 2012  )'}\n",
            "48 {'Member': 'Cheung, Diana H.C. (Ms) 張嫺珠  (女士) *', 'Address': '1301, 13/F, Cheong K. Bldg, 84-86 Des Voeux Road Central, H.K.', 'Tel.No': '93427448', 'Fax.No': '39569740', 'Mobile': '93825218', 'E-mail': 'dianahc2000@yahoo.com.hk', 'Quals': \"LLM (Int'l Bus Law) (U.Lon) , FCI Arb , FHKI Arb , HKMAAL Accredited General Mediator\", 'Call': 'HK( 1992  )'}\n",
            "49 {'Member': 'Cheung, Elizabeth Y. (Ms) 張怡  (女士) *', 'Name of Chambers': 'Temple Chambers', 'Address': '16/F, One Pacific Place, 88 Queensway, Admiralty, H.K.', 'Tel.No': '25232003', 'Fax.No': '28100302', 'E-mail': 'elizabethcheung@templechambers.com', 'Website': 'http://www.templechambers.com', 'Call': 'HK( 2007  )'}\n",
            "50 {'Member': 'Cheung, Harrison C.H. 張志雄 *', 'Name of Chambers': 'Gary Soo’s Chambers', 'Address': 'Rms 606 & 08, Tower Two, Lippo Centre, 89 Queensway, Admiralty, H.K.', 'Tel.No': '28696325', 'Fax.No': '28696302', 'Mobile': '92519399', 'E-mail': 'harrisoncheung.counsel@gmail.com', 'Quals': 'B Eng (Civil) , M App.Sc(Engineering Geology) , MPA (Accounting) , MA Arb & Dr , MBA , LLB , PCLL , MHKIE , MCI Arb , RPE (Civil)', 'Call': 'HK( 2010  )'}\n",
            "51 {'Member': 'Cheung, Ivan T.Y. 張大有', 'Name of Chambers': 'Fortune Chambers', 'Address': 'Rm 2305-07, 23/F, Tower Two, Lippo Centre, 89 Queensway, Admiralty, H.K.', 'Tel.No': '28108383', 'Fax.No': '28452668', 'Quals': 'BSc (QS) , LLB (U. Lon) , MA Arb & Dr , MSc (Accountancy) , FCI Arb , CPA , FCCA , HKIAC Accredited General Mediator , HKMAAL Accredited General Mediator', 'Call': 'HK( 1998  )'}\n",
            "52 {'Member': 'Cheung, Kam-Chuen 張錦泉 *', 'Name of Chambers': 'Olympia Chambers', 'Address': 'Rm 56, 5/F, New Henry House, 10 Ice House St, Central, H.K.', 'Tel.No': '24579996', 'Fax.No': '24579997', 'E-mail': 'kccheung5-c@my.cityu.edu.hk', 'Website': 'http://www.olyc.hk', 'Quals': 'LLB , LLM , MBA', 'Call': 'HK( 1996 ), UK( 1996  )'}\n",
            "53 {'Member': 'Cheung, Karen W.N. (Ms) 張偉顏  (女士) *', 'Name of Chambers': 'Equity Chambers', 'Address': 'Suite 802, 8/F, Harcourt House, 39 Gloucester Rd, Wanchai, H.K.', 'Tel.No': '21164676', 'Fax.No': '21164610', 'E-mail': 'karen.cheung@equitychambers.com.hk', 'Quals': 'CEDR Accredited Mediator', 'Call': 'HK( 1995  )'}\n",
            "54 {'Member': 'Cheung, Lincoln 張靈勤 *', 'Name of Chambers': 'Tower Chambers', 'Address': \"15/F, New World Tower 2, 18 Queen's Rd Central, H.K.\", 'Tel.No': '25212555', 'Fax.No': '28106087', 'E-mail': 'lcheung@towerchambers.com', 'Quals': 'BSocSc , MSc.FM , LLB , LLM (International Economic Law) , PCLL , CEDR Accredited Mediator , MCI Arb , HKIAC Accredited General Mediator , HKMAAL Accredited General Mediator', 'Call': 'HK( 2010  )'}\n",
            "55 {'Member': 'Cheung, Wallace H.S. 張謙誠', 'Name of Chambers': \"Sir Oswald Cheung's Chambers\", 'Address': '10/F, New Henry House, 10 Ice House St, Central, H.K.', 'Tel.No': '25242156', 'Fax.No': '25373638', 'E-mail': 'chs@siroswald.com', 'Call': 'HK( 1996  )'}\n",
            "56 {'Member': 'Chih, Vivian (Ms)  *', 'Name of Chambers': 'Justice Chambers', 'Address': 'Suite 2901, Tower One, Lippo Centre, 89 Queensway, Admiralty, H.K.', 'Tel.No': '28610062', 'Fax.No': '28612022', 'Quals': 'PCLL , LLM (UK) , Dip ICArb , CEDR Accredited Mediator', 'Call': 'HK( 1986  )'}\n",
            "57 {'Member': 'Chiu, Vennie (Ms) 趙慧怡  (女士) *', 'Address': 'Rm 3308, Tower Two, Lippo Centre, 89 Queensway, Admiralty, H.K.', 'Tel.No': '25220209', 'Fax.No': '28696208', 'Quals': 'LLM (Tsinghua University) , PCLL (HKU) , CEDR Accredited Mediator', 'Call': 'HK( 2008  )'}\n",
            "58 {'Member': 'Chong, Patrick K.C. 莊廣燦', 'Name of Chambers': 'Des Voeux Chambers', 'Address': '38/F, Gloucester Tower, The Landmark,  Central, H.K.', 'Tel.No': '25263071', 'Fax.No': '28105287', 'Call': 'HK( 1997  )'}\n",
            "59 {'Member': 'Chow, Anthony W.L. 周偉倫', 'Name of Chambers': 'Parkside Chambers', 'Address': 'Suite 3101, Two Pacific Place, 88 Queensway, Admiralty, H.K.', 'Tel.No': '28401130', 'Fax.No': '28100612', 'Website': 'http://www.parksidechambers.com.hk/members/anthony-w-l-chow/', 'Quals': 'CEDR Accredited Mediator , MCI Arb , MHKIE , MICE , MIStructE', 'Call': 'HK( 1998 ), UK( 1997  )'}\n",
            "60 {'Member': 'Chow, Edward K.Y. 周嘉賢 *', 'Name of Chambers': 'Liberty Chambers', 'Address': '3102, Tower 1, Admiralty Centre, 18 Harcourt Rd, Admiralty, H.K.', 'Tel.No': '28108222', 'Fax.No': '28100777', 'E-mail': 'edwardchow@libertychambers.com', 'Website': 'http://libertychambers.com/members/edward-chow/', 'Call': 'HK( 2012  )'}\n",
            "61 {'Member': 'Chow, Edward Lap-San 周立新 *', 'Name of Chambers': 'Gary Soo’s Chambers', 'Address': 'Rms 606 & 08, Tower Two, Lippo Centre, 89 Queensway, Admiralty, H.K.', 'Tel.No': '28696325', 'Fax.No': '28696302', 'E-mail': 'edwardchow.at.work@gmail.com', 'Quals': 'LLM (Arbitration & Dispute Resolution)(HKU) , LLM (in Corporate & Financial Law) (HKU) , FCI Arb , FHKI Arb , HKIAC Arbitrator , HKMAAL General Mediator', 'Call': 'HK( 1990  )'}\n",
            "62 {'Member': 'Chow, Juliana H.L. (Ms) 周凱靈  (女士)', 'Address': 'Rm 3308, Tower Two, Lippo Centre, 89 Queensway, Admiralty, H.K.', 'Tel.No': '25220209', 'Fax.No': '28696208', 'Call': 'HK( 1986  )'}\n",
            "63 {'Member': 'Chow, Millie M.Y. (Ms) 周美儀  (女士)', 'Name of Chambers': 'Wyndham Chambers', 'Address': 'Rm 101-102, 1/F, Wilson House, 19-27 Wyndham St, Central, H.K.', 'Tel.No': '25302889', 'Fax.No': '28401396', 'Mobile': '94469707', 'E-mail': 'milliechow2013@yahoo.com.hk', 'Quals': 'MBA (U. Ottawa) , PCLL (HKU) , Accredited Mediator (HKMC)', 'Call': 'HK( 2006  )'}\n",
            "64 {'Member': 'Choy, Alison Y. Y. (Ms) 蔡悅兒  (女士) *', 'Name of Chambers': 'Bernacchi Chambers', 'Address': '1402, Tower 1, Admiralty Centre, 18 Harcourt Rd, Admiralty, H.K.', 'Tel.No': '25220066', 'Fax.No': '28450851', 'E-mail': 'achoy@bernacchichambers.com', 'Quals': 'BSSc (Govt & Laws) (HKU) , LLB (HKU) , HKMAAL Accredited General Mediator', 'Call': 'HK( 2014  )'}\n",
            "65 {'Member': 'Chuang, Polly P.Y. (Ms) 莊保兒  (女士) *', 'Name of Chambers': \"Erik Shum's Chambers\", 'Address': 'Rms 2203 A & B, Fairmont House, 8 Cotton Tree Drive, Central, H.K.', 'Tel.No': '21579343', 'Fax.No': '21579243', 'Mobile': '91022257', 'E-mail': 'pollychuang@eschambers.com.hk', 'Quals': 'B Comm (Accounting & Finance) (UNSW) , JD , PCLL , HKMAAL Accredited General Mediator', 'Call': 'HK( 2015  )'}\n",
            "66 {'Member': 'Chung, Dan 鍾天', 'Name of Chambers': 'Olympia Chambers', 'Address': 'Rm 56, 5/F, New Henry House, 10 Ice House St, Central, H.K.', 'Tel.No': '24579996', 'Fax.No': '24579997', 'Website': 'http://www.olyc.hk', 'Call': 'HK( 2007  )'}\n",
            "67 {'Member': 'Chung, Jerry Ming Shing 宗銘誠', 'Address': 'Rm 87, New Henry House, 10 Ice House St, Central, H.K.', 'Tel.No': '25225494', 'Fax.No': '28104677', 'Mobile': '97660624', 'E-mail': 'nhh87ice@netvigator.com', 'Quals': 'LLB (U. Bristol) , LLM (Commercial & Corporate Law) , M. Fin , MA Arb & Dr , Accredited Mediator , FHKI Arb , LLM (Chinese Law)', 'Call': 'HK( 2000 ), UK( 2000  )'}\n",
            "68 {'Member': 'Chung, Kenneth K.H. 鍾建康 *', 'Name of Chambers': \"Sir Oswald Cheung's Chambers\", 'Address': '10/F, New Henry House, 10 Ice House St, Central, H.K.', 'Tel.No': '25242156', 'Fax.No': '28105656', 'E-mail': 'kchung@siroswald.com', 'Quals': 'LLM , BSc (Civil Engineering) , MBA , Chartered Engineer (UK) , Registered Structural Engineer (HK) , Registered Professional Engineer (Structural) (HK) , MHKIE , MIStructE , MICE , FHKI Arb , MCI Arb , HKIAC Accredited General Mediator', 'Call': 'HK( 2002  )'}\n",
            "69 {'Member': 'Chung, la Fontaine L.F. (Ms) 鍾麗芳  (女士) *', 'Address': 'Rm 52, New Henry House, 10 Ice House St, Central, H.K.', 'Tel.No': '25861550', 'Fax.No': '28109196', 'E-mail': 'chunglf@graduate.hku.hk', 'Quals': 'LLB , PCLL (HKU) , LLM (HKU) , BA (Accountancy) , FCCA , CPA , ACIS , ACS , FHKI Arb , HKIAC Accredited General Mediator , HKMAAL Accredited General Mediator', 'Call': 'HK( 2004  )'}\n",
            "70 {'Member': 'Chung, Peter K.T. 鍾錦棠', 'Name of Chambers': 'Sky Chambers', 'Address': 'Rm 304-305, 3/F, Prosperous Bldg, 48-52 Des Voeux Rd Central, H.K.', 'Tel.No': '25218180', 'Fax.No': '25218229', 'Mobile': '66276873', 'E-mail': 'peter@skychambers.com.hk', 'Quals': 'DMS , B Bus , Cert CLTP , PgC HKL , MA Arb & Dr , LLB , ACMA , FCPA , FCI Arb , HKIAC Accredited General Mediator , HKMAAL Accredited General Mediator , HKIAC Arbitrator', 'Call': 'HK( 2001 ), UK( 2001  )'}\n",
            "71 {'Member': 'Co, Dixon Y.T. 許友迪 *', 'Name of Chambers': \"Kenneth C.L. Chan's Chambers\", 'Address': 'Rm 1406, China Insurance Group Bldg, 141 Des Voeux Rd Central, H.K.', 'Tel.No': '21473300', 'Fax.No': '21473395', 'Mobile': '93263235', 'E-mail': 'dixonco@kclcchambers.com.hk', 'Quals': 'PCLL (HKU) , LLB (HKU) , BBA (Law) (HKU)', 'Call': 'HK( 2012  )'}\n",
            "72 {'Member': 'Cohen, Julian A.', 'Name of Chambers': 'Gilt Chambers', 'Address': '8/F, Far East Finance Centre, 16 Harcourt Rd, Admiralty, H.K.', 'Tel.No': '28668233', 'Fax.No': '28667858', 'Mobile': '98358075', 'E-mail': 'jacohen@me.com', 'Quals': 'Solicitor (UK) [1994 --] , Solicitor (HK) [1998 - 2009] , MA (Oxon) , FCI Arb , Dip ICArb , QDR (Academy of Experts)', 'Call': 'HK( 2010 ), UK( 1990  )'}\n",
            "73 {'Member': 'Cruden, Liza Jane (Ms) 高麗莎  (女士)', 'Name of Chambers': 'Des Voeux Chambers', 'Address': '38/F, Gloucester Tower, The Landmark,  Central, H.K.', 'Tel.No': '25263071', 'Fax.No': '28105287', 'Call': 'HK( 1989 ), UK( 1989  )'}\n",
            "74 {'Member': 'Daley, Angel Mak (Mrs) 麥慶歡  (女士) *', 'Name of Chambers': 'Gary Soo’s Chambers', 'Address': 'Rms 606 & 08, Tower Two, Lippo Centre, 89 Queensway, Admiralty, H.K.', 'Tel.No': '28696325', 'Fax.No': '28696302', 'Mobile': '92545855', 'E-mail': 'angel@daleybread.com', 'Website': 'http://www.gschambers.hk', 'Call': 'HK( 2005  )'}\n",
            "75 {'Member': 'Daryanani, Naresh L.', 'Name of Chambers': 'Olympia Chambers', 'Address': 'Rm 56, 5/F, New Henry House, 10 Ice House St, Central, H.K.', 'Tel.No': '27368232', 'Fax.No': '30121667', 'Mobile': '91374410', 'E-mail': 'nareshldaryanani@yahoo.com', 'Website': 'http://www.olyc.hk', 'Quals': 'Solicitor (HK) [1993-2001]', 'Call': 'HK( 2001  )'}\n",
            "76 {'Member': 'Dawes, Victor, S.C. 杜淦堃 資深大律師', 'Name of Chambers': 'Temple Chambers', 'Address': '16/F, One Pacific Place, 88 Queensway, Admiralty, H.K.', 'Tel.No': '25232003', 'Fax.No': '28100302', 'Website': 'http://www.templechambers.com', 'Call': 'HK( 1999 ), Inner HK( 2015  )'}\n",
            "77 {'Member': 'Deng, Earl J. 鄧鈞堤 *', 'Name of Chambers': \"Denis Chang's Chambers\", 'Address': '9th Floor, One Lippo Centre, 89 Queensway, Admiralty, H.K.', 'Tel.No': '28107222', 'Fax.No': '28450439', 'E-mail': 'edeng@dcc.law', 'Website': 'https://dcc.law/barrister/earl-deng/', 'Quals': 'BA (Cantab) , PCLL (HKU) , CEDR Accredited Mediator', 'Call': 'HK( 2008  )'}\n",
            "78 {'Member': 'Egerton, Robin Nelson 艾家敦', 'Name of Chambers': 'Parkside Chambers', 'Address': 'Suite 3101, Two Pacific Place, 88 Queensway, Admiralty, H.K.', 'Tel.No': '28401130', 'Fax.No': '28100612', 'Mobile': '90912828', 'E-mail': 'robin.egerton@parksidechambers.com.hk', 'Website': 'http://www.parksidechambers.com.hk/members/robin-egerton/', 'Call': 'HK( 2004  )'}\n",
            "79 {'Member': 'Eu, Audrey, S.C. (Ms) 余若薇 資深大律師 (女士) *', 'Name of Chambers': \"Sir Oswald Cheung's Chambers\", 'Address': '10/F, New Henry House, 10 Ice House St, Central, H.K.', 'Tel.No': '25242156', 'Fax.No': '28105656', 'Call': 'HK( 1978 ), Inner HK( 1993 ), UK( 1977  )'}\n",
            "80 {'Member': 'Fan, Alan K.F. 范錦發 *', 'Address': 'Rm 87, New Henry House, 10 Ice House St, Central, H.K.', 'Tel.No': '25225494', 'Fax.No': '28104677', 'Mobile': '90119850', 'E-mail': 'alan_kffan@yahoo.com.hk', 'Quals': 'LLB (U. Lon) , MA Arb & Dr (City U.) , LLM (City U.) , MInstCES , FCI Arb , MRICS', 'Call': 'HK( 2005  )'}\n",
            "81 {'Member': 'Fan, Edward S.Y. 范信恩 *', 'Address': '12/F, Fung House, 19-20 Connaught Rd Central, H.K.', 'Tel.No': '28680806', 'Fax.No': '28686195', 'Mobile': '93399291', 'E-mail': 'drefan184@gmail.com', 'Quals': 'LLB (U. Westminster) , MCI Arb , Cert Mgmt (OUUK) , Dip F Od (LHMC) , Dip LAMP (U. Wales) , BDS (U. Lon) , MGDSRCS Ed', 'Call': 'HK( 1997 ), UK( 1997  )'}\n",
            "82 {'Member': 'Fong, Raymond W.K. 方偉健', 'Name of Chambers': 'Fraternity Chambers', 'Address': 'Rm 1003A, 10/F, Far East Finance Centre, 16 Harcourt Rd, Admiralty, H.K.', 'Tel.No': '25298229', 'Fax.No': '25288383', 'Quals': 'AHKI Arb , Mediator', 'Call': 'HK( 2000  )'}\n",
            "83 {'Member': 'Fong, Shiu Man David 方兆文', 'Name of Chambers': 'Harcourt Chambers', 'Address': '3403, Bank of America Tower, 12 Harcourt Rd, Central, H.K.', 'Tel.No': '28017338', 'Fax.No': '30196253', 'Mobile': '90132177', 'E-mail': 'davidfong.counsel@gmail.com', 'Website': 'https://www.harcourtchambers.com/members/david-fong/', 'Quals': \"LLM (Maritime and Transportation Law) (City U.) , FCPA , FCI Arb , HKMAAL Accredited General Mediator , Dip in Int'l Commercial Arbitration\", 'Call': 'HK( 2013  )'}\n",
            "84 {'Member': 'Fong, Stephen H.K. 方漢權', 'Name of Chambers': 'Academy Chambers', 'Address': 'Rm 1003, Far East Finance Centre, 16 Harcourt Rd, Admiralty, H.K.', 'Tel.No': '25255878', 'Fax.No': '25255877', 'Quals': 'LLB , CEDR Accredited Mediator', 'Call': 'HK( 1995  )'}\n",
            "85 {'Member': 'Fong, Yvonne S.W. (Ms) 方少雲  (女士) *', 'Name of Chambers': 'Gary Plowman S.C. Chambers', 'Address': 'Rm 1401, Tower One, Lippo Centre, 89 Queensway, Admiralty, H.K.', 'Tel.No': '25212616', 'Fax.No': '28450260', 'E-mail': 'yvonneswfong@gmail.com', 'Quals': 'MMgt (Exec. Master of Bus. Admin.) , CEDR Accredited Mediator , HKMAAL Accredited General Mediator', 'Call': 'HK( 2005  )'}\n",
            "86 {'Member': 'Fung, Alfred K.C. 馮國礎', 'Address': \"Rm 1522, Prince's Bldg, 10 Chater Rd, Central, H.K.\", 'Tel.No': '25252666', 'Fax.No': '28683942', 'Call': 'HK( 1979 ), UK( 1978  )'}\n",
            "87 {'Member': 'Fung, Daniel R., S.C. 馮華健 資深大律師 *', 'Name of Chambers': 'Des Voeux Chambers', 'Address': '38/F, Gloucester Tower, The Landmark,  Central, H.K.', 'Tel.No': '25254245', 'Fax.No': '25268610', 'E-mail': 'danfung@dvc.com.hk', 'Call': 'HK( 1977 ), Inner HK( 1990 ), UK( 1975  )'}\n",
            "88 {'Member': 'Fung, Henry L.W. 馮念偉', 'Name of Chambers': \"Kenneth C.L. Chan's Chambers\", 'Address': 'Rm 1406, China Insurance Group Bldg, 141 Des Voeux Rd Central, H.K.', 'Tel.No': '21473300', 'Fax.No': '21473395', 'Mobile': '62006236', 'E-mail': 'henryfung02@hotmail.com', 'Quals': 'ACIArb , PCLL , LLM , BVC , LLB , HKIAC Accredited General Mediator', 'Call': 'HK( 2008 ), UK( 2003  )'}\n",
            "89 {'Member': 'Grossman, Clive S., S.C. 郭兆銘 資深大律師', 'Name of Chambers': 'Parkside Chambers', 'Address': 'Suite 3101, Two Pacific Place, 88 Queensway, Admiralty, H.K.', 'Tel.No': '28401130', 'Fax.No': '28100612', 'Website': 'http://www.parksidechambers.com.hk/members/clive-grossman/', 'Call': 'HK( 1993 ), Inner HK( 1993 ), Cwlth( 1967  )'}\n",
            "90 {'Member': 'Gwilt, Angela Davina (Ms) 紀韻昭  (女士)', 'Name of Chambers': 'Unity Chambers', 'Address': 'Rm 602, Tower One, Lippo Centre, 89 Queensway, Admiralty, H.K.', 'Tel.No': '28686804', 'Fax.No': '28686904', 'E-mail': 'bargwilt@netvigator.com', 'Website': 'http://www.unitychambers.hk', 'Quals': 'BSc , C Chem (MRSC) , CEDR Accredited Mediator', 'Call': 'HK( 2002 ), UK( 2002  )'}\n",
            "91 {'Member': 'Hew, Yang-Wahn 丘揚萬', 'Name of Chambers': 'Des Voeux Chambers', 'Address': '38/F, Gloucester Tower, The Landmark,  Central, H.K.', 'Tel.No': '25263071', 'Fax.No': '28105287', 'Mobile': '98682868', 'E-mail': 'yangwahn@dvc.hk', 'Quals': 'MA (Oxon) , PgDL , Bar Scholarship (2004) , Charles Ching Memorial Scholarship (2005) , HKIAC Accredited General Mediator', 'Call': 'HK( 2005  )'}\n",
            "92 {'Member': 'Hingorani, Jeevan 高華理', 'Name of Chambers': 'Pacific Chambers', 'Address': 'Rm 901, Dina House, 11 Duddell St, Central, H.K.', 'Tel.No': '25215544', 'Fax.No': '25245912', 'E-mail': 'jeevan@pacificchambers.com', 'Call': 'HK( 1982 ), UK( 1978  )'}\n",
            "93 {'Member': 'Ho, Duncan D.H. 何旳匡 *', 'Name of Chambers': \"Erik Shum's Chambers\", 'Address': 'Rms 2203 A & B, Fairmont House, 8 Cotton Tree Drive, Central, H.K.', 'Tel.No': '21559343', 'Fax.No': '21559323', 'Mobile': '91846560', 'E-mail': 'duncandhho@gmail.com', 'Quals': 'Accredited Mediator (HKMAAL & HKIAC) , MCI Arb , AHKIArb , MAArbDR (City U.) , BSc (Eng) (Civil)', 'Call': 'HK( 2014  )'}\n",
            "94 {'Member': 'Ho, Jane T.C. (Ms) 何子青  (女士)', 'Name of Chambers': 'Gary Plowman S.C. Chambers', 'Address': 'Rm 1401, Tower One, Lippo Centre, 89 Queensway, Admiralty, H.K.', 'Tel.No': '25212616', 'Fax.No': '28450260', 'E-mail': 'janetcho@netvigator.com', 'Website': 'http://www.plowmanchambers.com', 'Quals': 'BSocSc , LLB , LLM , European Master in Law & Economics , CEDR Accredited Mediator', 'Call': 'HK( 2005  )'}\n",
            "95 {'Member': 'Ho, Simon 何世文', 'Name of Chambers': \"Alan Leong, S.C.'s Chambers\", 'Address': \"Rms 1323A-1328, Prince's Bldg, 10 Chater Rd, Central, H.K.\", 'Tel.No': '25266182', 'Fax.No': '28681730', 'Quals': 'LLM (Arb & DR) , FCI Arb , CEDR Accredited Mediator', 'Call': 'HK( 2000  )'}\n",
            "96 {'Member': 'Ho, Tommy K.K. 何冠驥', 'Name of Chambers': 'Academy Chambers', 'Address': 'Rm 1003, Far East Finance Centre, 16 Harcourt Rd, Admiralty, H.K.', 'Tel.No': '25255878', 'Fax.No': '25255877', 'Mobile': '91061438', 'E-mail': 'hokoonki@hkuspace.hku.hk', 'Quals': 'LLB (U. Lon) , PCLL (HK) , BA (CUHK) , PhD (Illinois) , Accredited Mediator', 'Call': 'HK( 1996  )'}\n",
            "97 {'Member': 'Hon, Kevin 韓尚志', 'Name of Chambers': '28 Admiralty', 'Address': 'Unit 2807, 28/F, Tower 1, Admiralty Centre, 18 Harcourt Rd, Admiralty, H.K.', 'Tel.No': '21229980', 'Fax.No': '21229990', 'Mobile': '98463911', 'E-mail': 'kevinhon@28admiralty.com', 'Quals': 'FCI Arb', 'Call': 'HK( 1990  )'}\n",
            "98 {'Member': 'Hotten, Keith 賀傑峰', 'Name of Chambers': 'Admiralty Chambers', 'Address': 'Rm 403, Fairmont House, 8 Cotton Tree Drive, Central, H.K.', 'Tel.No': '25273082', 'Fax.No': '25298226', 'E-mail': 'krhotten@gmail.com', 'Website': 'http://www.keithhotten.net', 'Quals': 'CEDR Accredited Mediator , MA , PhD', 'Call': 'HK( 2000 ), UK( 1990  )'}\n",
            "99 {'Member': 'Hu, Derek T.L. 胡德理', 'Name of Chambers': \"Cheng Huan SC's Chambers\", 'Address': '15/F, Dina House, 11 Duddell St, Central, H.K.', 'Tel.No': '25262293', 'Fax.No': '28453749', 'E-mail': 'hu.derek@gmail.com', 'Call': 'HK( 2009  )'}\n",
            "100 {'Member': 'Hughes, Sebastian 胡士遠 *', 'Name of Chambers': \"Prince's Chambers\", 'Address': '3002, Tower Two, Lippo Centre, 89 Queensway, Admiralty, H.K.', 'Tel.No': '25257388', 'Fax.No': '25253930', 'Mobile': '91302102', 'E-mail': 'shughes@princeschambers.com.hk', 'Quals': 'HKIAC Accredited General Mediator , LLB (Melb) , BA (Melb) , Barrister & Solicitor (Vic) [1998 -] , Barrister & Solicitor (High Court of Australia) [2002 -] , Solicitor (HK) [2003 - 2010] , FCI Arb', 'Call': 'HK( 2010  )'}\n",
            "101 {'Member': 'Hui, Daniel 許佐賓', 'Name of Chambers': 'Gilt Chambers', 'Address': '8/F, Far East Finance Centre, 16 Harcourt Rd, Admiralty, H.K.', 'Tel.No': '28668233', 'Fax.No': '28663932', 'Mobile': '97500351', 'E-mail': 'dannyhuijoseph@hotmail.com', 'Quals': 'LLB (London) , PCLL (HKU) , B Eng (London) , MRAe S (UK) , MCIL (UK) , CEDR Accredited Mediator', 'Call': 'HK( 2010  )'}\n",
            "102 {'Member': 'Hui, John K.C. 許其昌 *', 'Name of Chambers': 'Des Voeux Chambers', 'Address': '38/F, Gloucester Tower, The Landmark,  Central, H.K.', 'Tel.No': '25263071', 'Fax.No': '28105287', 'E-mail': 'johnhui@dvc.hk', 'Quals': 'BCL (Oxon) , LLB (HKU) , BBA (Law) (HKU)', 'Call': 'HK( 2008  )'}\n",
            "103 {'Member': 'Hui, William K.F. 許祈峰', 'Name of Chambers': 'Chambers of Ching Y. Wong SC', 'Address': '14/F, Kailey Tower, 16 Stanley St, Central, H.K.', 'Tel.No': '25227330', 'Fax.No': '28014729', 'E-mail': 'williamhui.chambers@gmail.com', 'Quals': 'HKMAAL Accredited General Mediator , HKIAC Accredited General Mediator', 'Call': 'HK( 2009  )'}\n",
            "104 {'Member': 'Ip, Chun Wah 葉振華 *', 'Address': 'Rm 605A, 6/F, Star House, 3 Salisbury Road, Tsimshatsui, Kowloon, H.K.', 'Tel.No': '31883130', 'Fax.No': '31889005', 'Mobile': '98779119', 'E-mail': 'chunwah.ip@gmail.com', 'Call': 'HK( 2007  )'}\n",
            "105 {'Member': 'Ip, Ho Kin 葉浩堅 *', 'Name of Chambers': 'Gary Soo’s Chambers', 'Address': 'Rms 606 & 08, Tower Two, Lippo Centre, 89 Queensway, Admiralty, H.K.', 'Tel.No': '28696325', 'Fax.No': '28696302', 'Mobile': '90963445', 'E-mail': 'honicip@yahoo.com', 'Quals': 'BBA (CUHK) , BA in Applied Psychology (HKPU) , LLB (U. Lon) , PCLL (City U.) , Cert. of Insurance Law (HKU) , Cert. in PRC Shipping Law (HKU) , MA Language & Law (City U.) , MSc (Construction Law & Dispute Resolution) (HKPU) , LLM (City U.) , Chartered Marketer , FCI Arb , FCILT , FCIM , MBPsS , HKMAAL Accredited General and Family Mediator', 'Call': 'HK( 2011  )'}\n",
            "106 {'Member': 'Ismail, Roxanne, S.C. (Ms) 葉靜思 資深大律師 (女士)', 'Name of Chambers': 'Temple Chambers', 'Address': '16/F, One Pacific Place, 88 Queensway, Admiralty, H.K.', 'Tel.No': '25232003', 'Fax.No': '28100302', 'Website': 'http://www.templechambers.com', 'Call': 'HK( 2001 ), Inner HK( 2013 ), UK( 1993  )'}\n",
            "107 {'Member': 'Jones, R. Douglas', 'Name of Chambers': 'Temple Chambers', 'Address': '16/F, One Pacific Place, 88 Queensway, Admiralty, H.K.', 'Tel.No': '25232003', 'Fax.No': '28100302', 'Mobile': '91881355', 'E-mail': 'dajones@netvigator.com', 'Website': 'http://www.templechambers.com', 'Quals': 'Solicitor (Australia) [2008 --] , FHKCA , FHKAM , FANZCA , FFARCS , LLM (Queensland) , MBBS (Tasmania) , MD (Tasmania) , Accredited Mediator', 'Call': 'HK( 1999  )'}\n",
            "108 {'Member': 'Kam, Vania C.M. (Ms) 甘靜文  (女士) *', 'Name of Chambers': 'Fortune Chambers', 'Address': 'Rm 2305-07, 23/F, Tower Two, Lippo Centre, 89 Queensway, Admiralty, H.K.', 'Tel.No': '25438099', 'Fax.No': '28452668', 'Mobile': '61768800', 'E-mail': 'vania.kam@gmail.com', 'Call': 'HK( 2007  )'}\n",
            "109 {'Member': 'Kan, Pak Him Christopher 簡柏謙', 'Address': \"Rm 1205, New World Tower 1, 18 Queen's Rd Central, H.K.\", 'Tel.No': '25211381', 'Fax.No': '28451738', 'Mobile': '93387160', 'E-mail': 'chriskan@mac.com', 'Quals': 'B. Nurs (CUHK) , Registered Nurse , CEDR Accredited Mediator , HKMAAL Accredited Family Mediator', 'Call': 'HK( 2012  )'}\n",
            "110 {'Member': 'Kat, Nigel, S.C. 祁志 資深大律師', 'Name of Chambers': 'Parkside Chambers', 'Address': 'Suite 3101, Two Pacific Place, 88 Queensway, Admiralty, H.K.', 'Tel.No': '28401130', 'Fax.No': '28100612', 'E-mail': 'chambers@nkat.net', 'Website': 'http://www.parksidechambers.com.hk/members/nigel-kat/', 'Quals': 'LLB , MBA (Export Management & International Business) , FHKI Arb , FCI Arb , Chartered Arbitrator , CEDR Accredited Mediator', 'Call': 'HK( 1984 ), Inner HK( 2015 ), UK( 1977  )'}\n",
            "111 {'Member': 'Kau, Kevin K.T. 顧建德 *', 'Name of Chambers': 'Alexandra Chambers', 'Address': 'Rm 2403, Tower Two, Lippo Centre, 89 Queensway, Admiralty, H.K.', 'Tel.No': '21170222', 'Fax.No': '21170092', 'Mobile': '93117335', 'E-mail': 'kktkau@hotmail.com.hk', 'Call': 'HK( 2010  )'}\n",
            "112 {'Member': 'Khaw, Richard, S.C. 許偉強 資深大律師 *', 'Name of Chambers': 'Temple Chambers', 'Address': '16/F, One Pacific Place, 88 Queensway, Admiralty, H.K.', 'Tel.No': '25232003', 'Fax.No': '28100302', 'Website': 'http://www.templechambers.com', 'Quals': 'FHKIArb', 'Call': 'HK( 1993 ), Inner HK( 2016  )'}\n",
            "113 {'Member': 'Kong, Hin Man Raymond 江顯文 *', 'Name of Chambers': 'Alexandra Chambers', 'Address': 'Rm 2403, Tower Two, Lippo Centre, 89 Queensway, Admiralty, H.K.', 'Tel.No': '21170222', 'Fax.No': '21170092', 'Mobile': '90310969', 'E-mail': 'raymondkong2001@yahoo.com', 'Quals': 'LLB , MSFE , MAppFin , MPA , MA (IntRel) , FRM , CIM', 'Call': 'HK( 2009  )'}\n",
            "114 {'Member': 'Kong, Moses Dick Chi 江迪智', 'Name of Chambers': 'Equity Chambers', 'Address': 'Suite 802, 8/F, Harcourt House, 39 Gloucester Rd, Wanchai, H.K.', 'Tel.No': '21164676', 'Fax.No': '21164610', 'E-mail': 'moseskong15@hotmail.com', 'Quals': 'BA (U. Toronto) , LLB (City U.) , LLM (York U.) , PCLL (City U.)', 'Call': 'HK( 2013  )'}\n",
            "115 {'Member': 'Koo, Anna K.C. (Ms)  *', 'Name of Chambers': 'Justice Chambers', 'Address': 'Suite 2901, Tower One, Lippo Centre, 89 Queensway, Admiralty, H.K.', 'Tel.No': '28610062', 'Fax.No': '28612022', 'E-mail': 'ak@akckoo.com', 'Website': 'http://www.akckoo.com', 'Quals': 'LLB (U. Lon) , LLM (I.T.&T) (U. Strathclyde) , HKIAC Accredited General Mediator , HKIAC Accredited Family Mediator , HKMAAL Accredited General Mediator , HKMAAL Accredited Family Mediator', 'Call': 'HK( 2005  )'}\n",
            "116 {'Member': 'Koo, Yeuk Lan (Ms) 古若蘭  (女士)', 'Name of Chambers': 'Wellington Chambers', 'Address': 'Unit A, 6/F, Two Chinachem Plaza, 68 Connaught Rd, Central, H.K.', 'Tel.No': '25238667', 'Fax.No': '25235947', 'E-mail': 'admin@wellcham.com.hk', 'Call': 'HK( 2001  )'}\n",
            "117 {'Member': 'Kung, Selina J.Q. (Ms) 龔靖晴  (女士)', 'Name of Chambers': \"Sir Oswald Cheung's Chambers\", 'Address': '10/F, New Henry House, 10 Ice House St, Central, H.K.', 'Tel.No': '25242156', 'Fax.No': '28105656', 'Mobile': '91971391', 'E-mail': 'selinakung@siroswald.com', 'Call': 'HK( 2009  )'}\n",
            "118 {'Member': 'Kwok, Tim 郭天穗', 'Address': \"Rm 4301, Tower One, Lippo Centre, 89 Queensway, Admiralty, H.K. [Annex to Denis Chang's Chambers]\", 'Tel.No': '25251228', 'Fax.No': '28106728', 'E-mail': 'tklegal1515@gmail.com', 'Website': 'https://dcc.law/barrister/tim-kwok/', 'Quals': 'HKMAAL Accredited General Mediator', 'Call': 'HK( 1984 ), UK( 1983  )'}\n",
            "119 {'Member': 'Kwok, Vanessa K.W. (Ms) 郭錦蕙  (女士)', 'Name of Chambers': '601 Dina House', 'Address': 'Rm 601, Dina House, 11 Duddell St, Central, H.K.', 'Tel.No': '28452020', 'Fax.No': '25960769', 'Call': 'HK( 2006  )'}\n",
            "120 {'Member': 'Kwong, Vincent C.H. 鄺展鴻 *', 'Name of Chambers': 'Queensway Chambers', 'Address': 'Rm 2003, Tower Two, Lippo Centre, 89 Queensway, Admiralty, H.K.', 'Tel.No': '23166988', 'Fax.No': '23419168', 'Mobile': '62209109', 'E-mail': 'vincentkwong0107@gmail.com', 'Quals': \"LLM (King's College London)\", 'Call': 'HK( 2009  )'}\n",
            "121 {'Member': 'Kwong, Wai Yu Claris (Ms) 鄺慧渝  (女士) *', 'Name of Chambers': \"Erik Shum's Chambers\", 'Address': 'Rms 2203 A & B, Fairmont House, 8 Cotton Tree Drive, Central, H.K.', 'Tel.No': '21559343', 'Fax.No': '21559323', 'Mobile': '94409196', 'E-mail': 'clariskwong@eschambers.com.hk', 'Quals': 'PCLL (HKU) , LLB (HKU) , BBA (Law) (HKU) , AHKIArb , HKMAAL Accredited General Mediator , LLM (Compliance and Regulation) (HKU)', 'Call': 'HK( 2014  )'}\n",
            "122 {'Member': 'Lai, Alex Y.H. 黎業鴻', 'Name of Chambers': 'Academy Chambers', 'Address': 'Rm 1003, Far East Finance Centre, 16 Harcourt Rd, Admiralty, H.K.', 'Tel.No': '25255878', 'Fax.No': '25255877', 'Mobile': '93619100', 'E-mail': 'alex.lai@academychambers.com', 'Quals': 'MAArbDR , M Arch , BA(A.S.) , HKIA , Registered Architect (HK) , FHKI Arb , FCI Arb , HKIAC Accredited General Mediator', 'Call': 'HK( 2008  )'}\n",
            "123 {'Member': 'Lai, David Tak Shing 黎德誠 *', 'Address': '1202A, 12/F, Shanghai Industrial Investment Bldg, 48-62 Hennessy Rd, Wanchai, H.K.', 'Tel.No': '22355688', 'Fax.No': '22355641', 'Mobile': '91219238', 'E-mail': 'david.lai@noblechambers.com', 'Quals': 'BSc (U. Waterloo) , LLB (HKU) , PCLL (HKU) , FCMI , MIIM , MHKIoD , AHKIArb , Mediator', 'Call': 'HK( 2008  )'}\n",
            "124 {'Member': 'Lai, Jacky T.K. 黎子健 *', 'Address': '4/F, Chung Nam Bldg, 1 Lockhart Rd, Wanchai, H.K.', 'Tel.No': '25217317', 'Fax.No': '28450654', 'Mobile': '92633407', 'E-mail': 'bar1002@netvigator.com', 'Quals': 'LLB , BSocSc , MBA , FHKI Arb , HKMAAL Accredited General Mediator , HKMAAL Accredited Family Mediator , HKIAC Accredited General Mediator , HKIAC Accredited Family Mediator', 'Call': 'HK( 2007  )'}\n",
            "125 {'Member': 'Lam, Catrina D.W. (Ms) 林定韻  (女士) *', 'Name of Chambers': 'Des Voeux Chambers', 'Address': '38/F, Gloucester Tower, The Landmark,  Central, H.K.', 'Tel.No': '25263071', 'Fax.No': '28105287', 'E-mail': 'catrinalam@dvc.com.hk', 'Website': 'http://www.dvc.hk/en/members-of-chambers/juniors/catrina-lam/', 'Call': 'HK( 1999  )'}\n",
            "126 {'Member': 'Lam, Cissy K.S. (Ms) 林勁思  (女士)', 'Name of Chambers': \"Denis Chang's Chambers\", 'Address': '9th Floor, One Lippo Centre, 89 Queensway, Admiralty, H.K.', 'Tel.No': '28107222', 'Fax.No': '28450439', 'E-mail': 'cissylam@netvigator.com', 'Quals': 'CEDR Accredited Mediator', 'Call': 'HK( 1985 ), UK( 1985  )'}\n",
            "127 {'Member': 'Lam, Douglas, S.C. 藍德業 資深大律師 *', 'Name of Chambers': 'Des Voeux Chambers', 'Address': '38/F, Gloucester Tower, The Landmark,  Central, H.K.', 'Tel.No': '25263071', 'Fax.No': '25373393', 'E-mail': 'douglaslam@dvc.com.hk', 'Call': 'HK( 1999 ), Inner HK( 2015  )'}\n",
            "128 {'Member': 'Lam, Gary Chin Ching 林展程 *', 'Name of Chambers': 'Des Voeux Chambers', 'Address': '38/F, Gloucester Tower, The Landmark,  Central, H.K.', 'Tel.No': '25263071', 'Fax.No': '28105287', 'Quals': 'BBA (Law) (HKU) , LLB (HKU) , LLM (Harv) , Bar Scholarship (2006) , Charles Ching Memorial Scholarship (2006)', 'Call': 'HK( 2007  )'}\n",
            "129 {'Member': 'Lam, Isabella W.P. (Ms) 林慧萍  (女士)', 'Address': 'Rm 2904, Tower Two, Lippo Centre, 89 Queensway, Admiralty, H.K.', 'Tel.No': '25252501', 'Fax.No': '25250086', 'E-mail': 'isabellawplam@gmail.com', 'Quals': 'Accredited Mediator', 'Call': 'HK( 2005  )'}\n",
            "130 {'Member': 'Lam, Kenneth K.Y. 林嘉仁', 'Name of Chambers': \"Jason Pow SC's Chambers\", 'Address': 'Suite 2006, One Pacific Place, 88 Queensway, Admiralty, H.K.', 'Tel.No': '25224847', 'Fax.No': '28450720', 'Mobile': '98328706', 'E-mail': 'kennethkylam@gmail.com', 'Website': 'http://jpsc-chambers.com/profile/kenneth-lam/', 'Quals': 'LLM , FHKI Arb , MCI Arb , CEDR Accredited Mediator', 'Call': 'HK( 2004  )'}\n",
            "131 {'Member': 'Lam, Mavis Ching Heng (Ms) 林靜珩  (女士) *', 'Address': '10/F, Printing House, 6 Duddell St, Central, H.K.', 'Tel.No': '25260068', 'Fax.No': '28400131', 'E-mail': 'lamchmavis@gmail.com', 'Call': 'HK( 2016  )'}\n",
            "132 {'Member': 'Lam, Osmond 林國輝', 'Name of Chambers': 'Parkside Chambers', 'Address': 'Suite 3101, Two Pacific Place, 88 Queensway, Admiralty, H.K.', 'Tel.No': '28401130', 'Fax.No': '28100612', 'Website': 'http://www.parksidechambers.com.hk/members/osmond-lam/', 'Call': 'HK( 1991 ), UK( 1988  )'}\n",
            "133 {'Member': 'Lam, Priscilia T.Y. (Ms) 林芷瑩  (女士)', 'Name of Chambers': \"Jason Pow SC's Chambers\", 'Address': 'Suite 2006, One Pacific Place, 88 Queensway, Admiralty, H.K.', 'Tel.No': '21112132', 'Fax.No': '28450720', 'E-mail': 'plamty@gmail.com', 'Quals': 'LLB (HKU) , PCLL (HKU) , LLM (Chinese Law) (HKU) , MAARM (City U.) , FHKI Arb , HKIAC Accredited General Mediator', 'Call': 'HK( 2000  )'}\n",
            "134 {'Member': 'Lam, Simon Heung-Wing 林向榮', 'Name of Chambers': 'Fortune Chambers', 'Address': 'Rm 2305-07, 23/F, Tower Two, Lippo Centre, 89 Queensway, Admiralty, H.K.', 'Tel.No': '25438099', 'Fax.No': '28452668', 'Quals': 'PCLL (HKU) , BSc , Mediator', 'Call': 'HK( 1992  )'}\n",
            "135 {'Member': 'Lam, Simon K.C. 藍建中 *', 'Name of Chambers': 'Fraternity Chambers', 'Address': 'Rm 1003A, 10/F, Far East Finance Centre, 16 Harcourt Rd, Admiralty, H.K.', 'Tel.No': '25298229', 'Fax.No': '25288383', 'E-mail': 'simonkclam@fraternity.hk', 'Quals': 'LLB , BSc , FHKI Arb , FCI Arb , MCS , HKMAAL Accredited General Mediator', 'Call': 'HK( 1989 ), UK( 1989  )'}\n",
            "136 {'Member': 'Lam, Solomon L.F. 林樂夫 *', 'Name of Chambers': 'Gary Soo’s Chambers', 'Address': 'Rms 606 & 08, Tower Two, Lippo Centre, 89 Queensway, Admiralty, H.K.', 'Tel.No': '28696325', 'Fax.No': '28696302', 'Mobile': '90475851', 'E-mail': 'solomonlam.law@gmail.com', 'Quals': 'MICE , CEng , MCI Arb , HKMAAL Accredited General Mediator , HKIAC Accredited Mediator , B Eng (Civil) (HKU) , MA Arb & Dr (City U.) , FHKI Arb', 'Call': 'HK( 2012  )'}\n",
            "137 {'Member': 'Lam, Stephanie Tuen Yee (Ms) 林端儀  (女士) *', 'Name of Chambers': \"Denis Chang's Chambers\", 'Address': '9th Floor, One Lippo Centre, 89 Queensway, Admiralty, H.K.', 'Tel.No': '28107222', 'Fax.No': '28450439', 'Mobile': '68087084', 'E-mail': 'stephanielam@dcc.law', 'Website': 'https://dcc.law/barrister/stephanie-t-y-lam/', 'Quals': 'BSc (Northwestern U.) (USA) , MIPA (HKU) , JD (HKU) , HKMAAL Accredited General Mediator', 'Call': 'HK( 2014  )'}\n",
            "138 {'Member': 'Lam, Vincent C.W. 林仲煒', 'Address': '804A, Tower 1, Admiralty Centre, 18 Harcourt Rd, Admiralty, H.K.', 'Tel.No': '25260101', 'Fax.No': '25263168', 'Mobile': '97558045', 'E-mail': 'vincentcwlam@gmail.com', 'Call': 'HK( 2002  )'}\n",
            "139 {'Member': 'Lam, Yanky S.Y. (Ms) 林紹欣  (女士)', 'Name of Chambers': 'Equity Chambers', 'Address': 'Suite 802, 8/F, Harcourt House, 39 Gloucester Rd, Wanchai, H.K.', 'Tel.No': '21164676', 'Fax.No': '21164610', 'E-mail': 'yanky.lam@equitychambers.com.hk', 'Quals': 'CEDR Accredited Mediator', 'Call': 'HK( 1999  )'}\n",
            "140 {'Member': 'Lau, Julia P.G. (Ms) 劉佩芝  (女士)', 'Name of Chambers': 'Hin Lee Chambers', 'Address': '10/F, Grand Bldg, 15-18 Connaught Road Central, Central, H.K.', 'Tel.No': '25240151', 'Fax.No': '28101731', 'Quals': 'CEDR Accredited Mediator', 'Call': 'HK( 1995 ), UK( 1994  )'}\n",
            "141 {'Member': 'Lau, Karen C.K. (Ms) 劉正嘉  (女士)', 'Name of Chambers': 'Admiralty Chambers', 'Address': 'Rm 403, Fairmont House, 8 Cotton Tree Drive, Central, H.K.', 'Tel.No': '25273082', 'Fax.No': '25298226', 'Mobile': '91237510', 'Call': 'HK( 2013  )'}\n",
            "142 {'Member': 'Lau, Keith K.K. 劉光球 *', 'Name of Chambers': 'Fraternity Chambers', 'Address': 'Rm 1003A, 10/F, Far East Finance Centre, 16 Harcourt Rd, Admiralty, H.K.', 'Tel.No': '25298229', 'Fax.No': '25288383', 'Call': 'HK( 2008  )'}\n",
            "143 {'Member': 'Lau, Lorinda C.W. (Ms) 劉智慧  (女士) *', 'Name of Chambers': 'Fortune Chambers', 'Address': 'Rm 2305-07, 23/F, Tower Two, Lippo Centre, 89 Queensway, Admiralty, H.K.', 'Tel.No': '25438099', 'Fax.No': '28452668', 'Call': 'HK( 1997  )'}\n",
            "144 {'Member': 'Lau, Queenie F. (Ms) 劉恩沛  (女士) *', 'Name of Chambers': 'Temple Chambers', 'Address': '16/F, One Pacific Place, 88 Queensway, Admiralty, H.K.', 'Tel.No': '25232003', 'Fax.No': '28100302', 'E-mail': 'qlau@templechambers.com', 'Website': 'http://www.templechambers.com', 'Quals': 'BA (Cantab) , Solicitor (HK) [2007-2008] , Solicitor (UK - non-practising) [2008 --] , CEDR Accredited Mediator , HKIAC Accredited Mediator , MA (Cantab) , MCI Arb', 'Call': 'HK( 2008  )'}\n",
            "145 {'Member': 'Lau, Roland 劉偉華', 'Name of Chambers': \"Kenneth C.L. Chan's Chambers\", 'Address': 'Rm 1406, China Insurance Group Bldg, 141 Des Voeux Rd Central, H.K.', 'Tel.No': '21473300', 'Fax.No': '21473395', 'Call': 'HK( 1997  )'}\n",
            "146 {'Member': 'Lau, Roy K.Y. 劉啟賢', 'Address': \"Rm 1318, Prince's Bldg, 10 Chater Rd, Central, H.K. [Annex to Alan Leong, S.C.'s Chambers]\", 'Tel.No': '25268128', 'Fax.No': '25268500', 'Mobile': '92672277', 'E-mail': 'broylau@gmail.com', 'Quals': 'CEDR Accredited Mediator', 'Call': 'HK( 2005  )'}\n",
            "147 {'Member': 'Lau, Stanley Fai 劉輝 *', 'Name of Chambers': 'Harcourt Chambers', 'Address': '3403, Bank of America Tower, 12 Harcourt Rd, Central, H.K.', 'Tel.No': '28017338', 'Fax.No': '28016229', 'Mobile': '97159238', 'E-mail': 'stanleylaufai@hotmail.com', 'Website': 'https://www.harcourtchambers.com/members/lau-fai-stanley/', 'Quals': 'B Eng (Civil) , MSc (Civil) , PGCBA , LLB , PCLL , MHKIE (CVL) , RPE (CVL) , CEDR Accredited Mediator', 'Call': 'HK( 2013  )'}\n",
            "148 {'Member': 'Lau, Steven C.L. 劉超麟', 'Name of Chambers': 'Kingston Chambers', 'Address': 'Unit 1203, 12/F, Bank of America Tower, 12 Harcourt Rd, Central, H.K.', 'Tel.No': '28698399', 'Fax.No': '25378363', 'Call': 'HK( 2000  )'}\n",
            "149 {'Member': 'Lau, Wan Ching (Ms) 劉韻清  (女士) *', 'Name of Chambers': 'Gilt Chambers', 'Address': '8/F, Far East Finance Centre, 16 Harcourt Rd, Admiralty, H.K.', 'Tel.No': '28668233', 'Fax.No': '28663932', 'Mobile': '97350213', 'E-mail': 'lauc98@hotmail.com', 'Quals': 'PCLL (HKU) , MBA (Warwick) , MPA (HKU) , CEDR Accredited Mediator , HKMAAL Accredited General Mediator', 'Call': 'HK( 2007  )'}\n",
            "150 {'Member': 'Lau, Yat Hung 劉日雄', 'Name of Chambers': \"Cheng Huan SC's Chambers\", 'Address': '15/F, Dina House, 11 Duddell St, Central, H.K.', 'Tel.No': '25262293', 'Fax.No': '28453749', 'Mobile': '90888258', 'E-mail': 'noelyhlau@gmail.com', 'Quals': 'HKMAAL Accredited General and Family Mediator', 'Call': 'HK( 1996  )'}\n",
            "151 {'Member': 'Law, Lewis C.M. 羅頌明 *', 'Name of Chambers': 'Parkside Chambers', 'Address': 'Suite 3101, Two Pacific Place, 88 Queensway, Admiralty, H.K.', 'Tel.No': '28401130', 'Fax.No': '28100612', 'E-mail': 'lewis.law@parksidechambers.com.hk', 'Website': 'http://www.parksidechambers.com.hk/members/lewis-c-m-law/', 'Call': 'HK( 2005  )'}\n",
            "152 {'Member': 'Law, Man Chung 羅敏聰', 'Name of Chambers': 'Temple Chambers', 'Address': '16/F, One Pacific Place, 88 Queensway, Admiralty, H.K.', 'Tel.No': '25232003', 'Fax.No': '28100302', 'E-mail': 'mclaw@templechambers.com', 'Website': 'http://www.templechambers.com', 'Quals': 'BA (Oxon) , PCLL (HKU) , CEDR Accredited Mediator', 'Call': 'HK( 1997  )'}\n",
            "153 {'Member': 'Lee, Alan W.H. 李允浩 *', 'Name of Chambers': 'Wellington Chambers', 'Address': 'Unit A, 6/F, Two Chinachem Plaza, 68 Connaught Rd, Central, H.K.', 'Tel.No': '25238667', 'Fax.No': '25235947', 'Mobile': '68168333', 'E-mail': 'leewanhoalan@gmail.com', 'Call': 'HK( 2006  )'}\n",
            "154 {'Member': 'Lee, Amanda W.Y. (Ms) 李頴兒  (女士) *', 'Name of Chambers': \"Wong Man Kit SC's Chambers\", 'Address': 'Suites 902-905, Bank of America Tower, 12 Harcourt Rd, Central, H.K.', 'Tel.No': '29189187', 'Fax.No': '29189197', 'E-mail': 'amandawylee@gmail.com', 'Website': 'http://mkwong.com.hk/people/amanda-wy-lee', 'Quals': 'Mediator', 'Call': 'HK( 2004 ), UK( 2004  )'}\n",
            "155 {'Member': 'Lee, Christina W.W. (Ms) 李蘊華  (女士)', 'Name of Chambers': \"Denis Chang's Chambers\", 'Address': '9th Floor, One Lippo Centre, 89 Queensway, Admiralty, H.K.', 'Tel.No': '28107222', 'Fax.No': '28450439', 'Website': 'https://dcc.law/barrister/christina-lee/', 'Call': 'HK( 1988 ), UK( 1988  )'}\n",
            "156 {'Member': 'Lee, Connie H.Y. (Ms) 李匡怡  (女士) *', 'Name of Chambers': 'Des Voeux Chambers', 'Address': '38/F, Gloucester Tower, The Landmark,  Central, H.K.', 'Tel.No': '25263071', 'Fax.No': '28105287', 'E-mail': 'connie.lee@dvc.com.hk', 'Website': 'http://www.dvc.hk', 'Quals': 'BSS (Govt & Laws)(HKU) , LLB (HKU) , BCL (Oxon) , Bar Scholarship 2008', 'Call': 'HK( 2009  )'}\n",
            "157 {'Member': 'Lee, Ivan C.H. 李俊熙 *', 'Name of Chambers': 'Gary Plowman S.C. Chambers', 'Address': 'Rm 1401, Tower One, Lippo Centre, 89 Queensway, Admiralty, H.K.', 'Tel.No': '25212616', 'Fax.No': '28450260', 'Mobile': '61963614', 'E-mail': 'ivanlee.lch@gmail.com', 'Quals': 'LLB (CUHK) , LLM (LSE) , PCLL (CUHK) , CEDR Accredited Mediator', 'Call': 'HK( 2016  )'}\n",
            "158 {'Member': 'Lee, James 李劍強 *', 'Name of Chambers': \"Alan Leong, S.C.'s Chambers\", 'Address': \"Rms 1323A-1328, Prince's Bldg, 10 Chater Rd, Central, H.K.\", 'Tel.No': '25266182', 'Fax.No': '28681730', 'Mobile': '94236088', 'Website': 'http://www.alsc-chambers.com/jameslee.html', 'Quals': 'LLD (Wuhan U. China) , LLM (Renmin U. of China) , LLM (Chinese & Comparative Law) (City U.) , LLB (U. Lon) , LLB (China U. of Political Science & Law) , B Arch (HKU) , BA (Arch Stud) (HKU) , Class 1 Registered Architect Qualification (PRC) , APEC Architect , FHKIA , RIBA (Chartered Architect) , RAIA , Registered Architect (HKSAR) , Authorized Person (List of Architects) , FHKI Arb , FCI Arb , HKIAC Accredited General Mediator , HKMAAL Accredited General Mediator', 'Call': 'HK( 1992 ), UK( 1992  )'}\n",
            "159 {'Member': 'Lee, Jonathan K.W. 李國維', 'Name of Chambers': \"Sir Oswald Cheung's Chambers\", 'Address': '10/F, New Henry House, 10 Ice House St, Central, H.K.', 'Tel.No': '25242156', 'Fax.No': '28105656', 'E-mail': 'jonathanlee@siroswald.com', 'Website': 'http://www.siroswald.com', 'Quals': 'BComm (U. Toronto) , LLB (U. London) , PCLL (HKU) , CEDR Accredited Mediator', 'Call': 'HK( 2009  )'}\n",
            "160 {'Member': 'Lee, Rebecca M.K. (Ms) 李慕潔  (女士)', 'Address': '19/F, Yam Tze Commercial Bldg, 23 Thomson Road, Wanchai, H.K.', 'Tel.No': '25251229', 'Fax.No': '25279229', 'Call': 'HK( 1992  )'}\n",
            "161 {'Member': 'Lee, Sylvia (Ms) 李曉華  (女士) *', 'Name of Chambers': 'Unity Chambers', 'Address': 'Rm 602, Tower One, Lippo Centre, 89 Queensway, Admiralty, H.K.', 'Tel.No': '28686804', 'Fax.No': '28686904', 'E-mail': 'SHWL05@gmail.com', 'Website': 'http://www.unitychambers.hk', 'Quals': 'BA (UWO) , MA (Cantab) , CEDR Accredited Mediator , LLM (HKU)', 'Call': 'HK( 2005  )'}\n",
            "162 {'Member': 'Lee, Thomas W.M. 李煥文', 'Name of Chambers': \"Sir Oswald Cheung's Chambers\", 'Address': '10/F, New Henry House, 10 Ice House St, Central, H.K.', 'Tel.No': '28262200', 'Fax.No': '28686763', 'E-mail': 'twmlee@siroswald.com', 'Website': 'https://www.siroswald.com/en/Members/Thomas_Lee', 'Quals': 'Solicitor (HK) [1992-1999] , Solicitor (UK) [1992 --] , Solicitor (Queensland) [1990 --] , Chartered Arbitrator , FCI Arb , Accredited Mediator', 'Call': 'HK( 1999  )'}\n",
            "163 {'Member': 'Lee, Victor K.C. 李國銓', 'Name of Chambers': \"Cheng Huan SC's Chambers\", 'Address': '15/F, Dina House, 11 Duddell St, Central, H.K.', 'Tel.No': '25262293', 'Fax.No': '28453749', 'Quals': 'LLB , LLM , FCI Arb', 'Call': 'HK( 1999 ), New York( 2003  )'}\n",
            "164 {'Member': 'Lee, Yiu Chung 李耀宗', 'Name of Chambers': 'Unity Chambers', 'Address': 'Rm 602, Tower One, Lippo Centre, 89 Queensway, Admiralty, H.K.', 'Tel.No': '28686804', 'Fax.No': '28686904', 'Mobile': '92512018', 'Pager': '61777463', 'E-mail': 'yclee0972011@gmail.com', 'Website': 'http://www.unitychambers.hk', 'Call': 'HK( 2000  )'}\n",
            "165 {'Member': 'Leung, Adrian 梁希賢', 'Address': '1710 Eastern Harbour Centre, 28 Hoi Chak Street, Quarry Bay, H.K.', 'Tel.No': '21856455', 'Fax.No': '21873117', 'Mobile': '91059959', 'E-mail': 'aleung@reyeschambers.co', 'Quals': 'Charles Ching Memorial Scholarship (2005) , LLB (HKU) , LLM (Commercial & Corporate Law) (U. Lon)', 'Call': 'HK( 2006  )'}\n",
            "166 {'Member': 'Leung, Annie W.M. (Ms) 梁慧敏  (女士) *', 'Name of Chambers': 'Gilt Chambers', 'Address': '8/F, Far East Finance Centre, 16 Harcourt Rd, Admiralty, H.K.', 'Tel.No': '28668233', 'Fax.No': '28667858', 'Mobile': '64832828', 'E-mail': 'anniewmleung@gmail.com', 'Quals': 'Solicitor (Australia) [2004 --] , LLB (Monash U.) , B Comm (Monash U.) , PCLL (HKU) , PDLP (Monash U.)', 'Call': 'HK( 2006 ), Australia( 2004  )'}\n",
            "167 {'Member': 'Leung, Colin 梁思俊', 'Name of Chambers': 'Queensway Chambers', 'Address': 'Rm 2003, Tower Two, Lippo Centre, 89 Queensway, Admiralty, H.K.', 'Tel.No': '23166988', 'Fax.No': '23419168', 'Mobile': '67084455', 'E-mail': 'colinleung@yahoo.com', 'Quals': 'BBA (Wisconsin-Madison) , JD (CUHK) , PCLL (CUHK) , CEDR Accredited Mediator', 'Call': 'HK( 2011  )'}\n",
            "168 {'Member': 'Leung, Desmond H.K. 梁浩翹 *', 'Name of Chambers': \"Sir Oswald Cheung's Chambers\", 'Address': '10/F, New Henry House, 10 Ice House St, Central, H.K.', 'Tel.No': '25242156', 'Fax.No': '28105656', 'E-mail': 'desmondl@siroswald.com', 'Quals': 'LLM (Arbitration & Dispute Resolution)(HKU) , LLB (U. Lon) , BSc (Surveying) (HKU) , FCI Arb , MRICS , MHKIS , Registered Professional Surveyor (Gen. Practice) , HKMAAL Accredited General Mediator , HKIAC Accredited General Mediator', 'Call': 'HK( 2006  )'}\n",
            "169 {'Member': 'Leung, Gary 梁祖澤 *', 'Name of Chambers': \"Alan Leong, S.C.'s Chambers\", 'Address': \"Rms 1323A-1328, Prince's Bldg, 10 Chater Rd, Central, H.K.\", 'Tel.No': '25266182', 'Fax.No': '28681730', 'Mobile': '92474900', 'E-mail': 'gary.cc.leung@gmail.com', 'Quals': 'CEDR Accredited Mediator', 'Call': 'HK( 2011  )'}\n",
            "170 {'Member': 'Leung, Hing Fung 梁慶豐', 'Address': 'Rm 2904, Tower Two, Lippo Centre, 89 Queensway, Admiralty, H.K.', 'Tel.No': '25252501', 'Fax.No': '25250086', 'Quals': 'LLB , LLM , MA Arb & DR , FHKI Arb , FCI Arb , FHKIS , FRICS , B Building , BSc (Building Studies) , RPS (QS)', 'Call': 'HK( 1992  )'}\n",
            "171 {'Member': 'Leung, Ivy Y.S. (Ms) 梁苑姍  (女士) *', 'Name of Chambers': 'Fortune Chambers', 'Address': 'Rm 2305-07, 23/F, Tower Two, Lippo Centre, 89 Queensway, Admiralty, H.K.', 'Tel.No': '25438099', 'Fax.No': '28452668', 'Mobile': '92668418', 'E-mail': 'ivyysleung@gmail.com', 'Quals': 'LLB , LLM , LLB (Chinese Law) , Mediator', 'Call': 'HK( 2002  )'}\n",
            "172 {'Member': 'Leung, Michael L.Y. 梁禮賢', 'Address': '12/F, Fung House, 19-20 Connaught Rd Central, H.K.', 'Tel.No': '28680806', 'Fax.No': '28686195', 'Call': 'HK( 2001  )'}\n",
            "173 {'Member': 'Leung, Pauline Po Lam (Ms) 梁寶琳  (女士)', 'Name of Chambers': 'Bernacchi Chambers', 'Address': '1402, Tower 1, Admiralty Centre, 18 Harcourt Rd, Admiralty, H.K.', 'Tel.No': '25220066', 'Fax.No': '28450851', 'E-mail': 'paulineleung@bernacchichambers.com', 'Call': 'HK( 2000  )'}\n",
            "174 {'Member': 'Leung, Raymond Wai-Man, S.C. 梁偉文 資深大律師', 'Name of Chambers': 'Temple Chambers', 'Address': '16/F, One Pacific Place, 88 Queensway, Admiralty, H.K.', 'Tel.No': '25232003', 'Fax.No': '28100302', 'Website': 'http://www.templechambers.com', 'Call': 'HK( 1992 ), Inner HK( 2014 ), UK( 1992  )'}\n",
            "175 {'Member': 'Leung, Richard W.K. 梁偉強', 'Name of Chambers': 'Des Voeux Chambers', 'Address': '38/F, Gloucester Tower, The Landmark,  Central, H.K.', 'Tel.No': '25263071', 'Fax.No': '28105287', 'E-mail': 'richardleung@dvc.com.hk', 'Quals': 'LLB , MA , FCCA , FCIS', 'Call': 'HK( 1994 ), UK( 1994  )'}\n",
            "176 {'Member': 'Leung, Ronny Y.W. 梁耀煒 *', 'Name of Chambers': \"Wong Man Kit SC's Chambers\", 'Address': 'Suites 902-905, Bank of America Tower, 12 Harcourt Rd, Central, H.K.', 'Tel.No': '29189187', 'Fax.No': '29189197', 'E-mail': 'ronnyleung@gmail.com', 'Website': 'http://www.hkba.org/barrister/leung-ronny-yw', 'Call': 'HK( 2006  )'}\n",
            "177 {'Member': 'Leung, Shannon (Ms) 梁家欣  (女士) *', 'Name of Chambers': 'Chambers of Ronny Wong S.C.', 'Address': 'Rms 3206-3208, Alexandra House, 18 Chater Rd, Central, H.K.', 'Tel.No': '25261732', 'Fax.No': '28455421', 'Mobile': '91722798', 'E-mail': 'shannon@shannonleung.com', 'Quals': 'LLM (Commercial Law) (U. Lon)', 'Call': 'HK( 2005  )'}\n",
            "178 {'Member': 'Leung, Wilson 梁允信', 'Name of Chambers': 'Temple Chambers', 'Address': '16/F, One Pacific Place, 88 Queensway, Admiralty, H.K.', 'Tel.No': '28401131', 'Fax.No': '28100302', 'E-mail': 'wleung@templechambers.com', 'Website': 'http://www.templechambers.com', 'Quals': 'Bar Scholarship (2007) , Charles Ching Memorial Scholarship (2007) , FCI Arb , HKIAC Accredited General Mediator , HKMAAL Accredited General Mediator , FHKIArb', 'Call': 'HK( 2008  )'}\n",
            "179 {'Member': 'Li, Doris Y.Y. (Ms) 李英瑜  (女士)', 'Name of Chambers': 'Chambers of Ronny Wong S.C.', 'Address': 'Rms 3206-3208, Alexandra House, 18 Chater Rd, Central, H.K.', 'Tel.No': '25261732', 'Fax.No': '28455421', 'Mobile': '91509394', 'E-mail': 'dorisli@rwchambers.com', 'Quals': 'LLB (U. Durham) , HKMAAL Accredited General Mediator', 'Call': 'HK( 2009  )'}\n",
            "180 {'Member': 'Li, James K.W. 李家驊', 'Name of Chambers': 'Olympia Chambers', 'Address': 'Rm 56, 5/F, New Henry House, 10 Ice House St, Central, H.K.', 'Tel.No': '24579996', 'Fax.No': '24579997', 'E-mail': 'jameskw.li@gmail.com', 'Website': 'http://www.olyc.hk', 'Call': 'HK( 2002  )'}\n",
            "181 {'Member': 'Li, Kevin K.F. 利啟鋒', 'Name of Chambers': 'Pacific Chambers', 'Address': 'Rm 901, Dina House, 11 Duddell St, Central, H.K.', 'Tel.No': '25215544', 'Fax.No': '25245912', 'Mobile': '90412297', 'E-mail': 'kevin@pacificchambers.com', 'Quals': 'CEDR Accredited Mediator', 'Call': 'HK( 2006  )'}\n",
            "182 {'Member': 'Li, Laurence L.J., S.C. 李律仁 資深大律師 *', 'Name of Chambers': 'Temple Chambers', 'Address': '16/F, One Pacific Place, 88 Queensway, Admiralty, H.K.', 'Tel.No': '28401131', 'Fax.No': '28100302', 'E-mail': 'laurenceli@templechambers.com', 'Website': 'http://www.templechambers.com', 'Quals': 'BA (Yale) , JD (Harv)', 'Call': 'HK( 2006 ), Inner HK( 2019 ), New York( 1998  )'}\n",
            "183 {'Member': 'Li, Liza L.S. (Ms) 李荔珊  (女士) *', 'Name of Chambers': 'Unity Chambers', 'Address': 'Rm 602, Tower One, Lippo Centre, 89 Queensway, Admiralty, H.K.', 'Tel.No': '28686804', 'Fax.No': '28686904', 'Mobile': '94573614', 'Website': 'http://www.unitychambers.hk', 'Quals': 'CEDR Accredited Mediator , HKMAAL Accredited General Mediator', 'Call': 'HK( 2007  )'}\n",
            "184 {'Member': 'Li, Sai Keung 李世強 *', 'Address': '5/F, 45 Gough St,  Central, H.K.', 'Tel.No': '21365618', 'Fax.No': '24632838', 'Mobile': '96742398', 'E-mail': 'emilsaikeungli@gmail.com', 'Quals': 'Chartered Engineer (UK) , M. Sc. (Eng) (HKU) , LLM (Peking U.) , MBA (HKU) , DBA (Macquarie U.) , Accredited Mediator , HKMAAL Accredited General Mediator', 'Call': 'HK( 2008  )'}\n",
            "185 {'Member': 'Li, Vincent M.K. 李文江 *', 'Name of Chambers': 'Gary Soo’s Chambers', 'Address': 'Rms 606 & 08, Tower Two, Lippo Centre, 89 Queensway, Admiralty, H.K.', 'Tel.No': '28696325', 'Fax.No': '28696302', 'Mobile': '63306619', 'E-mail': 'vincentli.counsel@yahoo.com.hk', 'Website': 'http://www.gschambers.hk/', 'Quals': 'HKIAC Arbitrator , KLRAC Arbitrator , CIETAC Arbitrator , GZAC Listed Arbitrator , HKMAAL Accredited General Mediator , Registered Professional Engineer (HK) , Chartered Engineer (UK) , MHKIE , MICE , FHKI Arb  , LLM , MBA , BSc (Eng)', 'Call': 'HK( 2010  )'}\n",
            "186 {'Member': 'Li, Yin Ting Winnie (Ms) 李燕婷  (女士) *', 'Name of Chambers': \"Sir Oswald Cheung's Chambers\", 'Address': '10/F, New Henry House, 10 Ice House St, Central, H.K.', 'Tel.No': '25242156', 'Fax.No': '28105656', 'Mobile': '55053903', 'E-mail': 'winnie@siroswald.com', 'Quals': 'BSS (Govt & Laws)(HKU) , LLB (HKU) , PCLL (HKU) , HKMAAL Accredited General Mediator', 'Call': 'HK( 2016  )'}\n",
            "187 {'Member': 'Liang, Cecilia (Ms) 梁新燕  (女士) *', 'Name of Chambers': 'Wellington Chambers', 'Address': 'Unit A, 6/F, Two Chinachem Plaza, 68 Connaught Rd, Central, H.K.', 'Tel.No': '25238667', 'Fax.No': '25235947', 'Call': 'HK( 1989 ), UK( 1989  )'}\n",
            "188 {'Member': 'Liao, Andrew, S.C. 廖長城 資深大律師', 'Name of Chambers': 'Andrew Liao SC’s Chambers', 'Address': 'Rm 82, New Henry House, 10 Ice House St, Central, H.K.', 'Tel.No': '25300430', 'Fax.No': '25300108', 'E-mail': 'alpatc@netvigator.com', 'Call': 'HK( 1975 ), Inner HK( 1989 ), UK( 1974  )'}\n",
            "189 {'Member': 'Liao, Martin C.K. 廖長江', 'Address': '1101 Shui On Centre, 6-8 Harbour Road, Wan Chai, H.K.', 'Tel.No': '25225121', 'Fax.No': '28101827', 'E-mail': 'martinckliao@gmail.com', 'Call': 'HK( 1985 ), UK( 1984  )'}\n",
            "190 {'Member': 'Ling, Chun Wai 凌振威 *', 'Name of Chambers': 'Des Voeux Chambers', 'Address': '38/F, Gloucester Tower, The Landmark,  Central, H.K.', 'Tel.No': '25263071', 'Fax.No': '28105287', 'E-mail': 'cwling@dvc.hk', 'Website': 'http://www.dvc.hk/members-of-chambers/juniors/ling-chun-wai', 'Quals': 'LLB (U. Lon) , LLM (Cantab) , FCI Arb , HKIAC Accredited General Mediator , Member of HKIAC Panel of Arbitrators for Intellectual Property Disputes', 'Call': 'HK( 1996 ), UK( 1996  )'}\n",
            "191 {'Member': 'Ling, Vickie W.K. (Ms) 凌蔚璣  (女士) *', 'Name of Chambers': 'Admiralty Chambers', 'Address': 'Rm 403, Fairmont House, 8 Cotton Tree Drive, Central, H.K.', 'Tel.No': '25273082', 'Fax.No': '25298226', 'E-mail': 'vickie.ling@lawyer.com', 'Quals': 'Solicitor (HK) [1999-2003] , Solicitor (UK) [2000-2005] , HKMC Accredited Mediator , HKMAAL Accredited General Mediator', 'Call': 'HK( 2003  )'}\n",
            "192 {'Member': 'Liu, Elaine (Ms) 廖玉玲  (女士) *', 'Name of Chambers': \"Sir Oswald Cheung's Chambers\", 'Address': '10/F, New Henry House, 10 Ice House St, Central, H.K.', 'Tel.No': '25242156', 'Fax.No': '28696933', 'E-mail': 'elaineliu@siroswald.com', 'Quals': 'Solicitor (HK) [1992-2001] , Solicitor (UK) [1993 --] , LLM (U. Lon)', 'Call': 'HK( 2001  )'}\n",
            "193 {'Member': 'Liu, Michael K.W. 廖建華 *', 'Address': 'Rm 121, 12/F, New Henry House, 10 Ice House St, Central, H.K.', 'Tel.No': '25233011', 'Fax.No': '25247559', 'E-mail': 'kinwaliu@netvigator.com', 'Quals': 'LLB (HKU) , PCLL (HKU) , LLB (Chinese Law)(Tsinghua U.) , BA (HKU) , FHKI Arb , Executive MBA (CUHK) , LLM (Corporate and Financial Law) (HKU) , CEDR Accredited Mediator', 'Call': 'HK( 1989 ), Singapore( 1995  )'}\n",
            "194 {'Member': 'Lo, Benny 盧君政 *', 'Name of Chambers': 'Des Voeux Chambers', 'Address': '38/F, Gloucester Tower, The Landmark,  Central, H.K.', 'Tel.No': '25263071', 'Fax.No': '28105287', 'E-mail': 'Benny.Lo@dvc.hk', 'Quals': 'MA (Cantab) , BPharm (Nott) , PhD (Pharmaceutical Science) (Nott) , Charles Ching Memorial Scholarship (2007) , HKIAC Accredited General Mediator , FCI Arb , FHKI Arb , HKMAAL Accredited General Mediator', 'Call': 'HK( 2008  )'}\n",
            "195 {'Member': 'Lo, Chuck C.H. 盧卓謙', 'Name of Chambers': 'Harcourt Chambers', 'Address': '3403, Bank of America Tower, 12 Harcourt Rd, Central, H.K.', 'Tel.No': '28017338', 'Fax.No': '28016229', 'Mobile': '94228172', 'E-mail': 'chuck@harcourtchambers.com', 'Call': 'HK( 2011  )'}\n",
            "196 {'Member': 'Lo, Henry H.Y. 盧漢耀', 'Name of Chambers': 'Fraternity Chambers', 'Address': 'Rm 1003A, 10/F, Far East Finance Centre, 16 Harcourt Rd, Admiralty, H.K.', 'Tel.No': '25298229', 'Fax.No': '25288383', 'Quals': 'FHKI Arb , FCI Arb', 'Call': 'HK( 1988  )'}\n",
            "197 {'Member': 'Lo, Money (Ms) 盧敏儀  (女士)', 'Name of Chambers': \"Cheng Huan SC's Chambers\", 'Address': '15/F, Dina House, 11 Duddell St, Central, H.K.', 'Tel.No': '25262293', 'Fax.No': '28453749', 'Call': 'HK( 2002  )'}\n",
            "198 {'Member': 'Lo, P.Y. 羅沛然', 'Name of Chambers': 'Gilt Chambers', 'Address': '8/F, Far East Finance Centre, 16 Harcourt Rd, Admiralty, H.K.', 'Tel.No': '28668233', 'Fax.No': '28663932', 'E-mail': 'pylo@giltchambers.com', 'Call': 'HK( 1992 ), UK( 1992  )'}\n",
            "199 {'Member': 'Lo, Tommy K.F. 盧敬輝', 'Name of Chambers': \"Sir Oswald Cheung's Chambers\", 'Address': '10/F, New Henry House, 10 Ice House St, Central, H.K.', 'Tel.No': '25242156', 'Fax.No': '28017063', 'E-mail': 'tl@siroswald.com', 'Quals': 'Solicitor (HK) [1986-1999] , Solicitor (UK) [1990 --] , Solicitor (Australia) [1990 --] , Solicitor (Singapore) [1990 --] , CEDR Accredited Mediator', 'Call': 'HK( 1999  )'}\n",
            "200 {'Member': 'Loh, Phillis L.P. (Ms) 羅麗萍  (女士) *', 'Name of Chambers': '601 Dina House', 'Address': 'Rm 601, Dina House, 11 Duddell St, Central, H.K.', 'Tel.No': '28452020', 'Fax.No': '25960769', 'E-mail': 'ploh601@gmail.com', 'Quals': 'Solicitor (HK) [1990-1997] , Solicitor (UK) [1991-1997] , Solicitor (Canberra) [1992 --]', 'Call': 'HK( 1998  )'}\n",
            "201 {'Member': 'Lok, Frances M.Y. (Ms) 駱敏賢  (女士) *', 'Name of Chambers': 'Des Voeux Chambers', 'Address': '38/F, Gloucester Tower, The Landmark,  Central, H.K.', 'Tel.No': '25263071', 'Fax.No': '28105287', 'E-mail': 'frances.lok@dvc.hk', 'Website': 'http://www.dvc.hk/en/members-of-chambers/juniors/frances-lok/', 'Quals': 'LLM (Harv) , BA (Oxon) , BA (CUHK) , Bar Scholarship (2006)', 'Call': 'HK( 2007 ), New York( 2008  )'}\n",
            "202 {'Member': 'Low, Theresa (Ms)', 'Name of Chambers': 'Harcourt Chambers', 'Address': '3403, Bank of America Tower, 12 Harcourt Rd, Central, H.K.', 'Tel.No': '28017338', 'Fax.No': '28016229', 'E-mail': 'theresa_fklow@hotmail.com', 'Website': 'https://www.harcourtchambers.com/members/theresa-low/', 'Quals': 'CEDR Accredited Mediator', 'Call': 'HK( 1999 ), UK( 1999  )'}\n",
            "203 {'Member': 'Lui, Ann T.Y. (Ms) 雷天恩  (女士)', 'Name of Chambers': 'Parkside Chambers', 'Address': 'Suite 3101, Two Pacific Place, 88 Queensway, Admiralty, H.K.', 'Tel.No': '28401130', 'Fax.No': '28100612', 'E-mail': 'ann.lui@parksidechambers.com.hk', 'Website': 'http://www.parksidechambers.com.hk/members/ann-lui/', 'Quals': 'Bar Scholarship (2006) , Charles Ching Memorial Scholarship (2006) , BCL (Oxon)', 'Call': 'HK( 2007  )'}\n",
            "204 {'Member': 'Lui, Nana W.T. (Ms) 呂慧婷  (女士)', 'Address': 'Rm 28, New Henry House, 10 Ice House St, Central, H.K. [Annex to Andrew Liao SC’s Chambers]', 'Tel.No': '35763130', 'Fax.No': '35763030', 'E-mail': 'nwtlui@gmail.com', 'Quals': 'CEDR Accredited Mediator', 'Call': 'HK( 2005  )'}\n",
            "205 {'Member': 'Lui, Verna (Ms) 呂琬琳  (女士)', 'Name of Chambers': \"Sir Oswald Cheung's Chambers\", 'Address': '10/F, New Henry House, 10 Ice House St, Central, H.K.', 'Tel.No': '25242156', 'Fax.No': '25261323', 'E-mail': 'vlui@siroswald.com', 'Website': 'http://www.siroswald.com/MembersDetails.aspx?id=66', 'Quals': 'CEDR Accredited Mediator', 'Call': 'HK( 2007  )'}\n",
            "206 {'Member': 'Lui, Vickie Hei Yue (Ms) 呂浠瑜  (女士) *', 'Name of Chambers': 'Gilt Chambers', 'Address': '8/F, Far East Finance Centre, 16 Harcourt Rd, Admiralty, H.K.', 'Tel.No': '28668233', 'Fax.No': '28663932', 'Mobile': '62726171', 'E-mail': 'vickie.lui@giltchambers.com', 'Website': 'http://www.giltchambers.com', 'Quals': 'LLB (London) , PCLL (CUHK) , HKMAAL Accredited General Mediator', 'Call': 'HK( 2016  )'}\n",
            "207 {'Member': 'Lui, Victor T.S. 雷德成 *', 'Name of Chambers': \"Wong Man Kit SC's Chambers\", 'Address': 'Suites 902-905, Bank of America Tower, 12 Harcourt Rd, Central, H.K.', 'Tel.No': '29189187', 'Fax.No': '29189197', 'Mobile': '91950109', 'E-mail': 'victorlui@mkwong.com.hk', 'Website': 'http://mkwong.com.hk/people/victor-ts-lui', 'Quals': 'LLB (Exon) , LLM (KCL) , LLM (Chinese Law) (Peking U.) , PCLL (HKU) , CEDR Accredited Mediator', 'Call': 'HK( 2012  )'}\n",
            "208 {'Member': 'Luk, Victor Ying-Wah 陸英華 *', 'Address': 'Rm 2904, Tower Two, Lippo Centre, 89 Queensway, Admiralty, H.K.', 'Tel.No': '25252501', 'Fax.No': '25250086', 'E-mail': 'lukchambers@gmail.com', 'Quals': 'PCLL (HKU) , LLB (Peking U.) , LLM (Peking U.) , Accredited Mediator (HKMC) , HKMAAL Accredited General and Family Mediator', 'Call': 'HK( 1992  )'}\n",
            "209 {'Member': 'Ma, Anita (Ms) 馬詠璋  (女士)', 'Address': '7/F, Effectual Bldg, 16 Hennessy Road, Wanchai, H.K.', 'Tel.No': '28100286', 'Fax.No': '25377873', 'Call': 'HK( 1989 ), UK( 1989  )'}\n",
            "210 {'Member': 'Ma, Belinda K.Y. (Ms) 馬嘉忻  (女士) *', 'Name of Chambers': 'Pacific Chambers', 'Address': 'Rm 901, Dina House, 11 Duddell St, Central, H.K.', 'Tel.No': '25215544', 'Fax.No': '25245912', 'Mobile': '91028312', 'E-mail': 'belinda.ma@pacificchambers.com', 'Website': 'http://www.pacificchambers.com/index.php/en/belinda-k-y-ma', 'Quals': 'LLB (Scots) , JD , HKMAAL Accredited General Mediator', 'Call': 'HK( 2012  )'}\n",
            "211 {'Member': 'Ma, Billy N.P. 馬南本 *', 'Name of Chambers': \"Kenneth C.L. Chan's Chambers\", 'Address': 'Rm 1406, China Insurance Group Bldg, 141 Des Voeux Rd Central, H.K.', 'Tel.No': '21473300', 'Fax.No': '21473395', 'E-mail': 'billynpma@gmail.com', 'Quals': 'CEng , MICE , PCLL (HKU) , GDL (Nottingham Law School) , B Eng (HKU) , ACI Arb , LLM (Arb-DR) (HKU)', 'Call': 'HK( 2009  )'}\n",
            "212 {'Member': 'Ma, Henry K.F. 馬家颿', 'Address': '12/F, Fung House, 19-20 Connaught Rd Central, H.K.', 'Tel.No': '28680806', 'Fax.No': '28686195', 'Call': 'HK( 1992 ), UK( 1991  )'}\n",
            "213 {'Member': 'Ma, Jay Suk Lin (Ms) 馬淑蓮  (女士)', 'Name of Chambers': 'Wyndham Chambers', 'Address': 'Rm 101-102, 1/F, Wilson House, 19-27 Wyndham St, Central, H.K.', 'Tel.No': '25302889', 'Fax.No': '28401396', 'E-mail': 'hkjayma@hotmail.com', 'Quals': 'Mediation (HKU)', 'Call': 'HK( 2001  )'}\n",
            "214 {'Member': 'Ma, Karen K.W. (Ms) 馬家媛  (女士)', 'Name of Chambers': 'Bernacchi Chambers', 'Address': '1402, Tower 1, Admiralty Centre, 18 Harcourt Rd, Admiralty, H.K.', 'Tel.No': '25220066', 'Fax.No': '28450851', 'E-mail': 'karenma@bernacchichambers.com', 'Quals': 'CEDR Accredited Mediator', 'Call': 'HK( 2005  )'}\n",
            "215 {'Member': 'Ma, Stanley Kilian H.F.  *', 'Name of Chambers': 'Olympia Chambers', 'Address': 'Rm 56, 5/F, New Henry House, 10 Ice House St, Central, H.K.', 'Tel.No': '24579996', 'Fax.No': '24579997', 'Mobile': '60886411', 'E-mail': 'stanleyma@usa.net', 'Website': 'http://www.olyc.hk', 'Quals': 'LLB (U. Lon) , LLM (Chinese & Comparative Law) , LLM (Human Rights) (HKU) , CEDR Accredited Mediator , HKMAAL Accredited General Mediator , Accedited Construction Arbitrator (HKCAC) , FHKI Arb', 'Call': 'HK( 2000  )'}\n",
            "216 {'Member': 'Mak, Andrew Y.S. 麥業成 *', 'Name of Chambers': \"Sir Oswald Cheung's Chambers\", 'Address': '10/F, New Henry House, 10 Ice House St, Central, H.K.', 'Tel.No': '28262224', 'Fax.No': '28105656', 'E-mail': 'andrew_mak@siroswald.com', 'Website': 'http://www.siroswald.com/MembersDetails.aspx?id=42', 'Quals': 'LLB , LLM (Commercial & Corporate Law) , Dip in Development Studies (Cantab) , BSc , MBA , ACIS , ACI Arb', 'Call': 'HK( 1988 ), UK( 1988 ), Australia( 1989 ), Singapore( 1995  )'}\n",
            "217 {'Member': 'Mak, Arlina N.W. (Ms) 麥雅媛  (女士) *', 'Name of Chambers': 'Olympia Chambers', 'Address': 'Rm 56, 5/F, New Henry House, 10 Ice House St, Central, H.K.', 'Tel.No': '24579996', 'Fax.No': '24579997', 'E-mail': 'arlinamak@gmail.com', 'Website': 'http://www.olyc.hk', 'Call': 'HK( 2014  )'}\n",
            "218 {'Member': 'Mak, Bernard 麥兆祥', 'Name of Chambers': 'Parkside Chambers', 'Address': 'Suite 3101, Two Pacific Place, 88 Queensway, Admiralty, H.K.', 'Tel.No': '28401130', 'Fax.No': '28100612', 'Pager': '82005360', 'E-mail': 'bernard.mak@parksidechambers.com.hk', 'Website': 'http://www.parksidechambers.com.hk/members/bernard-mak/', 'Call': 'HK( 1993  )'}\n",
            "219 {'Member': 'Mak, Ming Yin Newton 麥銘賢', 'Name of Chambers': 'Chambers of Ronny Wong S.C.', 'Address': 'Rms 3206-3208, Alexandra House, 18 Chater Rd, Central, H.K.', 'Tel.No': '25261732', 'Fax.No': '28455421', 'E-mail': 'newtonmak@rwchambers.com', 'Website': 'http://www.rwchambers.com', 'Quals': 'JD , MSc , BSc , HKMAAL Accredited General Mediator , AHKIArb', 'Call': 'HK( 2014  )'}\n",
            "220 {'Member': 'Man, Bernard, S.C. 文本立 資深大律師 *', 'Name of Chambers': 'Temple Chambers', 'Address': '16/F, One Pacific Place, 88 Queensway, Admiralty, H.K.', 'Tel.No': '28401131', 'Fax.No': '28100302', 'E-mail': 'bman@templechambers.com', 'Website': 'http://www.templechambers.com', 'Quals': 'BA (Oxon) , BCL (Oxon) , Bar Scholarship (2000)', 'Call': 'HK( 2000 ), Inner HK( 2015 ), UK( 2000  )'}\n",
            "221 {'Member': 'Manzoni, Charles, S.C.', 'Name of Chambers': 'Temple Chambers', 'Address': '16/F, One Pacific Place, 88 Queensway, Admiralty, H.K.', 'Tel.No': '22481806', 'Fax.No': '28100302', 'E-mail': 'Manzoni@templechambers.com', 'Website': 'http://www.templechambers.com', 'Call': 'HK( 2000 ), Inner HK( 2012 ), UK( 1988  )'}\n",
            "222 {'Member': 'Maurellet, José Antonio, S.C. 毛樂禮 資深大律師', 'Name of Chambers': 'Des Voeux Chambers', 'Address': '38/F, Gloucester Tower, The Landmark,  Central, H.K.', 'Tel.No': '25263071', 'Fax.No': '28450274', 'E-mail': 'bowie@dvc.hk', 'Website': 'http://www.dvc.hk', 'Quals': 'MA (Oxon) , Bar Scholarship (2000) , AHKI Arb , CEDR Accredited Mediator', 'Call': 'HK( 2000 ), Inner HK( 2016  )'}\n",
            "223 {'Member': 'McGowan, James H.M.', 'Name of Chambers': 'Admiralty Chambers', 'Address': 'Rm 403, Fairmont House, 8 Cotton Tree Drive, Central, H.K.', 'Tel.No': '25273082', 'Fax.No': '25298226', 'Quals': 'HK Accredited General Mediator , FSI Arb', 'Call': 'HK( 1989 ), UK( 1979  )'}\n",
            "224 {'Member': 'Merry, Malcolm 梅茂勤', 'Name of Chambers': 'Trinity Chambers', 'Address': '18/F, Bangkok Bank Bldg, 28 Des Voeux Rd Central, H.K.', 'Tel.No': '25212666', 'Fax.No': '28454844', 'E-mail': 'merrylink@netvigator.com', 'Call': 'HK( 1982 ), UK( 1979  )'}\n",
            "225 {'Member': 'Miu, Nelson L. 繆亮', 'Name of Chambers': \"Sir Oswald Cheung's Chambers\", 'Address': '10/F, New Henry House, 10 Ice House St, Central, H.K.', 'Tel.No': '28771828', 'Fax.No': '25309680', 'E-mail': 'miu@siroswald.com', 'Quals': 'LLB (U. Lon) , LLM (U. Lon) , BS (Yale) , MBA (HKU) , CPA , CEDR Accredited Mediator', 'Call': 'HK( 1988 ), UK( 1988  )'}\n",
            "226 {'Member': 'Mok, Alice, S.C. (Ms) 莫愛麗 資深大律師 (女士)', 'Name of Chambers': \"Sir Oswald Cheung's Chambers\", 'Address': '10/F, New Henry House, 10 Ice House St, Central, H.K.', 'Tel.No': '25242156', 'Fax.No': '28696933', 'E-mail': 'amok@siroswald.com', 'Quals': 'CEDR Accredited Mediator', 'Call': 'HK( 1977 ), Inner HK( 1997 ), UK( 1977  )'}\n",
            "227 {'Member': 'Nari, Pinky (Ms) 那莉  (女士)', 'Name of Chambers': 'Pacific Chambers', 'Address': 'Rm 901, Dina House, 11 Duddell St, Central, H.K.', 'Tel.No': '25215544', 'Fax.No': '25245912', 'Mobile': '94188045', 'E-mail': 'pinky.nari@pacificchambers.com', 'Quals': 'HKMAAL Accredited General Mediator', 'Call': 'HK( 2011  )'}\n",
            "228 {'Member': 'Nealon, Hannah (Ms)', 'Name of Chambers': 'Gilt Chambers', 'Address': '8/F, Far East Finance Centre, 16 Harcourt Rd, Admiralty, H.K.', 'Tel.No': '28668233', 'Fax.No': '28663932', 'E-mail': 'hannah.nealon@giltchambers.com', 'Call': 'HK( 2004  )'}\n",
            "229 {'Member': 'Ng, Godwin K.Y. 伍國賢 *', 'Name of Chambers': 'Fortune Chambers', 'Address': 'Rm 2305-07, 23/F, Tower Two, Lippo Centre, 89 Queensway, Admiralty, H.K.', 'Tel.No': '25438099', 'Fax.No': '28452668', 'Mobile': '90989605', 'Quals': 'LLB (U. Lon) , MBA (U. Wales & U. Manchester) , FCPA , FTIHK , ACS , FCCA , ACIS', 'Call': 'HK( 1995  )'}\n",
            "230 {'Member': 'Ng, Margaret (Ms) 吳靄儀  (女士)', 'Address': \"Rm 802, 8/F, Dominion Centre, 43-59 Queen's Rd East, Wanchai, H.K.\", 'Tel.No': '25217188', 'Fax.No': '28101823', 'E-mail': 'margaret@margaretng.com', 'Call': 'HK( 1988  )'}\n",
            "231 {'Member': 'Ng, Queenie W.S. (Ms) 伍頴珊  (女士)', 'Name of Chambers': \"Erik Shum's Chambers\", 'Address': 'Rms 2203 A & B, Fairmont House, 8 Cotton Tree Drive, Central, H.K.', 'Tel.No': '21559343', 'Fax.No': '21559323', 'E-mail': 'queenieng@eschambers.com.hk', 'Call': 'HK( 1999  )'}\n",
            "232 {'Member': 'Ning, Zoe (Ms) 寧穎生  (女士) *', 'Name of Chambers': 'Fortune Chambers', 'Address': 'Rm 2305-07, 23/F, Tower Two, Lippo Centre, 89 Queensway, Admiralty, H.K.', 'Tel.No': '25438099', 'Fax.No': '28452668', 'Mobile': '63387099', 'E-mail': 'zoe.ning@hotmail.com', 'Quals': \"LLB (Monash U.) , BSc (Pharmacology) (Monash U.) , LLM (International Economic Law) (CUHK) , HKMAAL Accredited General Mediator , HKMAAL Accredited Family Mediator , Dip in Int'l Arbitration (CIArb) , FCI Arb , FHKI Arb\", 'Call': 'HK( 2012  )'}\n",
            "233 {'Member': 'Nip, Norman S.P. 聶心平 *', 'Name of Chambers': \"Sir Oswald Cheung's Chambers\", 'Address': '10/F, New Henry House, 10 Ice House St, Central, H.K.', 'Tel.No': '25242156', 'Fax.No': '28686763', 'E-mail': 'normannip@siroswald.com', 'Quals': 'Solicitor (HK) [2001-2006] , Solicitor (Australia) [1997 --] , LLB (U. Adelaide) , B Ec (U. Adelaide) , CEDR Accredited Mediator', 'Call': 'HK( 2006 ), Australia( 1997  )'}\n",
            "234 {'Member': 'Ozorio, Michael, S.C. 歐文豪 資深大律師', 'Name of Chambers': '601 Dina House', 'Address': 'Rm 601, Dina House, 11 Duddell St, Central, H.K.', 'Tel.No': '28452020', 'Fax.No': '25960769', 'Call': 'HK( 1977 ), Inner HK( 1996 ), UK( 1976  )'}\n",
            "235 {'Member': 'Pang, Robert Y.H., S.C. 彭耀鴻 資深大律師', 'Name of Chambers': 'Bernacchi Chambers', 'Address': '1402, Tower 1, Admiralty Centre, 18 Harcourt Rd, Admiralty, H.K.', 'Tel.No': '25220066', 'Fax.No': '28450851', 'E-mail': 'robertpang@bernacchichambers.com', 'Quals': 'FHKI Arb , FCI Arb , CEDR Accredited Mediator', 'Call': 'HK( 1988 ), Inner HK( 2012  )'}\n",
            "236 {'Member': 'Pao, Felix Ho Ming 鮑皓明', 'Address': \"805-6, Tesbury Centre, 28 Queen's Road East, H.K.\", 'Tel.No': '25257866', 'Fax.No': '25257599', 'Call': 'HK( 1986 ), UK( 1991  )'}\n",
            "237 {'Member': 'Parker, Timothy E.D. 白天賜', 'Name of Chambers': \"Denis Chang's Chambers\", 'Address': '9th Floor, One Lippo Centre, 89 Queensway, Admiralty, H.K.', 'Tel.No': '28107222', 'Fax.No': '28450439', 'E-mail': 'tparker@dcc.law', 'Website': 'https://dcc.law/barrister/tim-parker/', 'Quals': 'BA (Chinese Studies)(U. Melbourne) , LLB (HKU) , PCLL (HKU) , Bar Scholarship (2008) , LLM (Cantab) , CEDR Accredited Mediator , HKMAAL Accredited General Mediator', 'Call': 'HK( 2009 ), UK( 2017  )'}\n",
            "238 {'Member': 'Pilbrow, David G., S.C.', 'Name of Chambers': 'Gary Plowman S.C. Chambers', 'Address': 'Rm 1401, Tower One, Lippo Centre, 89 Queensway, Admiralty, H.K.', 'Tel.No': '25212616', 'Fax.No': '28450260', 'Call': 'HK( 1989 ), Inner HK( 2005 ), UK( 1989  )'}\n",
            "239 {'Member': 'Poon, Debora S.Y. (Ms) 潘淑瑛  (女士) *', 'Name of Chambers': \"Erik Shum's Chambers\", 'Address': 'Rms 2203 A & B, Fairmont House, 8 Cotton Tree Drive, Central, H.K.', 'Tel.No': '21559343', 'Fax.No': '21559323', 'E-mail': 'deborapoon@eschambers.com.hk', 'Quals': 'CEDR Accredited Mediator', 'Call': 'HK( 2000  )'}\n",
            "240 {'Member': 'Poon, Edward T.B. 潘定邦 *', 'Name of Chambers': '601 Dina House', 'Address': 'Rm 601, Dina House, 11 Duddell St, Central, H.K.', 'Tel.No': '28452020', 'Fax.No': '25960769', 'Mobile': '60908427', 'Quals': 'HKMAAL Accredited General Mediator , HKMAAL Accredited Family Mediator , Master in Counselling (Monash)', 'Call': 'HK( 2006  )'}\n",
            "241 {'Member': 'Poon, Jackson C.P. 潘展平', 'Name of Chambers': \"Cheng Huan SC's Chambers\", 'Address': '15/F, Dina House, 11 Duddell St, Central, H.K.', 'Tel.No': '25262293', 'Fax.No': '28453749', 'Mobile': '92070948', 'E-mail': 'jacksonpoon88@gmail.com', 'Call': 'HK( 1986  )'}\n",
            "242 {'Member': 'Rajwani, Vandana (Ms) 羅穎彤  (女士)', 'Name of Chambers': 'Wyndham Chambers', 'Address': 'Rm 101-102, 1/F, Wilson House, 19-27 Wyndham St, Central, H.K.', 'Tel.No': '25302889', 'Fax.No': '28401396', 'E-mail': 'vandanar@netvigator.com', 'Quals': 'CEDR Accredited Mediator', 'Call': 'HK( 1996 ), UK( 1996  )'}\n",
            "243 {'Member': 'Ramanathan, Kumar, S.C. 林孟達 資深大律師', 'Name of Chambers': '601 Dina House', 'Address': 'Rm 601, Dina House, 11 Duddell St, Central, H.K.', 'Tel.No': '28452020', 'Fax.No': '25960769', 'Quals': 'LLB , PCLL', 'Call': 'HK( 1978 ), Inner HK( 2009  )'}\n",
            "244 {'Member': 'Reading, John Richard, S.C. 李定國 資深大律師', 'Name of Chambers': 'Pacific Chambers', 'Address': 'Rm 901, Dina House, 11 Duddell St, Central, H.K.', 'Tel.No': '25215544', 'Fax.No': '25245912', 'Mobile': '90428840', 'E-mail': 'johnreadingsc@gmail.com', 'Quals': 'Dip Law (BAB) , Dip in CRIM , BA (Deakin U. of Victoria) , LLM (HKU) , FCI Arb , CEDR Accredited Mediator', 'Call': 'HK( 2002 ), Inner HK( 1999 ), Australia( 1978  )'}\n",
            "245 {'Member': \"Remedios, Corinne D'A (Ms) 李嘉蓮  (女士)\", 'Name of Chambers': '601 Dina House', 'Address': 'Rm 601, Dina House, 11 Duddell St, Central, H.K.', 'Tel.No': '28452020', 'Fax.No': '25960769', 'Call': 'HK( 1978 ), UK( 1977  )'}\n",
            "246 {'Member': \"Remedios, Jose D'Almada 李炬燊\", 'Name of Chambers': 'Parkside Chambers', 'Address': 'Suite 3101, Two Pacific Place, 88 Queensway, Admiralty, H.K.', 'Tel.No': '28401130', 'Fax.No': '28100612', 'E-mail': 'jose.remedios@parksidechambers.com.hk', 'Website': 'http://www.parksidechambers.com.hk/members/jose-dalmada-remedios/', 'Call': 'HK( 2009  )'}\n",
            "247 {'Member': \"Remedios, Lisa D'Almada (Ms) 吳維敏  (女士)\", 'Name of Chambers': 'Gary Plowman S.C. Chambers', 'Address': 'Rm 1401, Tower One, Lippo Centre, 89 Queensway, Admiralty, H.K.', 'Tel.No': '25212616', 'Fax.No': '28450260', 'E-mail': 'lisaweiminng@gmail.com', 'Call': 'HK( 1985  )'}\n",
            "248 {'Member': 'Rooney, Kim Margaret (Ms)', 'Name of Chambers': 'Gilt Chambers', 'Address': '8/F, Far East Finance Centre, 16 Harcourt Rd, Admiralty, H.K.', 'Tel.No': '28668233', 'Fax.No': '28667858', 'Mobile': '90399306', 'E-mail': 'kimrooney.hk@gmail.com', 'Quals': 'Solicitor (HK) [1992-2009]', 'Call': 'HK( 2010  )'}\n",
            "249 {'Member': 'Sadhwani, Kamlesh Arjan 金偉民', 'Name of Chambers': '601 Dina House', 'Address': 'Rm 601, Dina House, 11 Duddell St, Central, H.K.', 'Tel.No': '28452020', 'Fax.No': '25960769', 'Call': 'HK( 1995 ), UK( 1995  )'}\n",
            "250 {'Member': 'Sakhrani, Ashok 薜君賢', 'Name of Chambers': 'Bernacchi Chambers', 'Address': '1402, Tower 1, Admiralty Centre, 18 Harcourt Rd, Admiralty, H.K.', 'Tel.No': '25220066', 'Fax.No': '28450851', 'E-mail': 'ashoks@bernacchichambers.com', 'Call': 'HK( 1987 ), UK( 1986  )'}\n",
            "251 {'Member': 'Sakhrani, Sanjay A. 施善政', 'Name of Chambers': '601 Dina House', 'Address': 'Rm 601, Dina House, 11 Duddell St, Central, H.K.', 'Tel.No': '28452020', 'Fax.No': '25960769', 'E-mail': 'sanjay@sakhrani.com', 'Quals': 'Solicitor (HK) [2011-2013] , BA , LLB (Hons) (Lond) , CEDR Accredited Mediator , Solicitor Advocate (HRA)', 'Call': 'HK( 1995 ), UK( 1995  )(Voluntary Removal – 2010) \\n(Restoration of Admission – 2013)'}\n",
            "252 {'Member': 'Sham, Jeffrey C.F. 沈智輝 *', 'Address': 'Rm 28, New Henry House, 10 Ice House St, Central, H.K. [Annex to Andrew Liao SC’s Chambers]', 'Tel.No': '35763130', 'Fax.No': '35763030', 'Mobile': '60566088', 'E-mail': 'jeffreycfsham@ymail.com', 'Quals': 'LLB , PCLL (HKU) , CEDR Accredited Mediator , FHKI Arb , MCI Arb', 'Call': 'HK( 2010  )'}\n",
            "253 {'Member': 'Sham, Richard Y.M. 岑耀文 *', 'Name of Chambers': 'Gilt Chambers', 'Address': '8/F, Far East Finance Centre, 16 Harcourt Rd, Admiralty, H.K.', 'Tel.No': '28668233', 'Fax.No': '28663932', 'Mobile': '66928936', 'E-mail': 'richardsham@gmail.com', 'Quals': 'Solicitor (NSW) [2002-2012] , B Eng (Civil) , LLB (UNSW) , LLM (U. Sydney) , Dip IP (Oxon) , CEDR Accredited Mediator', 'Call': 'HK( 2012  )'}\n",
            "254 {'Member': 'Sham, Walker 沈偉民', 'Name of Chambers': 'Parkside Chambers', 'Address': 'Suite 3101, Two Pacific Place, 88 Queensway, Admiralty, H.K.', 'Tel.No': '28401130', 'Fax.No': '28100612', 'E-mail': 'walker.sham@parksidechambers.com.hk', 'Website': 'http://www.parksidechambers.com.hk/members/walker-sham/', 'Quals': 'CEDR Accredited Mediator', 'Call': 'HK( 1990 ), UK( 1990  )'}\n",
            "255 {'Member': 'Shum, Cecilia H.S. (Ms) 岑杏詩  (女士)', 'Name of Chambers': 'Equity Chambers', 'Address': 'Suite 802, 8/F, Harcourt House, 39 Gloucester Rd, Wanchai, H.K.', 'Tel.No': '21164676', 'Fax.No': '21164610', 'Quals': 'CEDR Accredited Mediator', 'Call': 'HK( 2004 ), UK( 2003  )'}\n",
            "256 {'Member': 'Sio, Chan In Devin 蕭震然 *', 'Name of Chambers': 'DES Chambers', 'Address': 'Unit C, 5/F, Eton Bldg, No.288 Des Voeux Rd Central, H.K.', 'Tel.No': '22433088', 'Fax.No': '22433077', 'Mobile': '51889701', 'E-mail': 'cidsio@devinsio.hk', 'Quals': 'FCI Arb , JD (CUHK) , LLB (PRC Law) (CUPL) , LLM (Maritime and Transportation Law) (City U.) , PGD International Mediation (Queen Mary) , HKMC Mediator , HKMAAL Accredited General Mediator', 'Call': 'HK( 2011 ), UK( 2019  )'}\n",
            "257 {'Member': 'Siu, Rachael Suk Yu (Ms) 蕭淑瑜  (女士) *', 'Name of Chambers': 'Chambers of Ronny Wong S.C.', 'Address': 'Rms 3206-3208, Alexandra House, 18 Chater Rd, Central, H.K.', 'Tel.No': '25261732', 'Fax.No': '21550138', 'E-mail': 'rachaelsiu@rwchambers.com', 'Quals': 'HKMAAL Accredited General Mediator', 'Call': 'HK( 2010  )'}\n",
            "258 {'Member': 'Siu, Stanley C.K. 蕭朝堅 *', 'Name of Chambers': 'Annex to Garden Chambers', 'Address': 'Rm 1201, 12/F, Printing House, 6 Duddell St, Central, H.K. [Annex to Garden Chambers]', 'Tel.No': '25250221', 'Fax.No': '28452441', 'E-mail': 'stanleysiuck@gmail.com', 'Quals': 'LLB (City U.) , PCLL (City U.) , LLM (Chinese & Comparative Law) (City U.) , CEDR Accredited Mediator', 'Call': 'HK( 1996  )'}\n",
            "259 {'Member': 'Smith, Clifford, S.C.', 'Name of Chambers': 'Des Voeux Chambers', 'Address': '38/F, Gloucester Tower, The Landmark,  Central, H.K.', 'Tel.No': '25263071', 'Fax.No': '25268610', 'Call': 'HK( 1982 ), Inner HK( 2001 ), UK( 1974  )'}\n",
            "260 {'Member': 'So, Maria P.M. (Ms) 蘇佩敏  (女士)', 'Address': 'Rm 128, New Henry House, 10 Ice House St, Central, H.K. [Annex to Andrew Liao SC’s Chambers]', 'Tel.No': '25248830', 'Fax.No': '28683896', 'E-mail': 'mariaso@gmail.com', 'Quals': 'LLM (U. Lon) , CPA (HK) , CPA (USA) , ACI Arb', 'Call': 'HK( 2007  )'}\n",
            "261 {'Member': 'So, Tsz Ngai Roger 蘇子毅 *', 'Address': 'Suites 601-602, Hong Kong Trade Centre, 161-167 Des Voeux Rd, Central, H.K.', 'Tel.No': '28017889', 'Fax.No': '28452001', 'Mobile': '98138280', 'E-mail': 'rogersolaw@gmail.com', 'Call': 'HK( 2016  )'}\n",
            "262 {'Member': 'Soo, Gary K.L. 蘇國良 *', 'Name of Chambers': 'Gary Soo’s Chambers', 'Address': 'Rms 606 & 08, Tower Two, Lippo Centre, 89 Queensway, Admiralty, H.K.', 'Tel.No': '28696325', 'Fax.No': '28696302', 'E-mail': 'email@gschambers.hk', 'Quals': 'LLM (Peking) , LLB (London) , BSc (HKU) , FCI Arb , FHKI Arb , CEng , MICE , MIStructE , MHKIE', 'Call': 'HK( 1995 ), UK( 1995  )'}\n",
            "263 {'Member': 'Stock, Alexander, S.C. 司徒歷 資深大律師', 'Name of Chambers': 'Temple Chambers', 'Address': '16/F, One Pacific Place, 88 Queensway, Admiralty, H.K.', 'Tel.No': '25232003', 'Fax.No': '28100302', 'Website': 'http://www.templechambers.com', 'Quals': 'LLM (Cantab) , MA (Oxon)', 'Call': 'HK( 2001 ), Inner HK( 2016 ), UK( 1998  )'}\n",
            "264 {'Member': 'Sujanani, Sajan G.', 'Name of Chambers': '601 Dina House', 'Address': 'Rm 601, Dina House, 11 Duddell St, Central, H.K.', 'Tel.No': '28452020', 'Fax.No': '25960769', 'Quals': 'B.S.B.A.', 'Call': 'HK( 2003 ), UK( 2002  )'}\n",
            "265 {'Member': 'Surman, Giles 蘇明哲', 'Name of Chambers': 'Gary Plowman S.C. Chambers', 'Address': 'Rm 1401, Tower One, Lippo Centre, 89 Queensway, Admiralty, H.K.', 'Tel.No': '25212616', 'Fax.No': '28450260', 'E-mail': 'gsurman@plowmanchambers.com', 'Quals': 'CEDR Accredited Mediator , BSc(Econ)', 'Call': 'HK( 1993 ), UK( 1997  )'}\n",
            "266 {'Member': 'Sze, Seon Ching Yantl (Ms) 施臻遉  (女士) *', 'Name of Chambers': 'Central Chambers', 'Address': 'Rm 418, Tower Two, Lippo Centre, 89 Queensway, Admiralty, H.K.', 'Tel.No': '59310128', 'Fax.No': '28681965', 'E-mail': 'yantlsze.counsel@gmail.com', 'Quals': 'BSc , M Phil , JD , PCLL , HKMAAL Accredited General Mediator', 'Call': 'HK( 2012  )'}\n",
            "267 {'Member': 'Szeto, Patrick P. 司徒栢', 'Name of Chambers': \"Denis Chang's Chambers\", 'Address': '9th Floor, One Lippo Centre, 89 Queensway, Admiralty, H.K.', 'Tel.No': '28107222', 'Fax.No': '28450548', 'E-mail': 'pszeto@dcc.law', 'Website': 'https://dcc.law/barrister/patrick-szeto/', 'Call': 'HK( 1995  )'}\n",
            "268 {'Member': 'Tam, Patrick K.Y. 譚健業', 'Name of Chambers': 'Academy Chambers', 'Address': 'Rm 1003, Far East Finance Centre, 16 Harcourt Rd, Admiralty, H.K.', 'Tel.No': '25255878', 'Fax.No': '25255877', 'Mobile': '68079999', 'E-mail': 'kytama2@yahoo.com.hk', 'Quals': 'Mediation Practice (HKU)', 'Call': 'HK( 2000  )'}\n",
            "269 {'Member': 'Tam, Winnie, S.C. (Ms) 譚允芝 資深大律師 (女士)', 'Name of Chambers': 'Des Voeux Chambers', 'Address': '38/F, Gloucester Tower, The Landmark,  Central, H.K.', 'Tel.No': '25242225', 'Fax.No': '25373393', 'E-mail': 'winnietam@dvc.com.hk', 'Call': 'HK( 1984 ), Inner HK( 2006 ), UK( 1988  )'}\n",
            "270 {'Member': 'Tang, Hughes H.S. 鄧曉時', 'Name of Chambers': 'Chambers of Ronny Wong S.C.', 'Address': 'Rms 3206-3208, Alexandra House, 18 Chater Rd, Central, H.K.', 'Tel.No': '25261732', 'Fax.No': '21550138', 'Mobile': '92680620', 'E-mail': 'hughestang@hotmail.com', 'Quals': 'CEDR Accredited Mediator', 'Call': 'HK( 2004  )'}\n",
            "271 {'Member': 'Tang, Raymond H.M. 鄧澔明 *', 'Name of Chambers': 'π Chambers', 'Address': 'Rm 2003, 20/F, Wilson House, 19-27 Wyndham St, Central, H.K.', 'Tel.No': '25237188', 'Fax.No': '25231328', 'Mobile': '91680981', 'E-mail': 'raymond.tang@lawyer.com', 'Quals': 'Chartered Psychologist (UK) , Chartered Scientist (UK) , CEDR Accredited Mediator , LLM (Human Rights) (HKU)', 'Call': 'HK( 2012  )'}\n",
            "272 {'Member': 'Tang, Stephen L.W. 鄧龍威 *', 'Name of Chambers': \"Cheng Huan SC's Chambers\", 'Address': '15/F, Dina House, 11 Duddell St, Central, H.K.', 'Tel.No': '25262293', 'Fax.No': '28453749', 'Mobile': '98308383', 'E-mail': 'stephentang.chamber@gmail.com', 'Quals': 'Mediator', 'Call': 'HK( 1996  )'}\n",
            "273 {'Member': 'Thomson, James Smith 唐正善', 'Name of Chambers': 'Gilt Chambers', 'Address': '8/F, Far East Finance Centre, 16 Harcourt Rd, Admiralty, H.K.', 'Tel.No': '28668233', 'Fax.No': '28663932', 'E-mail': 'james.thomson@giltchambers.com', 'Quals': 'FCI Arb , HKIAC Accredited General Mediator', 'Call': 'HK( 1992 ), UK( 1983  )'}\n",
            "274 {'Member': 'Thomson, Mary B.L. (Ms)', 'Name of Chambers': 'Pacific Chambers', 'Address': 'Rm 901, Dina House, 11 Duddell St, Central, H.K.', 'Tel.No': '25215544', 'Fax.No': '25245912', 'Mobile': '69085192', 'E-mail': 'mary.thomson@pacificchambers.com', 'Quals': 'Solicitor (HK) [1992 - 2012] , Solicitor (UK - non-practising) [1991 - 2013] , FCI Arb , FHKI Arb , HKIAC Accredited General Mediator , Chartered Arbitrator', 'Call': 'HK( 2013 ), UK( 1983 - 1989 & (2013  )'}\n",
            "275 {'Member': 'Tjia, Josephine L.Y. (Ms) 謝祿英  (女士) *', 'Name of Chambers': \"Erik Shum's Chambers\", 'Address': 'Rms 2203 A & B, Fairmont House, 8 Cotton Tree Drive, Central, H.K.', 'Tel.No': '21559343', 'Fax.No': '21559323', 'Mobile': '92008135', 'E-mail': 'tjia@eschambers.com.hk', 'Quals': 'LLB (U. Lon) , LLM (Chinese Law) , HKIAC Accredited General Mediator', 'Call': 'HK( 2004  )'}\n",
            "276 {'Member': 'To, Cecilica Y.F. (Ms) 杜妍芳  (女士) *', 'Name of Chambers': 'Bernacchi Chambers', 'Address': '1402, Tower 1, Admiralty Centre, 18 Harcourt Rd, Admiralty, H.K.', 'Tel.No': '25220066', 'Fax.No': '28450851', 'E-mail': 'cecilica.yf.to@gmail.com', 'Quals': 'CEDR Accredited Mediator', 'Call': 'HK( 2009  )'}\n",
            "277 {'Member': 'To, Cheuk Lun Alan 杜卓倫 *', 'Name of Chambers': \"Erik Shum's Chambers\", 'Address': 'Rms 2203 A & B, Fairmont House, 8 Cotton Tree Drive, Central, H.K.', 'Tel.No': '21579343', 'Fax.No': '21579243', 'Mobile': '93678707', 'E-mail': 'alanto@eschambers.com.hk', 'Quals': 'HKMAAL Accredited General Mediator', 'Call': 'HK( 2017  )'}\n",
            "278 {'Member': 'TO, Ken C. 杜中 *', 'Name of Chambers': \"Sir Oswald Cheung's Chambers\", 'Address': '10/F, New Henry House, 10 Ice House St, Central, H.K.', 'Tel.No': '25242156', 'Fax.No': '25259255', 'E-mail': 'kento@siroswald.com', 'Quals': 'BA (Econ) (U. Chicago) , MA (Int.Relations) (U.Chicago) , BA (Cambridge) , MA (Cambridge) , LLM (Commercial & Corporate) (UCL) , CEDR Accredited Mediator , HKIAC Accredited Mediator', 'Call': 'HK( 2008  )'}\n",
            "279 {'Member': 'To, Wing Christopher 陶榮', 'Name of Chambers': 'Gilt Chambers', 'Address': '8/F, Far East Finance Centre, 16 Harcourt Rd, Admiralty, H.K.', 'Tel.No': '28668233', 'Fax.No': '28663932', 'Call': 'HK( 2017  )'}\n",
            "280 {'Member': 'Tsang, Emma T.C. (Ms) 曾子晴  (女士)', 'Name of Chambers': 'Gilt Chambers', 'Address': '8/F, Far East Finance Centre, 16 Harcourt Rd, Admiralty, H.K.', 'Tel.No': '28668233', 'Fax.No': '28667858', 'E-mail': 'emma.tsang@giltchambers.com', 'Quals': 'LLB (U. Durham) , BVC (Nottingham Law Sch, UK) , PCLL (HKU)', 'Call': 'HK( 2009 ), UK( 2007  )'}\n",
            "281 {'Member': 'Tsang, Kitty K.L. (Ms) 曾嘉麗  (女士) *', 'Name of Chambers': 'Justice Chambers', 'Address': 'Suite 2901, Tower One, Lippo Centre, 89 Queensway, Admiralty, H.K.', 'Tel.No': '28610062', 'Fax.No': '28612022', 'E-mail': 'kitty_kltsang@yahoo.com.hk', 'Quals': 'LLM (Chinese & Comparative Law) , LLM (Renmin U.) , CEDR Accredited Mediator', 'Call': 'HK( 1998 ), UK( 1997  )'}\n",
            "282 {'Member': 'Tse, Roy K.W. 謝經緯', 'Name of Chambers': 'Tower Chambers', 'Address': \"15/F, New World Tower 2, 18 Queen's Rd Central, H.K.\", 'Tel.No': '25212555', 'Fax.No': '28106087', 'Call': 'HK( 1995  )'}\n",
            "283 {'Member': 'Tseng, Christina (Ms) 曾綺婷  (女士) *', 'Name of Chambers': 'Central Chambers', 'Address': 'Rm 418, Tower Two, Lippo Centre, 89 Queensway, Admiralty, H.K.', 'Tel.No': '25213517', 'Fax.No': '28681965', 'E-mail': 'tsengchristina@gmail.com', 'Quals': 'CEDR Accredited Mediator', 'Call': 'HK( 2012  )'}\n",
            "284 {'Member': 'Tso, Denise Y.C. (Ms) 曹欣慈  (女士) *', 'Address': 'Rm 28, New Henry House, 10 Ice House St, Central, H.K. [Annex to Andrew Liao SC’s Chambers]', 'Tel.No': '35763130', 'Fax.No': '35763030', 'E-mail': 'denise.tso@gmail.com', 'Call': 'HK( 2008  )'}\n",
            "285 {'Member': 'Tsui, Jennifer K.W. (Ms) 徐嘉華  (女士) *', 'Name of Chambers': \"Alan Leong, S.C.'s Chambers\", 'Address': \"Rms 1323A-1328, Prince's Bldg, 10 Chater Rd, Central, H.K.\", 'Tel.No': '25266182', 'Fax.No': '28681730', 'E-mail': 'jennycfc@netvigator.com', 'Quals': 'CEDR Accredited Mediator , HKIAC Accredited General Mediator', 'Call': 'HK( 1994  )'}\n",
            "286 {'Member': 'Wan, Patrick P.S. 尹沛誠', 'Name of Chambers': 'Gilt Chambers', 'Address': '8/F, Far East Finance Centre, 16 Harcourt Rd, Admiralty, H.K.', 'Tel.No': '28668233', 'Fax.No': '28667858', 'Mobile': '94732673', 'E-mail': 'patrick.wan@giltchambers.com', 'Quals': 'CEDR Accredited Mediator', 'Call': 'HK( 2008  )'}\n",
            "287 {'Member': 'Wong, Abigail K.Y. (Ms) 黃紀怡  (女士)', 'Name of Chambers': 'Parkside Chambers', 'Address': 'Suite 3101, Two Pacific Place, 88 Queensway, Admiralty, H.K.', 'Tel.No': '28401130', 'Fax.No': '28100612', 'E-mail': 'abigail.wong@parksidechambers.com.hk', 'Website': 'http://www.parksidechambers.com.hk/members/abigail-k-y-wong/', 'Quals': 'LLB (HKU) , PCLL (HKU) , LLM (U. Lon) , Bar Scholarship (2002) , Charles Ching Memorial Scholarship (2002)', 'Call': 'HK( 2004  )'}\n",
            "288 {'Member': 'Wong, Brian M.W. 王武煒', 'Name of Chambers': 'Chambers of Ronny Wong S.C.', 'Address': 'Rms 3206-3208, Alexandra House, 18 Chater Rd, Central, H.K.', 'Tel.No': '25261732', 'Fax.No': '28455421', 'E-mail': 'brianwong@rwchambers.com', 'Quals': 'BSc , CEDR Accredited Mediator', 'Call': 'HK( 2006  )'}\n",
            "289 {'Member': 'Wong, Charles T.C. 黃篤清', 'Name of Chambers': \"Alan Leong, S.C.'s Chambers\", 'Address': \"Rms 1323A-1328, Prince's Bldg, 10 Chater Rd, Central, H.K.\", 'Tel.No': '25266182', 'Fax.No': '25266930', 'E-mail': 'charleswong@alsc-chambers.com', 'Call': 'HK( 1988 ), UK( 1988  )'}\n",
            "290 {'Member': 'Wong, Chi-Kwong 王志光', 'Address': \"Rm 1205, New World Tower 1, 18 Queen's Rd Central, H.K.\", 'Tel.No': '25211381', 'Fax.No': '28451738', 'Call': 'HK( 1985  )'}\n",
            "291 {'Member': 'Wong, Damian 王振強 *', 'Name of Chambers': \"Sir Oswald Cheung's Chambers\", 'Address': '10/F, New Henry House, 10 Ice House St, Central, H.K.', 'Tel.No': '25242156', 'Fax.No': '28696933', 'Mobile': '91086013', 'E-mail': 'damianwong@siroswald.com', 'Quals': 'LLB (U. Lon) , BSc (HKU) , MBA (HKU)', 'Call': 'HK( 2002  )'}\n",
            "292 {'Member': 'Wong, Emma S.F. (Ms) 王素芳  (女士) *', 'Name of Chambers': \"K.M. Chong's Chambers\", 'Address': 'Rms 2808-10, 28/F, Wing On House, 71 Des Voeux Rd Central, H.K.', 'Tel.No': '25229168', 'Fax.No': '28452072', 'Call': 'HK( 2002 ), UK( 2001  )'}\n",
            "293 {'Member': 'Wong, Eric K.H. 黃嘉豪 *', 'Name of Chambers': 'Gilt Chambers', 'Address': '8/F, Far East Finance Centre, 16 Harcourt Rd, Admiralty, H.K.', 'Tel.No': '28668233', 'Fax.No': '28663932', 'Mobile': '96403030', 'E-mail': 'kahoowong@gmail.com', 'Call': 'HK( 2008  )'}\n",
            "294 {'Member': 'Wong, James L.W. 黃立煒', 'Name of Chambers': 'Century Chambers', 'Address': 'Rm 1005B, Tower One, Lippo Centre, 89 Queensway, Admiralty, H.K.', 'Tel.No': '25268782', 'Fax.No': '25268718', 'E-mail': 'james@centurychambers.hk', 'Website': 'http://www.jwong.hk', 'Quals': 'LLB (HKU) , LLM (Nottingham) , PCLL (CUHK) , FHKIArb , HKMAAL Accredited General Mediator', 'Call': 'HK( 2010  )'}\n",
            "295 {'Member': 'Wong, Jason L.H. 黃樂豪', 'Name of Chambers': 'Bernacchi Chambers', 'Address': '1402, Tower 1, Admiralty Centre, 18 Harcourt Rd, Admiralty, H.K.', 'Tel.No': '25220066', 'Fax.No': '28450851', 'Call': 'HK( 1998  )'}\n",
            "296 {'Member': 'Wong, Jonathan 黃若鋒', 'Name of Chambers': 'Parkside Chambers', 'Address': 'Suite 3101, Two Pacific Place, 88 Queensway, Admiralty, H.K.', 'Tel.No': '28401130', 'Fax.No': '28100612', 'Mobile': '94860888', 'Website': 'http://www.parksidechambers.com.hk/members/jonathan-wong/', 'Call': 'HK( 1998 ), UK( 1998  )'}\n",
            "297 {'Member': 'Wong, Kenneth Y.F. 王耀輝', 'Name of Chambers': 'Academy Chambers', 'Address': 'Rm 1003, Far East Finance Centre, 16 Harcourt Rd, Admiralty, H.K.', 'Tel.No': '25255878', 'Fax.No': '25255877', 'Call': 'HK( 1997  )'}\n",
            "298 {'Member': 'Wong, King 黃勁 *', 'Name of Chambers': 'Academy Chambers', 'Address': 'Rm 1003, Far East Finance Centre, 16 Harcourt Rd, Admiralty, H.K.', 'Tel.No': '25255878', 'Fax.No': '25255877', 'Mobile': '90988907', 'E-mail': 'kingwong@cal.berkeley.edu', 'Quals': \"Solicitor (NSW) [1999 --] , LLB , LLB (Chinese Law) , PCLL (HKU) , GDLP (The College of Law, NSW) , LLM , BSc , MSc , MBA , M Accountancy , Dip Int'l Comm Arb , FICE , FHKIE , CEng , FAIB , FCI Arb , AHKSA , AHKICS , Accredited Mediator\", 'Call': 'HK( 1997  )'}\n",
            "299 {'Member': 'Wong, Meyrick W.K. 王泳強', 'Address': 'Rm 121, 12/F, New Henry House, 10 Ice House St, Central, H.K.', 'Tel.No': '25233011', 'Fax.No': '25247559', 'E-mail': 'meyrickw@netvigator.com', 'Quals': 'CEDR Accredited Mediator', 'Call': 'HK( 1989 ), UK( 1989  )'}\n",
            "300 {'Member': 'Wong, Priscilla (Ms) 王沛詩  (女士)', 'Address': '1101 Shui On Centre, 6-8 Harbour Road, Wan Chai, H.K.', 'Tel.No': '25225121', 'Fax.No': '28101827', 'Pager': '72337395', 'E-mail': 'pinkbookbag@gmail.com', 'Call': 'HK( 1983  )'}\n",
            "301 {'Member': 'Wong, Roger W.I. 黃偉業', 'Name of Chambers': 'Fortune Chambers', 'Address': 'Rm 2305-07, 23/F, Tower Two, Lippo Centre, 89 Queensway, Admiralty, H.K.', 'Tel.No': '28108383', 'Fax.No': '28452668', 'Mobile': '62925691', 'E-mail': 'rogerwong.dr@gmail.com', 'Quals': 'PhD , FCI Arb , FCCA , ACIB , MCIPS , MACS (Snr) , MBCS , MCIM , MCMI , MIEEE , MILT , HKMAAL Accredited General Mediator', 'Call': 'HK( 1997 ), UK( 1997  )'}\n",
            "302 {'Member': 'Wong, Samuel C.C. 王則左', 'Address': 'Rm 28, New Henry House, 10 Ice House St, Central, H.K. [Annex to Andrew Liao SC’s Chambers]', 'Tel.No': '35763130', 'Fax.No': '35763030', 'Quals': 'FCI Arb , FHKI Arb , Chartered Arbitrator , MBA (Harv)', 'Call': 'HK( 2002  )'}\n",
            "303 {'Member': 'Wong, Simon S. 王星 *', 'Name of Chambers': \"Denis Chang's Chambers\", 'Address': '9th Floor, One Lippo Centre, 89 Queensway, Admiralty, H.K.', 'Tel.No': '28107222', 'Fax.No': '28450439', 'E-mail': 'swong@dcc.law', 'Website': 'https://dcc.law/barrister/simon-wong/', 'Quals': 'Solicitor (HK) [2004-2006] , FCI Arb , FHKI Arb , HKMAAL Accredited General Mediator , HKMC Accrediated Mediator', 'Call': 'HK( 2007  )'}\n",
            "304 {'Member': 'Wong, Stewart K.M., S.C. 黃繼明 資深大律師', 'Name of Chambers': 'Temple Chambers', 'Address': '16/F, One Pacific Place, 88 Queensway, Admiralty, H.K.', 'Tel.No': '25232003', 'Fax.No': '28100302', 'Website': 'http://www.templechambers.com', 'Quals': 'CEDR Accredited Mediator , MCI Arb', 'Call': 'HK( 1987 ), Inner HK( 2011  )'}\n",
            "305 {'Member': 'Wong, Tim 黃添偉 *', 'Name of Chambers': 'Chambers of Ronny Wong S.C.', 'Address': 'Rms 3206-3208, Alexandra House, 18 Chater Rd, Central, H.K.', 'Tel.No': '25261732', 'Fax.No': '28455421', 'Mobile': '91511371', 'E-mail': 'tw@rwchambers.com', 'Quals': \"LLB (U. Lon) , BA (Queen's U.) , HKMC Mediator\", 'Call': 'HK( 2002  )'}\n",
            "306 {'Member': 'Wong, William M.F., S.C. 王鳴峰 資深大律師 *', 'Name of Chambers': 'Des Voeux Chambers', 'Address': '38/F, Gloucester Tower, The Landmark,  Central, H.K.', 'Tel.No': '25263071', 'Fax.No': '25268610', 'Mobile': '98002876', 'E-mail': 'wilexong@netvigator.com', 'Quals': 'BA (Oxon) , BBA (CUHK) , CEDR Accredited Mediator , FCI Arb , PhD (Peking U.)', 'Call': 'HK( 1997 ), Inner HK( 2013 ), UK( 1997 ), BVI( 2011  )'}\n",
            "307 {'Member': 'Wu, Anthony 吳能明', 'Address': 'Rm 28, New Henry House, 10 Ice House St, Central, H.K. [Annex to Andrew Liao SC’s Chambers]', 'Tel.No': '31010699', 'Fax.No': '35855002', 'Mobile': '91038229', 'E-mail': 'anthonylmwu@yahoo.com.hk', 'Call': 'HK( 2004  )'}\n",
            "308 {'Member': 'Wu, Paul K.N. 吳建五', 'Name of Chambers': 'Parkside Chambers', 'Address': 'Suite 3101, Two Pacific Place, 88 Queensway, Admiralty, H.K.', 'Tel.No': '28401130', 'Fax.No': '28100612', 'Website': 'http://www.parksidechambers.com.hk/members/paul-k-n-wu/', 'Quals': 'HKMAAL Accredited General Mediator', 'Call': 'HK( 1986 ), UK( 1985  )'}\n",
            "309 {'Member': 'Yam, Kenwick W.M. 任穎明 *', 'Name of Chambers': \"Cheng Huan SC's Chambers\", 'Address': '15/F, Dina House, 11 Duddell St, Central, H.K.', 'Tel.No': '25262293', 'Fax.No': '28453749', 'Mobile': '91533007', 'E-mail': 'kenwick2012@gmail.com', 'Quals': 'BA (HKU) , MBA (BIRM) , LLB (MMU) , LLM (Peking U.) , PHD (Law) (UIBE) , PCLL (City U.) , CEDR Accredited Mediator , HKMAAL Accredited General Mediator', 'Call': 'HK( 2012  )'}\n",
            "310 {'Member': 'Yan, John M.Y., S.C. 甄孟義 資深大律師', 'Address': 'Rm 128, New Henry House, 10 Ice House St, Central, H.K. [Annex to Andrew Liao SC’s Chambers]', 'Tel.No': '25248830', 'Fax.No': '28683896', 'E-mail': 'jyan@netvigator.com', 'Call': 'HK( 1984 ), Inner HK( 2003  )'}\n",
            "311 {'Member': 'Yao, Eric K.S. 丘國新', 'Name of Chambers': 'Central Chambers', 'Address': 'Rm 418, Tower Two, Lippo Centre, 89 Queensway, Admiralty, H.K.', 'Tel.No': '25213517', 'Fax.No': '28681965', 'Mobile': '92773080', 'E-mail': 'eric@ericyao.hk', 'Quals': 'LLB (U. Lon) , PCLL (HKU) , BSc Eng (Lon) , AHKI Arb , HKIAC Accredited Mediator', 'Call': 'HK( 2004  )'}\n",
            "312 {'Member': 'Yau, Albert K.C. 丘啟昌', 'Name of Chambers': 'Tower Chambers', 'Address': \"15/F, New World Tower 2, 18 Queen's Rd Central, H.K.\", 'Tel.No': '25212555', 'Fax.No': '28106087', 'Call': 'HK( 1983  )'}\n",
            "313 {'Member': 'Yeung, Julian C.P. 楊竣博 *', 'Name of Chambers': \"Sir Oswald Cheung's Chambers\", 'Address': '10/F, New Henry House, 10 Ice House St, Central, H.K.', 'Tel.No': '25242156', 'Fax.No': '28105656', 'Mobile': '64795482', 'E-mail': 'julian@siroswald.com', 'Quals': 'CEDR Accredited Mediator , HKMAAL Accredited General Mediator', 'Call': 'HK( 2012  )'}\n",
            "314 {'Member': 'Yeung, Vivian M.F. (Ms) 楊明鳳  (女士)', 'Address': '12/F, Fung House, 19-20 Connaught Rd Central, H.K.', 'Tel.No': '31146878', 'Fax.No': '28686195', 'Quals': 'HKIAC Accredited General Mediator', 'Call': 'HK( 1998  )'}\n",
            "315 {'Member': 'Yip, Anita H.K., S.C. (Ms) 葉巧琦 資深大律師 (女士)', 'Name of Chambers': '28 Admiralty', 'Address': 'Unit 2807, 28/F, Tower 1, Admiralty Centre, 18 Harcourt Rd, Admiralty, H.K.', 'Tel.No': '21229980', 'Fax.No': '21229990', 'E-mail': 'aysc@28admiralty.com', 'Call': 'HK( 1989 ), Inner HK( 2014  )'}\n",
            "316 {'Member': 'Yip, Micky T.B. 葉迪斌 *', 'Name of Chambers': 'Pacific Chambers', 'Address': 'Rm 901, Dina House, 11 Duddell St, Central, H.K.', 'Tel.No': '25215544', 'Fax.No': '25245912', 'E-mail': 'micky.yip@pacificchambers.com', 'Quals': 'Mediator , BSc (Cell and Molecular Biology) , JD , PCLL', 'Call': 'HK( 2011  )'}\n",
            "317 {'Member': 'Yip, Richard H.L. 葉海琅', 'Name of Chambers': \"Denis Chang's Chambers\", 'Address': '9th Floor, One Lippo Centre, 89 Queensway, Admiralty, H.K.', 'Tel.No': '28107222', 'Fax.No': '28450439', 'Mobile': '98329225', 'E-mail': 'ryip@dcc.email', 'Website': 'https://dcc.law/barrister/richard-yip/', 'Quals': 'Solicitor (HK) [2008-2010] , Solicitor (UK) [2008 --] , HKMAAL Accredited General Mediator', 'Call': 'HK( 2011  )'}\n",
            "318 {'Member': 'Yip, Samuel C.H. 葉誦謙', 'Name of Chambers': 'Gary Plowman S.C. Chambers', 'Address': 'Rm 1401, Tower One, Lippo Centre, 89 Queensway, Admiralty, H.K.', 'Tel.No': '25212616', 'Fax.No': '28450260', 'E-mail': 'samuelyip@plowmanchambers.com', 'Quals': 'HKIAC Accredited General Mediator', 'Call': 'HK( 2008  )'}\n",
            "319 {'Member': 'Yip, Wing San Roy Bowie 葉榮燊', 'Name of Chambers': 'Queensway Chambers', 'Address': 'Rm 2003, Tower Two, Lippo Centre, 89 Queensway, Admiralty, H.K.', 'Tel.No': '23166988', 'Fax.No': '23419168', 'Mobile': '94123712', 'E-mail': 'bowieyip@queenswaychambers.com', 'Quals': 'Mediator', 'Call': 'HK( 2004  )'}\n",
            "320 {'Member': 'Yue, Percy P.S. (Ms) 余珮詩  (女士)', 'Address': \"Rm 913-915, 9/F, Fairmont House, 8 Cotton Tree Drive, Central, H.K. [Annex to Erik Shum's Chambers]\", 'Tel.No': '31050011', 'Fax.No': '31051300', 'Call': 'HK( 2008  )'}\n",
            "321 {'Member': 'Yuen, David K.K. 袁建國', 'Name of Chambers': 'Liberty Chambers', 'Address': '3102, Tower 1, Admiralty Centre, 18 Harcourt Rd, Admiralty, H.K.', 'Tel.No': '28108222', 'Fax.No': '28100777', 'Mobile': '91696028', 'E-mail': 'davidyuen@libertychambers.com', 'Website': 'http://libertychambers.com/members/david-yuen/', 'Quals': 'Hon.BSc (U.Toronto) , MBA (York U.) , JD (City U.) , PCLL (City U.) , CEDR Accredited Mediator , FHKIArb', 'Call': 'HK( 2012  )'}\n",
            "322 {'Member': 'Yuen, Henry M. 袁文超', 'Address': 'Rm 3406 & Rm 412, Tower Two, Lippo Centre, 89 Queensway, Admiralty, H.K.', 'Tel.No': '25223365', 'Fax.No': '30072998', 'Mobile': '92293801', 'E-mail': 'hyuen928@gmail.com', 'Quals': \"LLB (HKU) , PCLL (HKU) , ACI Arb , Cert on Professional Mediator Training (HKMC) , Associate Member of HKMC , H.A.Cert on Research Ethics Committee's Training\", 'Call': 'HK( 1976  )(Removal – 1982)\\n(Restoration of Admission – 2009)'}\n",
            "323 {'Member': 'Yuen, Ross M.Y. 阮文躍 *', 'Name of Chambers': \"Denis Chang's Chambers\", 'Address': '9th Floor, One Lippo Centre, 89 Queensway, Admiralty, H.K.', 'Tel.No': '28107222', 'Fax.No': '28450439', 'E-mail': 'ryuen@dcc.law', 'Website': 'https://dcc.law/barrister/ross-yuen/', 'Quals': 'LLB (U. Lon) , BBA (CUHK) , Chartered Financial Analyst , HKIAC Accredited General Mediator', 'Call': 'HK( 2008  )'}\n",
            "324 {'Member': 'Yung, Alan C.Y. 容至賢 *', 'Name of Chambers': 'Chambers of Ronny Wong S.C.', 'Address': 'Rms 3206-3208, Alexandra House, 18 Chater Rd, Central, H.K.', 'Tel.No': '25261732', 'Fax.No': '28455421', 'Mobile': '91229550', 'E-mail': 'alanyung@rwchambers.com', 'Quals': 'LLB (LSE) , PCLL (HKU) , LLM (HKU) , CEDR Accredited Mediator', 'Call': 'HK( 2007  )'}\n",
            "325 {'Member': 'Yung, Eunice H.Y. (Ms) 容海恩  (女士)', 'Name of Chambers': \"Kenneth C.L. Chan's Chambers\", 'Address': 'Rm 1406, China Insurance Group Bldg, 141 Des Voeux Rd Central, H.K.', 'Tel.No': '21473300', 'Fax.No': '21473395', 'Call': 'HK( 2008  )'}\n",
            "326 {'Member': 'Yung, William Y.W. 容有永 *', 'Name of Chambers': \"Kenneth C.L. Chan's Chambers\", 'Address': 'Rm 1406, China Insurance Group Bldg, 141 Des Voeux Rd Central, H.K.', 'Tel.No': '21473300', 'Fax.No': '21473395', 'Call': 'HK( 2002  )'}\n",
            "327 {'Member': 'Zimmern, Richard', 'Name of Chambers': 'Des Voeux Chambers', 'Address': '38/F, Gloucester Tower, The Landmark,  Central, H.K.', 'Tel.No': '25263071', 'Fax.No': '28105287', 'E-mail': 'rzimmern@dvc.com.hk', 'Quals': 'MCI Arb', 'Call': 'HK( 1996 ), UK( 1994  )'}\n",
            "Take 100.85695624351501 second to crawl 328 items\n"
          ],
          "name": "stdout"
        }
      ]
    },
    {
      "cell_type": "markdown",
      "metadata": {
        "id": "MQYPLb0dHQv-",
        "colab_type": "text"
      },
      "source": [
        "Save data to Dataframe"
      ]
    },
    {
      "cell_type": "code",
      "metadata": {
        "scrolled": true,
        "id": "Bq6e6yBdHQv_",
        "colab_type": "code",
        "colab": {
          "base_uri": "https://localhost:8080/",
          "height": 179
        },
        "outputId": "0b83d472-9a3e-49f2-d081-a1ebcffb6fb3"
      },
      "source": [
        "df = pd.DataFrame(data)\n",
        "df['Category'] = 'Professional Qualifications'\n",
        "df['Organization'] = 'Hong Kong Bar Association'\n",
        "df['Title'] = 'Mediator'\n",
        "print(df.head())\n",
        "print(df.shape)"
      ],
      "execution_count": 9,
      "outputs": [
        {
          "output_type": "stream",
          "text": [
            "                            Member  ...     Title\n",
            "0            Agnani, Meena K. (Ms)  ...  Mediator\n",
            "1    Ah-Weng, Jonathan Winston 霍健明  ...  Mediator\n",
            "2     Aiken, Nigel, S.C. 區啟賢 資深大律師  ...  Mediator\n",
            "3           Au, Clement K.M. 區家文 *  ...  Mediator\n",
            "4  Au, Helen H.L. (Ms) 區曉嵐  (女士) *  ...  Mediator\n",
            "\n",
            "[5 rows x 14 columns]\n",
            "(328, 14)\n"
          ],
          "name": "stdout"
        }
      ]
    },
    {
      "cell_type": "markdown",
      "metadata": {
        "id": "UDhGnsyGHQwD",
        "colab_type": "text"
      },
      "source": [
        "## Data cleaning"
      ]
    },
    {
      "cell_type": "markdown",
      "metadata": {
        "id": "G3IubOrFHQwE",
        "colab_type": "text"
      },
      "source": [
        "Add gender"
      ]
    },
    {
      "cell_type": "code",
      "metadata": {
        "id": "e_Adwd6aHQwF",
        "colab_type": "code",
        "colab": {}
      },
      "source": [
        "df['Gender'] = df['Member'].apply(lambda x: 'F' if 'Ms' in x else 'M')"
      ],
      "execution_count": 10,
      "outputs": []
    },
    {
      "cell_type": "markdown",
      "metadata": {
        "id": "u-Z61VnQHQwH",
        "colab_type": "text"
      },
      "source": [
        "Separate Eng and Chi name"
      ]
    },
    {
      "cell_type": "code",
      "metadata": {
        "id": "_EGtVHaiHQwI",
        "colab_type": "code",
        "colab": {}
      },
      "source": [
        "def split_chi_name(name):\n",
        "    chi_name = re.findall(r'[\\u4e00-\\u9fa5]+',name)\n",
        "    if chi_name:\n",
        "        return chi_name[0]\n",
        "    else:\n",
        "        return \"\""
      ],
      "execution_count": 11,
      "outputs": []
    },
    {
      "cell_type": "code",
      "metadata": {
        "id": "FFfw0wuBHQwK",
        "colab_type": "code",
        "colab": {}
      },
      "source": [
        "df['Chi Name'] = df['Member'].apply(split_chi_name)"
      ],
      "execution_count": 12,
      "outputs": []
    },
    {
      "cell_type": "code",
      "metadata": {
        "id": "O9PvdP2AHQwN",
        "colab_type": "code",
        "colab": {}
      },
      "source": [
        "def split_eng_name(name):\n",
        "    chi_name = split_chi_name(name)\n",
        "    if chi_name:\n",
        "        chi_name_idx = name.find(chi_name)\n",
        "        return name[:chi_name_idx].strip()\n",
        "    else: \n",
        "        return name"
      ],
      "execution_count": 13,
      "outputs": []
    },
    {
      "cell_type": "code",
      "metadata": {
        "id": "S6ysn3BRHQwQ",
        "colab_type": "code",
        "colab": {}
      },
      "source": [
        "df['Eng Name'] = df['Member'].apply(split_eng_name)\n",
        "df['Eng Name'] = df['Eng Name'].apply(lambda x: x[:x.find('(')] if '(' in x else x)"
      ],
      "execution_count": 14,
      "outputs": []
    },
    {
      "cell_type": "markdown",
      "metadata": {
        "id": "rP7VZyobHQwU",
        "colab_type": "text"
      },
      "source": [
        "Split First and Last Name Eng"
      ]
    },
    {
      "cell_type": "code",
      "metadata": {
        "id": "Ob4qFIdjHQwV",
        "colab_type": "code",
        "colab": {}
      },
      "source": [
        "df['First Name Eng'] = df['Eng Name'].apply(lambda x: x.split(',')[1] if ',' in x else x)\n",
        "df['Last Name Eng'] = df['Eng Name'].apply(lambda x: x.split(',')[0] if ',' in x else x)"
      ],
      "execution_count": 15,
      "outputs": []
    },
    {
      "cell_type": "markdown",
      "metadata": {
        "id": "XpPOESofHQwY",
        "colab_type": "text"
      },
      "source": [
        "Split First and Last Name Chi"
      ]
    },
    {
      "cell_type": "code",
      "metadata": {
        "id": "F6184kq3HQwZ",
        "colab_type": "code",
        "colab": {}
      },
      "source": [
        "df['First Name Chi'] = df['Chi Name'].apply(lambda x: x[1:] if x else \"\")\n",
        "df['Last Name Chi'] = df['Chi Name'].apply(lambda x: x[0] if x else \"\")"
      ],
      "execution_count": 16,
      "outputs": []
    },
    {
      "cell_type": "markdown",
      "metadata": {
        "id": "HBXOofMTHQwb",
        "colab_type": "text"
      },
      "source": [
        "Order the columns"
      ]
    },
    {
      "cell_type": "code",
      "metadata": {
        "id": "QigqRUhtHQwc",
        "colab_type": "code",
        "colab": {
          "base_uri": "https://localhost:8080/",
          "height": 107
        },
        "outputId": "ccc51382-0741-47de-99c9-0cffc501fd5e"
      },
      "source": [
        "df.columns"
      ],
      "execution_count": 18,
      "outputs": [
        {
          "output_type": "execute_result",
          "data": {
            "text/plain": [
              "Index(['Member', 'Name of Chambers', 'Address', 'Tel.No', 'Fax.No', 'Mobile',\n",
              "       'E-mail', 'Call', 'Website', 'Quals', 'Pager', 'Category',\n",
              "       'Organization', 'Title', 'Gender', 'Chi Name', 'Eng Name',\n",
              "       'First Name Eng', 'Last Name Eng', 'First Name Chi', 'Last Name Chi'],\n",
              "      dtype='object')"
            ]
          },
          "metadata": {
            "tags": []
          },
          "execution_count": 18
        }
      ]
    },
    {
      "cell_type": "code",
      "metadata": {
        "scrolled": true,
        "id": "dQp6P9N5HQwe",
        "colab_type": "code",
        "colab": {}
      },
      "source": [
        "df = df[['Last Name Chi','First Name Chi','Chi Name',\n",
        "         'Last Name Eng','First Name Eng','Eng Name','Member',\n",
        "         'Gender','Title','Category','Organization',\n",
        "         'Name of Chambers','Quals','Call',\n",
        "         'Address','Mobile','Tel.No','Fax.No','E-mail','Website','Pager']]"
      ],
      "execution_count": 19,
      "outputs": []
    },
    {
      "cell_type": "markdown",
      "metadata": {
        "id": "CmBOsi4WHQwh",
        "colab_type": "text"
      },
      "source": [
        "Save to csv file"
      ]
    },
    {
      "cell_type": "code",
      "metadata": {
        "id": "UpJfkT03HQwh",
        "colab_type": "code",
        "colab": {}
      },
      "source": [
        "df.to_excel('香港大律师公会_Mediator.xlsx',encoding='utf_8_sig')\n",
        "df.to_csv('香港大律师公会_Mediator.csv',encoding='utf_8_sig')"
      ],
      "execution_count": 20,
      "outputs": []
    }
  ]
}