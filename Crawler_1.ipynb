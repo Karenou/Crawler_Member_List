{
 "cells": [
  {
   "cell_type": "code",
   "execution_count": 1,
   "metadata": {},
   "outputs": [],
   "source": [
    "import re\n",
    "import pandas as pd\n",
    "import numpy as np\n",
    "from bs4 import BeautifulSoup\n",
    "import requests"
   ]
  },
  {
   "cell_type": "markdown",
   "metadata": {},
   "source": [
    "# I. Crawl Information"
   ]
  },
  {
   "cell_type": "markdown",
   "metadata": {},
   "source": [
    "Helper function to extract information about Recipients of Hong Kong Special Administrative Region Honours and Awards"
   ]
  },
  {
   "cell_type": "code",
   "execution_count": 48,
   "metadata": {},
   "outputs": [],
   "source": [
    "def extract_data(soup, content, language = 'Eng'):\n",
    "    '''\n",
    "    @soup: BeautifulSoup object contains html of the website\n",
    "    @content: list of content contains awards, years and member names info\n",
    "    @language: a string indicates whether the language is Chi or Eng\n",
    "    \n",
    "    the function extract information store in html and return a data dictionary with below format\n",
    "    return data: [member1: {'award': , 'year': }, member2: {'award': , 'year': }]\n",
    "    '''\n",
    "    \n",
    "    data = []\n",
    "    # number of awards\n",
    "    awards = soup.select('.italic')\n",
    "    awards = [x.text for x in awards]\n",
    "    n_awards = len(awards)\n",
    "\n",
    "    for i in range(n_awards):\n",
    "        # get award name without abbreviation\n",
    "        if '(' in awards[i]:\n",
    "            # slice until the second (), keep (Gold) / (Silver)\n",
    "            if '(Gold)' in awards[i] or '(Silver)' in awards[i]:\n",
    "                idx = awards[i].find('(', awards[i].find('(') + 1) -1\n",
    "            else:\n",
    "                idx = awards[i].find('(')\n",
    "            awards[i] = awards[i][0:idx]\n",
    "        # delete white space or newline at two sides of the string\n",
    "        awards[i] = awards[i].strip() \n",
    "\n",
    "        # get start and end index of content under award i\n",
    "        start_idx = content.index(soup.select('.italic')[i])\n",
    "        if i != (n_awards - 1):\n",
    "            end_idx = content.index(soup.select('.italic')[i+1])\n",
    "        else:\n",
    "            end_idx = len(content)\n",
    "        # get list of content items under this award\n",
    "        award_content = content[start_idx:end_idx]\n",
    "        \n",
    "        # get index of year in award_content list\n",
    "        year_idx = [i for i,value in enumerate(award_content) if 'strong' in str(value)]\n",
    "        for yr in range(len(year_idx)):\n",
    "            year = int(award_content[year_idx[yr]].text)\n",
    "            # get member content in each year's award\n",
    "            if yr != (len(year_idx) -1):\n",
    "                annual_content = award_content[year_idx[yr]+1:year_idx[yr+1]]\n",
    "            else:\n",
    "                annual_content = award_content[year_idx[yr]+1:]\n",
    "            for member in annual_content:\n",
    "                member = member.text\n",
    "                if language == 'Eng':\n",
    "                    member = member.split(',')[0]\n",
    "                elif language =='Chi':\n",
    "                    member = member.split('，')[0]\n",
    "                # the member could receive more than one award, thus save as list\n",
    "                data.append({'Member':member,'Award':awards[i], 'Year':year})\n",
    "            \n",
    "    return data, awards"
   ]
  },
  {
   "cell_type": "markdown",
   "metadata": {},
   "source": [
    "## English version "
   ]
  },
  {
   "cell_type": "code",
   "execution_count": 50,
   "metadata": {},
   "outputs": [],
   "source": [
    "eng_url = \"https://www.info.gov.hk/cml/eng/miscell/index2.htm\"\n",
    "eng_html = requests.get(eng_url)"
   ]
  },
  {
   "cell_type": "code",
   "execution_count": 51,
   "metadata": {},
   "outputs": [],
   "source": [
    "soup = BeautifulSoup(eng_html.text, 'html.parser')\n",
    "content = soup.find_all(['h2','strong','li'])[4:]"
   ]
  },
  {
   "cell_type": "code",
   "execution_count": 52,
   "metadata": {},
   "outputs": [],
   "source": [
    "en_data, en_awards = extract_data(soup, content, language = 'Eng')"
   ]
  },
  {
   "cell_type": "markdown",
   "metadata": {},
   "source": [
    "## Chinese version "
   ]
  },
  {
   "cell_type": "markdown",
   "metadata": {},
   "source": [
    "To avoid Chinese decoding problem, use \"utf-8\" encoding"
   ]
  },
  {
   "cell_type": "code",
   "execution_count": 53,
   "metadata": {},
   "outputs": [],
   "source": [
    "cn_url = 'https://www.info.gov.hk/cml/miscell/index2.htm'\n",
    "cn_html = requests.get(cn_url)\n",
    "cn_html.encoding = 'utf-8'"
   ]
  },
  {
   "cell_type": "code",
   "execution_count": 54,
   "metadata": {},
   "outputs": [],
   "source": [
    "soup = BeautifulSoup(cn_html.text, 'html.parser')\n",
    "content = soup.find_all(['h2','strong','li'])[4:]"
   ]
  },
  {
   "cell_type": "code",
   "execution_count": 55,
   "metadata": {},
   "outputs": [],
   "source": [
    "cn_data, cn_awards = extract_data(soup, content, language = 'Chi')"
   ]
  },
  {
   "cell_type": "markdown",
   "metadata": {},
   "source": [
    "## Match Eng and Chi Award Names "
   ]
  },
  {
   "cell_type": "code",
   "execution_count": 56,
   "metadata": {
    "scrolled": true
   },
   "outputs": [],
   "source": [
    "awards = {e:c for e,c in zip(en_awards, cn_awards)}"
   ]
  },
  {
   "cell_type": "markdown",
   "metadata": {},
   "source": [
    "# II. Store Data"
   ]
  },
  {
   "cell_type": "markdown",
   "metadata": {},
   "source": [
    "Save data in pandas dataframe"
   ]
  },
  {
   "cell_type": "code",
   "execution_count": 57,
   "metadata": {},
   "outputs": [],
   "source": [
    "en_df = pd.DataFrame(en_data)\n",
    "en_df.columns=['Eng Name','Award','Year']\n",
    "\n",
    "cn_df = pd.DataFrame(cn_data)\n",
    "cn_df.columns=['Chi Name','Award','Year']"
   ]
  },
  {
   "cell_type": "markdown",
   "metadata": {},
   "source": [
    "There might be repeated member names who receive more than one awards."
   ]
  },
  {
   "cell_type": "code",
   "execution_count": 58,
   "metadata": {},
   "outputs": [
    {
     "name": "stdout",
     "output_type": "stream",
     "text": [
      "(6840, 3) (6840, 3)\n"
     ]
    }
   ],
   "source": [
    "print(en_df.shape, cn_df.shape)"
   ]
  },
  {
   "cell_type": "code",
   "execution_count": 59,
   "metadata": {},
   "outputs": [
    {
     "name": "stdout",
     "output_type": "stream",
     "text": [
      "Eng Name    0\n",
      "Award       0\n",
      "Year        0\n",
      "dtype: int64\n",
      "Chi Name    0\n",
      "Award       0\n",
      "Year        0\n",
      "dtype: int64\n"
     ]
    }
   ],
   "source": [
    "print(en_df.isnull().sum())\n",
    "print(cn_df.isnull().sum())"
   ]
  },
  {
   "cell_type": "markdown",
   "metadata": {},
   "source": [
    "## Data cleaning"
   ]
  },
  {
   "cell_type": "code",
   "execution_count": 60,
   "metadata": {},
   "outputs": [],
   "source": [
    "# delete the Honourable in Eng Name\n",
    "en_df['Eng Name'] = en_df['Eng Name'].apply(lambda x: x[x.find('Honourable')+10:] if 'Honourable' in x else x)"
   ]
  },
  {
   "cell_type": "code",
   "execution_count": 61,
   "metadata": {},
   "outputs": [],
   "source": [
    "# delete the \\t at the end of CN name\n",
    "cn_df['Chi Name'] = cn_df['Chi Name'].apply(lambda x: x.rstrip())"
   ]
  },
  {
   "cell_type": "code",
   "execution_count": 423,
   "metadata": {},
   "outputs": [],
   "source": [
    "# merge two dataframes\n",
    "df = en_df.merge(cn_df, left_index = True, right_index = True, how='outer')\n",
    "# rename columns\n",
    "df = df.drop(['Award_y','Year_y'], axis = 1)\n",
    "df.columns = ['Eng Name', 'Award','Year','Chi Name']"
   ]
  },
  {
   "cell_type": "code",
   "execution_count": 424,
   "metadata": {},
   "outputs": [],
   "source": [
    "# add organization and catefory\n",
    "df['Category'] = 'Awards & Recognitions'\n",
    "df['Organization'] = 'Hong Kong Special Administrative Region Honours and Awards'"
   ]
  },
  {
   "cell_type": "code",
   "execution_count": 425,
   "metadata": {},
   "outputs": [],
   "source": [
    "# remove whitespace in names\n",
    "df['Eng Name'] = df['Eng Name'].str.strip()\n",
    "df['Eng Name'] = df['Eng Name'].apply(lambda x: ' '.join(x.split()))\n",
    "df['Chi Name'] = df['Chi Name'].str.strip()\n",
    "# bug, cannot replace '\\u3000' inline\n",
    "df['Eng Name'].replace(u'\\u3000',u'',inplace=True)"
   ]
  },
  {
   "cell_type": "markdown",
   "metadata": {},
   "source": [
    "Split EN prefix"
   ]
  },
  {
   "cell_type": "code",
   "execution_count": 426,
   "metadata": {},
   "outputs": [],
   "source": [
    "def split_prefix_eng(name):\n",
    "    prefix = re.search('(?:Mrs|Mr|Ms|Miss|Dr|Sir)\\.?',name)\n",
    "    if prefix:\n",
    "        return prefix.group()\n",
    "    else:\n",
    "        return \"\""
   ]
  },
  {
   "cell_type": "code",
   "execution_count": 427,
   "metadata": {},
   "outputs": [],
   "source": [
    "df['Prefix'] = df['Eng Name'].apply(split_prefix_eng)"
   ]
  },
  {
   "cell_type": "markdown",
   "metadata": {},
   "source": [
    "Split first and last Eng name"
   ]
  },
  {
   "cell_type": "code",
   "execution_count": 428,
   "metadata": {},
   "outputs": [],
   "source": [
    "def split_last_name_eng(name):\n",
    "    last_name = re.search('[A-Z]+(?![a-z])',name)\n",
    "    if last_name:\n",
    "        return last_name.group()\n",
    "    else:\n",
    "        return \"\""
   ]
  },
  {
   "cell_type": "code",
   "execution_count": 430,
   "metadata": {},
   "outputs": [],
   "source": [
    "df['Last Name Eng'] = df['Eng Name'].apply(split_last_name_eng)"
   ]
  },
  {
   "cell_type": "code",
   "execution_count": 431,
   "metadata": {},
   "outputs": [],
   "source": [
    "df['First Name Eng'] = df.apply(lambda x: x['Eng Name'].replace(x['Prefix'], \"\")\n",
    "                               .replace(x['Last Name Eng'], \"\").strip(), axis=1)"
   ]
  },
  {
   "cell_type": "markdown",
   "metadata": {},
   "source": [
    "Split prefix cn "
   ]
  },
  {
   "cell_type": "code",
   "execution_count": 432,
   "metadata": {},
   "outputs": [],
   "source": [
    "def split_prefix_cn(name):\n",
    "    # if the name in Engslish, use helper function\n",
    "    en_name = re.search(r'[a-zA-Z0-9]+', name)\n",
    "    if en_name:\n",
    "        return split_prefix_eng(en_name.group())\n",
    "    # if the name is in Chinese, return Chinese prefix\n",
    "    else:\n",
    "        prefix = re.search('(?:先生|小姐|女士|工程師|機長|博士|首席|議員|首席法官|爵士|法師|教授|醫生|大主教|副庭長|勳爵|法官|牧師)',name)\n",
    "        if prefix:\n",
    "            return prefix.group()\n",
    "        else:\n",
    "            return \"\""
   ]
  },
  {
   "cell_type": "code",
   "execution_count": 433,
   "metadata": {},
   "outputs": [],
   "source": [
    "df['Prefix CN'] = df['Chi Name'].apply(split_prefix_cn)"
   ]
  },
  {
   "cell_type": "markdown",
   "metadata": {},
   "source": [
    "Split first and last Chi name"
   ]
  },
  {
   "cell_type": "code",
   "execution_count": 434,
   "metadata": {},
   "outputs": [],
   "source": [
    "def split_last_name_chi(name):\n",
    "    # if the name is in Chinese, return first character \n",
    "    en_name = re.search(r'[a-zA-Z0-9]+', name)\n",
    "    if en_name:\n",
    "        return split_last_name_eng(en_name.group())\n",
    "    else:\n",
    "        return name[0]"
   ]
  },
  {
   "cell_type": "code",
   "execution_count": 435,
   "metadata": {},
   "outputs": [],
   "source": [
    "df['Last Name Chi'] = df['Chi Name'].apply(split_last_name_chi)"
   ]
  },
  {
   "cell_type": "code",
   "execution_count": 436,
   "metadata": {
    "scrolled": true
   },
   "outputs": [],
   "source": [
    "df['First Name Chi'] = df.apply(lambda x: x['Chi Name'].replace(x['Prefix CN'], \"\")\n",
    "                               .replace(x['Last Name Chi'], \"\").strip(), axis=1)"
   ]
  },
  {
   "cell_type": "markdown",
   "metadata": {},
   "source": [
    "Add gender based on EN and CN prefix"
   ]
  },
  {
   "cell_type": "code",
   "execution_count": 437,
   "metadata": {},
   "outputs": [],
   "source": [
    "def add_gender(x):\n",
    "    if x in ['先生']:\n",
    "        return 'M'\n",
    "    elif x in ['小姐','女士']:\n",
    "        return 'F'\n",
    "    else:\n",
    "        return \"\""
   ]
  },
  {
   "cell_type": "code",
   "execution_count": 438,
   "metadata": {
    "scrolled": true
   },
   "outputs": [],
   "source": [
    "df['Gender'] = df['Prefix CN'].apply(add_gender)"
   ]
  },
  {
   "cell_type": "markdown",
   "metadata": {},
   "source": [
    "Order the columns"
   ]
  },
  {
   "cell_type": "code",
   "execution_count": 439,
   "metadata": {
    "scrolled": true
   },
   "outputs": [],
   "source": [
    "df = df[['Last Name Chi','First Name Chi','Chi Name','Prefix CN',\n",
    "         'Last Name Eng','First Name Eng','Eng Name','Prefix',\n",
    "         'Gender','Category','Organization','Year','Award']]"
   ]
  },
  {
   "cell_type": "markdown",
   "metadata": {},
   "source": [
    "Save to csv file"
   ]
  },
  {
   "cell_type": "code",
   "execution_count": 441,
   "metadata": {},
   "outputs": [],
   "source": [
    "df.to_excel('香港特别行政区获授勋及嘉奖人士名单.xlsx',encoding='utf_8_sig')\n",
    "df.to_csv('香港特别行政区获授勋及嘉奖人士名单.csv',encoding='utf_8_sig')"
   ]
  }
 ],
 "metadata": {
  "kernelspec": {
   "display_name": "Python 3",
   "language": "python",
   "name": "python3"
  },
  "language_info": {
   "codemirror_mode": {
    "name": "ipython",
    "version": 3
   },
   "file_extension": ".py",
   "mimetype": "text/x-python",
   "name": "python",
   "nbconvert_exporter": "python",
   "pygments_lexer": "ipython3",
   "version": "3.7.3"
  }
 },
 "nbformat": 4,
 "nbformat_minor": 2
}
