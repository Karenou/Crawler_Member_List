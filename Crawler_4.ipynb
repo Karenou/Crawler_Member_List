{
 "cells": [
  {
   "cell_type": "code",
   "execution_count": 1,
   "metadata": {},
   "outputs": [],
   "source": [
    "import re\n",
    "import pandas as pd\n",
    "import numpy as np\n",
    "from bs4 import BeautifulSoup\n",
    "import requests\n",
    "from urllib.parse import parse_qs, urlparse\n",
    "from datetime import datetime\n",
    "import time\n",
    "import random"
   ]
  },
  {
   "cell_type": "markdown",
   "metadata": {},
   "source": [
    "# I. Crawl Information"
   ]
  },
  {
   "cell_type": "markdown",
   "metadata": {},
   "source": [
    "Extract main page html of The Law Society of Hong Kong, the website uses Big5 encoding, rather than utf-8"
   ]
  },
  {
   "cell_type": "code",
   "execution_count": 2,
   "metadata": {},
   "outputs": [],
   "source": [
    "url = \"http://www.hklawsoc.org.hk/pub_e/memberlawlist/honour.asp?\"\n",
    "session = requests.Session()\n",
    "html = session.get(url)\n",
    "html.encoding = 'Big5'\n",
    "# print(html.encoding)\n",
    "# print(html.apparent_encoding)\n",
    "soup = BeautifulSoup(html.text, 'html.parser')"
   ]
  },
  {
   "cell_type": "markdown",
   "metadata": {},
   "source": [
    "Extract Eng, Chi name and admission year of all members"
   ]
  },
  {
   "cell_type": "code",
   "execution_count": 3,
   "metadata": {},
   "outputs": [],
   "source": [
    "eng_name = soup.find_all('td',{'class':'atext'})\n",
    "chi_name = soup.find_all('td',{'class':'ctext'})\n",
    "year = soup.find_all('td',{'class':'pubtext','valign':'middle','align':'center'})[2:]\n",
    "data = [{'Eng Name':e.text.strip(), \n",
    "         'Chi Name':c.text.strip(), \n",
    "         'Year of Admission': y.text.strip()} for e,c,y in zip(eng_name, chi_name, year)]"
   ]
  },
  {
   "cell_type": "markdown",
   "metadata": {},
   "source": [
    "Save data to Dataframe"
   ]
  },
  {
   "cell_type": "code",
   "execution_count": 20,
   "metadata": {},
   "outputs": [
    {
     "name": "stdout",
     "output_type": "stream",
     "text": [
      "(34, 3)\n",
      "                                            Eng Name Chi Name  \\\n",
      "0         Sir Yuet-Keung KAN , GBE, Hon. LLD, BA, JP      簡悅強   \n",
      "1  P.A.L. VINE, OBE, VRD, LLB (Lond), Hon. LLD (H...      范培德   \n",
      "2        Dr. The Hon. P. C. WOO, LLB, PhD (Lond), JP      胡百全   \n",
      "3                                        W.I. CHEUNG      張永賢   \n",
      "4                                         Kenneth LO      羅德璋   \n",
      "5                                  Francis H.B. WONG      黃學斌   \n",
      "6                                       WONG Wai Pat      黃維弼   \n",
      "7                              Ella S. K. CHEONG, JP      張淑姬   \n",
      "\n",
      "  Year of Admission  \n",
      "0              2001  \n",
      "1              2001  \n",
      "2              2001  \n",
      "3              2002  \n",
      "4              2002  \n",
      "5              2002  \n",
      "6              2003  \n",
      "7              2004  \n"
     ]
    }
   ],
   "source": [
    "df = pd.DataFrame(data)\n",
    "print(df.shape)\n",
    "print(df.head(8))"
   ]
  },
  {
   "cell_type": "markdown",
   "metadata": {},
   "source": [
    "Extract member's url and info if possible"
   ]
  },
  {
   "cell_type": "code",
   "execution_count": 5,
   "metadata": {},
   "outputs": [],
   "source": [
    "member_url = []\n",
    "url_prefix = 'http://www.hklawsoc.org.hk/pub_e/memberlawlist/'\n",
    "for member in eng_name:\n",
    "    if member.find('a'):\n",
    "        member_url.append(url_prefix + member.find('a').get('href'))"
   ]
  },
  {
   "cell_type": "code",
   "execution_count": 6,
   "metadata": {},
   "outputs": [],
   "source": [
    "items_keep = ['Name (English)','Name (Chinese)',\n",
    "              'Admission in Hong Kong','Remark',\n",
    "             'Admission in Other Jurisdiction(s)',\n",
    "             'Post','Firm/Company (English)','Firm/Company (Chinese)']"
   ]
  },
  {
   "cell_type": "code",
   "execution_count": 7,
   "metadata": {},
   "outputs": [],
   "source": [
    "USER_AGENT_LIST = [\n",
    "    \"Mozilla/4.0 (compatible; MSIE 6.0; Windows NT 5.1; SV1; AcooBrowser; .NET CLR 1.1.4322; .NET CLR 2.0.50727)\",\n",
    "    \"Mozilla/4.0 (compatible; MSIE 7.0; Windows NT 6.0; Acoo Browser; SLCC1; .NET CLR 2.0.50727; Media Center PC 5.0; .NET CLR 3.0.04506)\",\n",
    "    \"Mozilla/4.0 (compatible; MSIE 7.0; AOL 9.5; AOLBuild 4337.35; Windows NT 5.1; .NET CLR 1.1.4322; .NET CLR 2.0.50727)\",\n",
    "    \"Mozilla/5.0 (Windows; U; MSIE 9.0; Windows NT 9.0; en-US)\",\n",
    "    \"Mozilla/5.0 (compatible; MSIE 9.0; Windows NT 6.1; Win64; x64; Trident/5.0; .NET CLR 3.5.30729; .NET CLR 3.0.30729; .NET CLR 2.0.50727; Media Center PC 6.0)\",\n",
    "    \"Mozilla/5.0 (compatible; MSIE 8.0; Windows NT 6.0; Trident/4.0; WOW64; Trident/4.0; SLCC2; .NET CLR 2.0.50727; .NET CLR 3.5.30729; .NET CLR 3.0.30729; .NET CLR 1.0.3705; .NET CLR 1.1.4322)\",\n",
    "    \"Mozilla/4.0 (compatible; MSIE 7.0b; Windows NT 5.2; .NET CLR 1.1.4322; .NET CLR 2.0.50727; InfoPath.2; .NET CLR 3.0.04506.30)\",\n",
    "    \"Mozilla/5.0 (Windows; U; Windows NT 5.1; zh-CN) AppleWebKit/523.15 (KHTML, like Gecko, Safari/419.3) Arora/0.3 (Change: 287 c9dfb30)\",\n",
    "    \"Mozilla/5.0 (X11; U; Linux; en-US) AppleWebKit/527+ (KHTML, like Gecko, Safari/419.3) Arora/0.6\",\n",
    "    \"Mozilla/5.0 (Windows; U; Windows NT 5.1; en-US; rv:1.8.1.2pre) Gecko/20070215 K-Ninja/2.1.1\"\n",
    "    ]"
   ]
  },
  {
   "cell_type": "code",
   "execution_count": 8,
   "metadata": {
    "scrolled": true
   },
   "outputs": [
    {
     "name": "stdout",
     "output_type": "stream",
     "text": [
      "0 {'Name (English)': 'CHEONG SHUK KI, ELLA', 'Name (Chinese)': '張淑姬', 'Admission in Hong Kong': '03/1963', 'Remark': 'Holding Current Practising CertificateNotary Public (member of the Hong Kong Society of Notaries)', 'Admission in Other Jurisdiction(s)': ['ENGLAND AND WALES-1967', 'VICTORIA (AUSTRALIA)-11/1975'], 'Post': 'Partner', 'Firm/Company (English)': 'ELLALAN', 'Firm/Company (Chinese)': '張淑姬趙之威律師行'}\n",
      "1 {'Name (English)': 'WONG CHUNG HIN', 'Name (Chinese)': '黃頌顯', 'Admission in Hong Kong': '02/1959', 'Remark': 'Holding Current Practising Certificate', 'Admission in Other Jurisdiction(s)': ['ENGLAND AND WALES-11/1958'], 'Post': 'Consultant', 'Firm/Company (English)': 'WOO & CO., P.C.', 'Firm/Company (Chinese)': '胡百全律師事務所'}\n",
      "2 {'Name (English)': 'CHEUNG YAN SHUN, EDMUND', 'Name (Chinese)': '張恩純', 'Admission in Hong Kong': '02/1957', 'Remark': 'Holding Current Practising Certificate', 'Admission in Other Jurisdiction(s)': ['ENGLAND AND WALES-07/1966'], 'Post': 'Consultant', 'Firm/Company (English)': 'CHEUNG & CO., EDMUND', 'Firm/Company (Chinese)': '張恩純, 葉健民律師行'}\n",
      "3 {'Name (English)': 'LEUNG OI SIE, ELSIE', 'Name (Chinese)': '梁愛詩', 'Admission in Hong Kong': '01/1968', 'Remark': 'Holding Current Practising CertificateNotary Public (member of the Hong Kong Society of Notaries) China Appointed Attesting Officer', 'Admission in Other Jurisdiction(s)': ['ENGLAND AND WALES-04/1975'], 'Post': 'Consultant', 'Firm/Company (English)': 'IU, LAI & LI', 'Firm/Company (Chinese)': '姚黎李律師行'}\n",
      "4 {'Name (English)': 'CHAN CHEUK, CHRISTOPHER', 'Name (Chinese)': '陳 爵', 'Admission in Hong Kong': '11/1970', 'Remark': 'Solicitor Not in Private Practice in Hong Kong', 'Admission in Other Jurisdiction(s)': ['ENGLAND AND WALES-1974']}\n",
      "5 {'Name (English)': 'LEUNG SIU HON', 'Name (Chinese)': '梁肇漢', 'Admission in Hong Kong': '08/1960', 'Remark': 'Holding Current Practising CertificateNotary Public (member of the Hong Kong Society of Notaries) China Appointed Attesting Officer', 'Post': 'Consultant', 'Firm/Company (English)': 'LEUNG & CO., S.H.', 'Firm/Company (Chinese)': '梁肇漢律師樓'}\n",
      "6 {'Name (English)': 'TONG TIN SUN', 'Name (Chinese)': '唐天燊', 'Admission in Hong Kong': '02/1961', 'Remark': 'Solicitor Not in Private Practice in Hong Kong', 'Admission in Other Jurisdiction(s)': ['ENGLAND AND WALES-10/1967', 'VICTORIA (AUSTRALIA)-12/1977', 'SINGAPORE-07/1985']}\n",
      "7 {'Name (English)': 'IP SIK ON, SIMON', 'Name (Chinese)': '葉錫安', 'Admission in Hong Kong': '04/1972', 'Remark': 'Notary Public (member of the Hong Kong Society of Notaries) Solicitor Not in Private Practice in Hong Kong', 'Admission in Other Jurisdiction(s)': ['ENGLAND AND WALES-12/1971']}\n",
      "8 {'Name (English)': 'TSUI HING CHUEN, WILLIAM', 'Name (Chinese)': '徐慶全', 'Admission in Hong Kong': '12/1977', 'Remark': 'Holding Current Practising CertificateNotary Public (member of the Hong Kong Society of Notaries)', 'Admission in Other Jurisdiction(s)': ['ENGLAND AND WALES-07/1981', 'VICTORIA (AUSTRALIA)-03/1983', 'SINGAPORE-06/1985'], 'Post': 'Partner', 'Firm/Company (English)': 'LO, WONG & TSUI', 'Firm/Company (Chinese)': '盧王徐律師事務所'}\n",
      "9 {'Name (English)': 'YAP ALFRED DONALD', 'Name (Chinese)': '葉天養', 'Admission in Hong Kong': '10/1971', 'Remark': 'Holding Current Practising CertificateNotary Public (member of the Hong Kong Society of Notaries) China Appointed Attesting Officer', 'Admission in Other Jurisdiction(s)': ['ENGLAND AND WALES-12/1966', 'VICTORIA (AUSTRALIA)-07/1984', 'QUEENSLAND (AUSTRALIA)-01/2002'], 'Post': 'Consultant', 'Firm/Company (English)': 'YAP & LAM, SOLICITORS', 'Firm/Company (Chinese)': '葉天養、葉欣穎、林健雄律師行'}\n",
      "10 {'Name (English)': 'KAN KAM CHOY, ANSON', 'Name (Chinese)': '簡錦材', 'Admission in Hong Kong': '12/1977', 'Remark': 'Notary Public (member of the Hong Kong Society of Notaries) Solicitor Not in Private Practice in Hong Kong', 'Admission in Other Jurisdiction(s)': ['ENGLAND AND WALES-03/1982']}\n",
      "11 {'Name (English)': 'WOO RODERICK BUN', 'Name (Chinese)': '吳 斌', 'Admission in Hong Kong': '09/1973', 'Remark': 'Holding Current Practising CertificateNotary Public (member of the Hong Kong Society of Notaries) China Appointed Attesting Officer', 'Admission in Other Jurisdiction(s)': ['ENGLAND AND WALES-11/1971'], 'Post': 'Partner', 'Firm/Company (English)': 'ZIMMERN & CO., F.', 'Firm/Company (Chinese)': '施文律師行'}\n",
      "12 {'Name (English)': 'CHOW WING KIN, ANTHONY', 'Name (Chinese)': '周永健', 'Admission in Hong Kong': '03/1980', 'Remark': 'Holding Current Practising CertificateChina Appointed Attesting Officer', 'Admission in Other Jurisdiction(s)': ['ENGLAND AND WALES-07/1979'], 'Post': 'Consultant', 'Firm/Company (English)': 'GUANTAO & CHOW SOLICITORS AND NOTARIES', 'Firm/Company (Chinese)': '觀韜律師事務所(香港)'}\n",
      "13 {'Name (English)': 'KAN KA CHONG, FREDERICK', 'Name (Chinese)': '簡家驄', 'Admission in Hong Kong': '05/1978', 'Remark': 'Holding Current Practising CertificateNotary Public (member of the Hong Kong Society of Notaries) China Appointed Attesting Officer', 'Admission in Other Jurisdiction(s)': ['ENGLAND AND WALES-12/1977'], 'Post': 'Partner', 'Firm/Company (English)': 'KAN & CO., FRED', 'Firm/Company (Chinese)': '簡家驄律師行'}\n",
      "14 {'Name (English)': 'TSOI HAK KONG, HERBERT', 'Name (Chinese)': '蔡克剛', 'Admission in Hong Kong': '11/1976', 'Remark': 'Holding Current Practising CertificateNotary Public (member of the Hong Kong Society of Notaries) China Appointed Attesting Officer', 'Admission in Other Jurisdiction(s)': ['ENGLAND AND WALES-10/1976'], 'Post': 'Consultant', 'Firm/Company (English)': 'LI & CO., MYRA', 'Firm/Company (Chinese)': '李美蘭律師事務所'}\n",
      "15 {'Name (English)': 'LEE YEH KWONG, CHARLES', 'Name (Chinese)': '李業廣', 'Admission in Hong Kong': '01/1969', 'Remark': 'Holding Current Practising Certificate', 'Admission in Other Jurisdiction(s)': ['ENGLAND AND WALES-08/1968'], 'Post': 'Consultant', 'Firm/Company (English)': 'WOO KWAN LEE & LO', 'Firm/Company (Chinese)': '胡關李羅律師行'}\n",
      "16 {'Name (English)': 'PEARD ROBIN SOMERS', 'Admission in Hong Kong': '05/1965', 'Remark': 'Holding Current Practising CertificateNotary Public (member of the Hong Kong Society of Notaries)', 'Admission in Other Jurisdiction(s)': ['ENGLAND AND WALES-01/1964'], 'Post': 'Consultant', 'Firm/Company (English)': 'MAYER BROWN', 'Firm/Company (Chinese)': '孖士打律師行'}\n",
      "17 {'Name (English)': 'WU HUNG YUK, ANNA', 'Name (Chinese)': '胡紅玉', 'Admission in Hong Kong': '03/1977', 'Remark': 'Solicitor Not in Private Practice in Hong Kong'}\n",
      "18 {'Name (English)': 'IP SHING HING', 'Name (Chinese)': '葉成慶', 'Admission in Hong Kong': '05/1981', 'Remark': 'Holding Current Practising CertificateNotary Public (member of the Hong Kong Society of Notaries) China Appointed Attesting Officer', 'Admission in Other Jurisdiction(s)': ['ENGLAND AND WALES-12/1984'], 'Post': 'Partner', 'Firm/Company (English)': 'KOO CHRISTINE M. & IP, SOLICITORS & NOTARIES LLP', 'Firm/Company (Chinese)': '顧張文菊、葉成慶律師事務所有限法律責任合'}\n",
      "19 {'Name (English)': 'LIANG WAN SANG, VINCENT', 'Name (Chinese)': '梁雲生', 'Admission in Hong Kong': '11/1975', 'Remark': 'Holding Current Practising CertificateChina Appointed Attesting Officer', 'Admission in Other Jurisdiction(s)': ['ENGLAND AND WALES-09/1975'], 'Post': 'Partner', 'Firm/Company (English)': 'LO & LO', 'Firm/Company (Chinese)': '羅文錦律師樓'}\n",
      "20 {'Name (English)': 'SIT KIEN PING, PETER', 'Name (Chinese)': '薛建平', 'Admission in Hong Kong': '05/1978', 'Remark': 'Holding Current Practising CertificateNotary Public (member of the Hong Kong Society of Notaries) China Appointed Attesting Officer', 'Admission in Other Jurisdiction(s)': ['ENGLAND AND WALES-03/1983', 'VICTORIA (AUSTRALIA)-09/1984'], 'Post': 'Partner', 'Firm/Company (English)': 'SIT, FUNG, KWONG & SHUM, SOLICITORS', 'Firm/Company (Chinese)': '薛馮鄺岑律師行'}\n",
      "21 {'Name (English)': 'FOO TAK CHING', 'Name (Chinese)': '傅德楨', 'Admission in Hong Kong': '02/1973', 'Remark': 'Holding Current Practising CertificateNotary Public (member of the Hong Kong Society of Notaries) China Appointed Attesting Officer', 'Admission in Other Jurisdiction(s)': ['ENGLAND AND WALES-12/1972'], 'Post': 'Consultant', 'Firm/Company (English)': 'FOO & CO., T.C.', 'Firm/Company (Chinese)': '傅德楨律師行'}\n",
      "22 {'Name (English)': 'LINTERN-SMITH MICHAEL JOHN', 'Name (Chinese)': '史密夫', 'Admission in Hong Kong': '03/1982', 'Remark': 'Holding Current Practising CertificateNotary Public (member of the Hong Kong Society of Notaries)', 'Admission in Other Jurisdiction(s)': ['ENGLAND AND WALES-08/1981'], 'Post': 'Partner', 'Firm/Company (English)': 'ROBERTSONS', 'Firm/Company (Chinese)': '羅拔臣律師事務所'}\n",
      "It takes 21.393187999725342 seconds to crawl 23 member info\n"
     ]
    }
   ],
   "source": [
    "member_info = []\n",
    "i = 0 \n",
    "start = time.time()\n",
    "for url in member_url:\n",
    "    USER_AGENT = random.choice(USER_AGENT_LIST)\n",
    "    headers = {'user-agent': USER_AGENT}\n",
    "    html = session.get(url, headers=headers)\n",
    "    html.encoding = 'Big5'\n",
    "    soup = BeautifulSoup(html.text, 'html.parser')\n",
    "    content = soup.find('td',{'class':'pubtext'}).find('td').find_all('tr')\n",
    "    member = {}\n",
    "    for item in content:\n",
    "        values = item.find_all('td')\n",
    "        if len(values) > 1:\n",
    "            key = values[0].text.strip()\n",
    "            if key in items_keep:\n",
    "                value = values[1].text.strip()\n",
    "                # special process for admission in other jurisdictions\n",
    "                if key == 'Admission in Other Jurisdiction(s)':\n",
    "                    value = [x.strip() for x in value.split('\\n') if x][2:]\n",
    "                    value = [country + '-' + year for country, year in zip(value[0::2], value[1::2])]\n",
    "                member[key] = value       \n",
    "    member_info.append(member)\n",
    "    print(i, member_info[-1])\n",
    "    i += 1\n",
    "end = time.time()\n",
    "print('It takes {} seconds to crawl {} member info'.format(end-start, len(member_url)))"
   ]
  },
  {
   "cell_type": "markdown",
   "metadata": {},
   "source": [
    "Save to dataframe"
   ]
  },
  {
   "cell_type": "code",
   "execution_count": 21,
   "metadata": {},
   "outputs": [
    {
     "name": "stdout",
     "output_type": "stream",
     "text": [
      "(23, 8)\n",
      "            Name (English) Name (Chinese) Admission in Hong Kong  \\\n",
      "0     CHEONG SHUK KI, ELLA            張淑姬                03/1963   \n",
      "1           WONG CHUNG HIN            黃頌顯                02/1959   \n",
      "2  CHEUNG YAN SHUN, EDMUND            張恩純                02/1957   \n",
      "3      LEUNG OI SIE, ELSIE            梁愛詩                01/1968   \n",
      "4  CHAN CHEUK, CHRISTOPHER            陳 爵                11/1970   \n",
      "\n",
      "                                              Remark  \\\n",
      "0  Holding Current Practising CertificateNotary P...   \n",
      "1             Holding Current Practising Certificate   \n",
      "2             Holding Current Practising Certificate   \n",
      "3  Holding Current Practising CertificateNotary P...   \n",
      "4     Solicitor Not in Private Practice in Hong Kong   \n",
      "\n",
      "                  Admission in Other Jurisdiction(s)        Post  \\\n",
      "0  [ENGLAND AND WALES-1967, VICTORIA (AUSTRALIA)-...     Partner   \n",
      "1                        [ENGLAND AND WALES-11/1958]  Consultant   \n",
      "2                        [ENGLAND AND WALES-07/1966]  Consultant   \n",
      "3                        [ENGLAND AND WALES-04/1975]  Consultant   \n",
      "4                           [ENGLAND AND WALES-1974]         NaN   \n",
      "\n",
      "  Firm/Company (English) Firm/Company (Chinese)  \n",
      "0                ELLALAN              張淑姬趙之威律師行  \n",
      "1        WOO & CO., P.C.               胡百全律師事務所  \n",
      "2   CHEUNG & CO., EDMUND            張恩純, 葉健民律師行  \n",
      "3           IU, LAI & LI                 姚黎李律師行  \n",
      "4                    NaN                    NaN  \n"
     ]
    }
   ],
   "source": [
    "member_info_df = pd.DataFrame(member_info)\n",
    "print(member_info_df.shape)\n",
    "print(member_info_df.head())"
   ]
  },
  {
   "cell_type": "markdown",
   "metadata": {},
   "source": [
    "## Data cleaning"
   ]
  },
  {
   "cell_type": "markdown",
   "metadata": {},
   "source": [
    "Merge two dataframes, change column names, add category, organization and title"
   ]
  },
  {
   "cell_type": "code",
   "execution_count": 22,
   "metadata": {},
   "outputs": [],
   "source": [
    "df = df.merge(member_info_df, left_on = 'Chi Name', right_on = 'Name (Chinese)', how='left')"
   ]
  },
  {
   "cell_type": "code",
   "execution_count": 23,
   "metadata": {},
   "outputs": [],
   "source": [
    "df['Category'] = 'Professional Qualifications'\n",
    "df['Organization'] = 'The Law Society of Hong Kong'"
   ]
  },
  {
   "cell_type": "code",
   "execution_count": 24,
   "metadata": {},
   "outputs": [],
   "source": [
    "df.to_csv('香港律师会_raw.csv',encoding='utf_8_sig')"
   ]
  },
  {
   "cell_type": "code",
   "execution_count": 27,
   "metadata": {},
   "outputs": [],
   "source": [
    "df = pd.read_csv('香港律师会_raw.csv',index_col=0,encoding='utf-8')"
   ]
  },
  {
   "cell_type": "markdown",
   "metadata": {},
   "source": [
    "Change date format"
   ]
  },
  {
   "cell_type": "code",
   "execution_count": 29,
   "metadata": {},
   "outputs": [],
   "source": [
    "df['Admission in Hong Kong'] = pd.to_datetime(df['Admission in Hong Kong'],format='%m/%Y')"
   ]
  },
  {
   "cell_type": "markdown",
   "metadata": {},
   "source": [
    "Split First and Last Name Chi. If name is in Eng, skip"
   ]
  },
  {
   "cell_type": "code",
   "execution_count": 30,
   "metadata": {},
   "outputs": [],
   "source": [
    "df['Last Name Chi'] = df['Chi Name'].apply(lambda x: \"\" if not str(x) else str(x)[0])\n",
    "df['First Name Chi'] = df['Chi Name'].apply(lambda x: \"\" if not str(x) else str(x)[1:])"
   ]
  },
  {
   "cell_type": "markdown",
   "metadata": {},
   "source": [
    "Split First and Last Name Eng, delete (Ms) in first name if necessary"
   ]
  },
  {
   "cell_type": "code",
   "execution_count": 38,
   "metadata": {},
   "outputs": [],
   "source": [
    "df['Eng Name'] = df['Eng Name'].apply(lambda x: x.split(',')[0] if ',' in x else x)"
   ]
  },
  {
   "cell_type": "code",
   "execution_count": 47,
   "metadata": {},
   "outputs": [],
   "source": [
    "def split_last_name_eng(name):\n",
    "    last_name = re.search('[A-Z]{2,7}',name)\n",
    "    if last_name:\n",
    "        return last_name.group()\n",
    "    else:\n",
    "        return \"\""
   ]
  },
  {
   "cell_type": "code",
   "execution_count": 48,
   "metadata": {},
   "outputs": [],
   "source": [
    "df['Last Name Eng'] = df['Eng Name'].apply(split_last_name_eng)"
   ]
  },
  {
   "cell_type": "code",
   "execution_count": 51,
   "metadata": {},
   "outputs": [],
   "source": [
    "df['First Name Eng'] = df.apply(lambda x: x['Eng Name'].replace(x['Last Name Eng'],\"\").strip(),axis=1)"
   ]
  },
  {
   "cell_type": "markdown",
   "metadata": {},
   "source": [
    "Order the columns"
   ]
  },
  {
   "cell_type": "code",
   "execution_count": 53,
   "metadata": {},
   "outputs": [
    {
     "data": {
      "text/plain": [
       "Index(['Eng Name', 'Chi Name', 'Year of Admission', 'Name (English)',\n",
       "       'Name (Chinese)', 'Admission in Hong Kong', 'Remark',\n",
       "       'Admission in Other Jurisdiction(s)', 'Post', 'Firm/Company (English)',\n",
       "       'Firm/Company (Chinese)', 'Category', 'Organization', 'Last Name Chi',\n",
       "       'First Name Chi', 'Last Name Eng', 'First Name Eng'],\n",
       "      dtype='object')"
      ]
     },
     "execution_count": 53,
     "metadata": {},
     "output_type": "execute_result"
    }
   ],
   "source": [
    "df.columns"
   ]
  },
  {
   "cell_type": "code",
   "execution_count": 55,
   "metadata": {
    "scrolled": true
   },
   "outputs": [],
   "source": [
    "df = df[['Last Name Chi','First Name Chi','Chi Name',\n",
    "         'Last Name Eng','First Name Eng','Eng Name',\n",
    "         'Year of Admission','Admission in Hong Kong','Remark',\n",
    "         'Admission in Other Jurisdiction(s)','Post',\n",
    "         'Firm/Company (English)','Firm/Company (Chinese)',\n",
    "         'Category','Organization']]"
   ]
  },
  {
   "cell_type": "markdown",
   "metadata": {},
   "source": [
    "Save to csv file"
   ]
  },
  {
   "cell_type": "code",
   "execution_count": 56,
   "metadata": {},
   "outputs": [],
   "source": [
    "df.to_excel('香港律师会.xlsx',encoding='utf_8_sig')\n",
    "df.to_csv('香港律师会.csv',encoding='utf_8_sig')"
   ]
  }
 ],
 "metadata": {
  "kernelspec": {
   "display_name": "Python 3",
   "language": "python",
   "name": "python3"
  },
  "language_info": {
   "codemirror_mode": {
    "name": "ipython",
    "version": 3
   },
   "file_extension": ".py",
   "mimetype": "text/x-python",
   "name": "python",
   "nbconvert_exporter": "python",
   "pygments_lexer": "ipython3",
   "version": "3.7.3"
  }
 },
 "nbformat": 4,
 "nbformat_minor": 2
}
