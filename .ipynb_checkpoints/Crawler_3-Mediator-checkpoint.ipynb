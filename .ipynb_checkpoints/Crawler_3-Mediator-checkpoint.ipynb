{
 "cells": [
  {
   "cell_type": "code",
   "execution_count": 1,
   "metadata": {},
   "outputs": [],
   "source": [
    "import re\n",
    "import pandas as pd\n",
    "import numpy as np\n",
    "from bs4 import BeautifulSoup\n",
    "import requests\n",
    "from datetime import datetime\n",
    "import time\n",
    "import random"
   ]
  },
  {
   "cell_type": "markdown",
   "metadata": {},
   "source": [
    "# I. Crawl Information"
   ]
  },
  {
   "cell_type": "markdown",
   "metadata": {},
   "source": [
    "Helper function to extract information about Hong Kong Bar Association - senior counsel"
   ]
  },
  {
   "cell_type": "code",
   "execution_count": 3,
   "metadata": {},
   "outputs": [],
   "source": [
    "def extract_data(soup, language = 'Eng'):\n",
    "    '''\n",
    "    @soup: BeautifulSoup object contains html of the website\n",
    "    @language: a string indicates whether the language is Chi or Eng\n",
    "    \n",
    "    the function extract member information on current page and return a data dictionary with below format\n",
    "    return data: {'Member': name, 'Name of Chambers': ,Address': , 'Tel.No': , 'Fax.No':, 'Website': , Call':}\n",
    "    ''' \n",
    "    data = {}\n",
    "    \n",
    "    # name format: last name Eng, middle name Eng, initials Eng, title, name Chi, title Chi \n",
    "    name = soup.find('div',{'class':'barrister-name'}).text.strip().split(' ')\n",
    "    name = ' '.join(name[:-1]).strip()\n",
    "    data['Member'] = name\n",
    "    \n",
    "    # other info, split key and value using the first :\n",
    "    info = soup.find_all('div',{'class':'barrister-row'})\n",
    "    for item in info:\n",
    "        content = item.text\n",
    "        key = content[:content.find(':')]\n",
    "        value = content[content.find(':')+1:]\n",
    "        data[key] = value\n",
    "        \n",
    "    return data"
   ]
  },
  {
   "cell_type": "markdown",
   "metadata": {},
   "source": [
    "## English version "
   ]
  },
  {
   "cell_type": "markdown",
   "metadata": {},
   "source": [
    "Extract main page html, the website stores the names in javascript dataTable"
   ]
  },
  {
   "cell_type": "code",
   "execution_count": 2,
   "metadata": {},
   "outputs": [],
   "source": [
    "eng_url = \"https://www.hkba.org/Bar-List/mediators\"\n",
    "session = requests.Session()\n",
    "eng_html = session.get(eng_url)\n",
    "soup = BeautifulSoup(eng_html.text, 'html.parser')"
   ]
  },
  {
   "cell_type": "markdown",
   "metadata": {},
   "source": [
    "get the html where the javascript defines the dataSet variable"
   ]
  },
  {
   "cell_type": "code",
   "execution_count": 4,
   "metadata": {
    "scrolled": true
   },
   "outputs": [],
   "source": [
    "content = soup.find_all('script')[25].text\n",
    "end_str = 'zimmern-richard\"],]'\n",
    "idx = content.find(end_str)\n",
    "# get only dataset html\n",
    "content = content[:idx+len(end_str)]\n",
    "# get only lists of html\n",
    "content = content.split('[')[2:]"
   ]
  },
  {
   "cell_type": "markdown",
   "metadata": {},
   "source": [
    "Get the html of each member's website"
   ]
  },
  {
   "cell_type": "code",
   "execution_count": 5,
   "metadata": {},
   "outputs": [],
   "source": [
    "def extract_member_html(html):\n",
    "    html_prefix = 'https://www.hkba.org/'\n",
    "    url = re.search('barrister/[0-9a-zA-ZÀ-ÿ-.\\-]+',html)\n",
    "    if url:\n",
    "        return html_prefix + url.group()\n",
    "    else:\n",
    "        return \"\""
   ]
  },
  {
   "cell_type": "code",
   "execution_count": 6,
   "metadata": {},
   "outputs": [],
   "source": [
    "content_df = pd.DataFrame(content, columns = ['html'])\n",
    "content_df.html = content_df.html.apply(extract_member_html)\n",
    "member_url = content_df.html.tolist()"
   ]
  },
  {
   "cell_type": "markdown",
   "metadata": {},
   "source": [
    "Extract member data on all pages. To mimic human visits, set to headers as below."
   ]
  },
  {
   "cell_type": "code",
   "execution_count": 7,
   "metadata": {},
   "outputs": [],
   "source": [
    "USER_AGENT_LIST = [\n",
    "    \"Mozilla/4.0 (compatible; MSIE 6.0; Windows NT 5.1; SV1; AcooBrowser; .NET CLR 1.1.4322; .NET CLR 2.0.50727)\",\n",
    "    \"Mozilla/4.0 (compatible; MSIE 7.0; Windows NT 6.0; Acoo Browser; SLCC1; .NET CLR 2.0.50727; Media Center PC 5.0; .NET CLR 3.0.04506)\",\n",
    "    \"Mozilla/4.0 (compatible; MSIE 7.0; AOL 9.5; AOLBuild 4337.35; Windows NT 5.1; .NET CLR 1.1.4322; .NET CLR 2.0.50727)\",\n",
    "    \"Mozilla/5.0 (Windows; U; MSIE 9.0; Windows NT 9.0; en-US)\",\n",
    "    \"Mozilla/5.0 (compatible; MSIE 9.0; Windows NT 6.1; Win64; x64; Trident/5.0; .NET CLR 3.5.30729; .NET CLR 3.0.30729; .NET CLR 2.0.50727; Media Center PC 6.0)\",\n",
    "    \"Mozilla/5.0 (compatible; MSIE 8.0; Windows NT 6.0; Trident/4.0; WOW64; Trident/4.0; SLCC2; .NET CLR 2.0.50727; .NET CLR 3.5.30729; .NET CLR 3.0.30729; .NET CLR 1.0.3705; .NET CLR 1.1.4322)\",\n",
    "    \"Mozilla/4.0 (compatible; MSIE 7.0b; Windows NT 5.2; .NET CLR 1.1.4322; .NET CLR 2.0.50727; InfoPath.2; .NET CLR 3.0.04506.30)\",\n",
    "    \"Mozilla/5.0 (Windows; U; Windows NT 5.1; zh-CN) AppleWebKit/523.15 (KHTML, like Gecko, Safari/419.3) Arora/0.3 (Change: 287 c9dfb30)\",\n",
    "    \"Mozilla/5.0 (X11; U; Linux; en-US) AppleWebKit/527+ (KHTML, like Gecko, Safari/419.3) Arora/0.6\",\n",
    "    \"Mozilla/5.0 (Windows; U; Windows NT 5.1; en-US; rv:1.8.1.2pre) Gecko/20070215 K-Ninja/2.1.1\",\n",
    "    \"Mozilla/5.0 (Windows; U; Windows NT 5.1; zh-CN; rv:1.9) Gecko/20080705 Firefox/3.0 Kapiko/3.0\",\n",
    "    \"Mozilla/5.0 (X11; Linux i686; U;) Gecko/20070322 Kazehakase/0.4.5\",\n",
    "    \"Mozilla/5.0 (X11; U; Linux i686; en-US; rv:1.9.0.8) Gecko Fedora/1.9.0.8-1.fc10 Kazehakase/0.5.6\",\n",
    "    \"Mozilla/5.0 (Windows NT 6.1; WOW64) AppleWebKit/535.11 (KHTML, like Gecko) Chrome/17.0.963.56 Safari/535.11\",\n",
    "    \"Mozilla/5.0 (Macintosh; Intel Mac OS X 10_7_3) AppleWebKit/535.20 (KHTML, like Gecko) Chrome/19.0.1036.7 Safari/535.20\",\n",
    "    \"Opera/9.80 (Macintosh; Intel Mac OS X 10.6.8; U; fr) Presto/2.9.168 Version/11.52\",\n",
    "    \"Mozilla/5.0 (Windows NT 6.1; WOW64) AppleWebKit/536.11 (KHTML, like Gecko) Chrome/20.0.1132.11 TaoBrowser/2.0 Safari/536.11\",\n",
    "    \"Mozilla/5.0 (Windows NT 6.1; WOW64) AppleWebKit/537.1 (KHTML, like Gecko) Chrome/21.0.1180.71 Safari/537.1 LBBROWSER\",\n",
    "    \"Mozilla/5.0 (compatible; MSIE 9.0; Windows NT 6.1; WOW64; Trident/5.0; SLCC2; .NET CLR 2.0.50727; .NET CLR 3.5.30729; .NET CLR 3.0.30729; Media Center PC 6.0; .NET4.0C; .NET4.0E; LBBROWSER)\",\n",
    "    \"Mozilla/4.0 (compatible; MSIE 6.0; Windows NT 5.1; SV1; QQDownload 732; .NET4.0C; .NET4.0E; LBBROWSER)\",\n",
    "    \"Mozilla/5.0 (Windows NT 6.1; WOW64) AppleWebKit/535.11 (KHTML, like Gecko) Chrome/17.0.963.84 Safari/535.11 LBBROWSER\",\n",
    "    \"Mozilla/4.0 (compatible; MSIE 7.0; Windows NT 6.1; WOW64; Trident/5.0; SLCC2; .NET CLR 2.0.50727; .NET CLR 3.5.30729; .NET CLR 3.0.30729; Media Center PC 6.0; .NET4.0C; .NET4.0E)\",\n",
    "    \"Mozilla/5.0 (compatible; MSIE 9.0; Windows NT 6.1; WOW64; Trident/5.0; SLCC2; .NET CLR 2.0.50727; .NET CLR 3.5.30729; .NET CLR 3.0.30729; Media Center PC 6.0; .NET4.0C; .NET4.0E; QQBrowser/7.0.3698.400)\",\n",
    "    \"Mozilla/4.0 (compatible; MSIE 6.0; Windows NT 5.1; SV1; QQDownload 732; .NET4.0C; .NET4.0E)\",\n",
    "    \"Mozilla/4.0 (compatible; MSIE 7.0; Windows NT 5.1; Trident/4.0; SV1; QQDownload 732; .NET4.0C; .NET4.0E; 360SE)\",\n",
    "    \"Mozilla/4.0 (compatible; MSIE 6.0; Windows NT 5.1; SV1; QQDownload 732; .NET4.0C; .NET4.0E)\",\n",
    "    \"Mozilla/4.0 (compatible; MSIE 7.0; Windows NT 6.1; WOW64; Trident/5.0; SLCC2; .NET CLR 2.0.50727; .NET CLR 3.5.30729; .NET CLR 3.0.30729; Media Center PC 6.0; .NET4.0C; .NET4.0E)\",\n",
    "    \"Mozilla/5.0 (Windows NT 5.1) AppleWebKit/537.1 (KHTML, like Gecko) Chrome/21.0.1180.89 Safari/537.1\",\n",
    "    \"Mozilla/5.0 (Windows NT 6.1; WOW64) AppleWebKit/537.1 (KHTML, like Gecko) Chrome/21.0.1180.89 Safari/537.1\",\n",
    "    \"Mozilla/5.0 (iPad; U; CPU OS 4_2_1 like Mac OS X; zh-cn) AppleWebKit/533.17.9 (KHTML, like Gecko) Version/5.0.2 Mobile/8C148 Safari/6533.18.5\",\n",
    "    \"Mozilla/5.0 (Windows NT 6.1; Win64; x64; rv:2.0b13pre) Gecko/20110307 Firefox/4.0b13pre\",\n",
    "    \"Mozilla/5.0 (X11; Ubuntu; Linux x86_64; rv:16.0) Gecko/20100101 Firefox/16.0\",\n",
    "    \"Mozilla/5.0 (Windows NT 6.1; WOW64) AppleWebKit/537.11 (KHTML, like Gecko) Chrome/23.0.1271.64 Safari/537.11\",\n",
    "    \"Mozilla/5.0 (X11; U; Linux x86_64; zh-CN; rv:1.9.2.10) Gecko/20100922 Ubuntu/10.10 (maverick) Firefox/3.6.10\",\n",
    "    \"Mozilla/5.0 (Windows NT 10.0; Win64; x64) AppleWebKit/537.36 (KHTML, like Gecko) Chrome/58.0.3029.110 Safari/537.36\",\n",
    "    ]"
   ]
  },
  {
   "cell_type": "code",
   "execution_count": null,
   "metadata": {
    "scrolled": true
   },
   "outputs": [
    {
     "name": "stdout",
     "output_type": "stream",
     "text": [
      "0 {'Member': 'Agnani, Meena K. (Ms)', 'Name of Chambers': 'Admiralty Chambers', 'Address': 'Rm 403, Fairmont House, 8 Cotton Tree Drive, Central, H.K.', 'Tel.No': '25273082', 'Fax.No': '25298226', 'Mobile': '91217670', 'E-mail': 'agnanimeena2013@gmail.com', 'Call': 'HK( 2013  )'}\n",
      "1 {'Member': 'Ah-Weng, Jonathan Winston 霍健明', 'Name of Chambers': 'Parkside Chambers', 'Address': 'Suite 3101, Two Pacific Place, 88 Queensway, Admiralty, H.K.', 'Tel.No': '28401130', 'Fax.No': '28100612', 'Mobile': '92380610', 'E-mail': 'jonathan.ah-weng@parksidechambers.com.hk', 'Website': 'http://www.parksidechambers.com.hk/members/jonathan-ah-weng/', 'Quals': 'LLB (U. Durham) , LLM (U. Lon) , AHKIArb , CEDR Accredited Mediator', 'Call': 'HK( 2003  )'}\n",
      "2 {'Member': 'Aiken, Nigel, S.C. 區啟賢 資深大律師', 'Name of Chambers': 'Temple Chambers', 'Address': '16/F, One Pacific Place, 88 Queensway, Admiralty, H.K.', 'Tel.No': '25232003', 'Fax.No': '28100302', 'Website': 'http://www.templechambers.com', 'Call': 'HK( 1981 ), Inner HK( 1994 ), UK( 1974  )'}\n",
      "3 {'Member': 'Au, Clement K.M. 區家文 *', 'Name of Chambers': 'Pacific Chambers', 'Address': 'Rm 901, Dina House, 11 Duddell St, Central, H.K.', 'Tel.No': '25215544', 'Fax.No': '25245912', 'E-mail': 'clement.au@pacificchambers.com', 'Quals': 'LLB (U. Warwick) , LLM (UCL) , PCLL (HKU) , CEDR Accredited Mediator', 'Call': 'HK( 2011  )'}\n",
      "4 {'Member': 'Au, Helen H.L. (Ms) 區曉嵐  (女士) *', 'Address': 'Rm 28, New Henry House, 10 Ice House St, Central, H.K. [Annex to Andrew Liao SC’s Chambers]', 'Tel.No': '35763130', 'Fax.No': '35763030', 'E-mail': 'helen@helen-au.com', 'Quals': 'FCI Arb , FHKI Arb , FAMINZ (Arb) , CEDR Accredited Mediator , HKMC Mediator , MHKIArb , MNI', 'Call': 'HK( 2002  )'}\n",
      "5 {'Member': 'Au, Pak Ching 歐柏青 *', 'Name of Chambers': 'Principal Chambers', 'Address': '4/F, HSBC Bldg, 14-16 Wo Fung St, Fanling, New Territories, H.K.', 'Tel.No': '29881088', 'Fax.No': '29881258', 'Mobile': '90840655', 'E-mail': 'pcau@netvigator.com', 'Quals': 'BA (HKU) , LLB (Lon) , PCLL (City U.) , MED (CUHK) , HKIAC Accredited Family Mediator , HKIAC Accredited General Mediator', 'Call': 'HK( 2000  )'}\n",
      "6 {'Member': 'Barrett, Paul N.', 'Name of Chambers': 'Pacific Chambers', 'Address': 'Rm 901, Dina House, 11 Duddell St, Central, H.K.', 'Tel.No': '25215544', 'Fax.No': '25245912', 'Mobile': '93166195', 'E-mail': 'paul@pnbarrett.com', 'Quals': 'Chartered Arbitrator , FCI Arb , FHKIS , FRICS , FCIOB', 'Call': 'HK( 1999  )'}\n",
      "7 {'Member': 'Barretto, Ruy, S.C. 白理桃 資深大律師', 'Name of Chambers': 'Temple Chambers', 'Address': '16/F, One Pacific Place, 88 Queensway, Admiralty, H.K.', 'Tel.No': '25232003', 'Fax.No': '28100302', 'Mobile': '91551925', 'E-mail': 'ruyb@netvigator.com', 'Website': 'http://www.templechambers.com', 'Quals': 'LLB , AKC , CEDR Accredited Mediator', 'Call': 'HK( 1975 ), Inner HK( 2001 ), UK( 1974  )'}\n",
      "8 {'Member': 'Beresford, Roger G.', 'Name of Chambers': \"Prince's Chambers\", 'Address': '3002, Tower Two, Lippo Centre, 89 Queensway, Admiralty, H.K.', 'Tel.No': '25257388', 'Fax.No': '25253930', 'E-mail': 'rogerberesford@princeschambers.com.hk', 'Quals': 'Solicitor (HK) [1996-1999] , Solicitor (UK) [1996 --] , CEDR Accredited Mediator', 'Call': 'HK( 1999 ), UK( 1994  )'}\n",
      "9 {'Member': 'Bu, Yanan (Ms) 卜亞楠  (女士) *', 'Address': 'Rm 28, New Henry House, 10 Ice House St, Central, H.K. [Annex to Andrew Liao SC’s Chambers]', 'Tel.No': '35763130', 'Fax.No': '35763030', 'Mobile': '97517658', 'E-mail': 'anniebubenoit@gmail.com', 'Call': 'HK( 2011  )'}\n",
      "10 {'Member': 'Burns, S. Ashley, S.C.', 'Name of Chambers': 'Temple Chambers', 'Address': '16/F, One Pacific Place, 88 Queensway, Admiralty, H.K.', 'Tel.No': '25232003', 'Fax.No': '28100302', 'Website': 'http://www.templechambers.com', 'Quals': 'Solicitor (HK) [1977-1996] , Solicitor (UK) [1972-1996]', 'Call': 'HK( 1996 ), Inner HK( 2007  )'}\n",
      "11 {'Member': 'But, Adrian T. 畢彤 *', 'Name of Chambers': \"Sir Oswald Cheung's Chambers\", 'Address': '10/F, New Henry House, 10 Ice House St, Central, H.K.', 'Tel.No': '25242156', 'Fax.No': '28105656', 'Mobile': '92203322', 'E-mail': 'abut@siroswald.com', 'Call': 'HK( 2011  )'}\n",
      "12 {'Member': 'Chai, Michael C. 蔡鎮 *', 'Name of Chambers': 'Bernacchi Chambers', 'Address': '1402, Tower 1, Admiralty Centre, 18 Harcourt Rd, Admiralty, H.K.', 'Tel.No': '25220066', 'Fax.No': '28450851', 'Mobile': '93809361', 'E-mail': 'mchai@bernacchichambers.com', 'Quals': 'CEDR Accredited Mediator', 'Call': 'HK( 2002  )'}\n",
      "13 {'Member': 'Chan, Abraham, S.C. 陳樂信 資深大律師', 'Name of Chambers': 'Temple Chambers', 'Address': '16/F, One Pacific Place, 88 Queensway, Admiralty, H.K.', 'Tel.No': '25232003', 'Fax.No': '28100302', 'Website': 'http://www.templechambers.com', 'Quals': 'LLB (U. Lon) , BCL (Oxon) , M Phil (Oxon) , Bar Scholarship (2003)', 'Call': 'HK( 2000 ), Inner HK( 2017  )'}\n",
      "14 {'Member': 'Chan, Charles J. 陳永豪', 'Name of Chambers': 'Courtyard Chambers', 'Address': '1216, Bank of America Tower, 12 Harcourt Rd, Central, H.K.', 'Tel.No': '25301383', 'Fax.No': '25301083', 'E-mail': 'cjc@courtyardchambers.com', 'Website': 'https://www.courtyardchambers.com/team/charles-j-chan', 'Call': 'HK( 1998  )'}\n",
      "15 {'Member': 'Chan, Charles K.C. 陳貴春 *', 'Name of Chambers': 'Harcourt Chambers', 'Address': '3403, Bank of America Tower, 12 Harcourt Rd, Central, H.K.', 'Tel.No': '28017338', 'Fax.No': '28016229', 'Mobile': '63493398', 'Website': 'https://www.harcourtchambers.com/members/charles-chan-k-c/', 'Quals': 'MCI Arb , HKMAAL Accredited General Mediator , LLB (Lond) , LLM (Renmin U. of China) , FHKIArb', 'Call': 'HK( 1993 ), UK( 1993  )'}\n",
      "16 {'Member': 'Chan, Danny K.K. 陳健強', 'Name of Chambers': 'Century Chambers', 'Address': 'Rm 1005B, Tower One, Lippo Centre, 89 Queensway, Admiralty, H.K.', 'Tel.No': '25268782/25211388', 'Fax.No': '25268718', 'E-mail': 'dc@centurychambers.hk', 'Quals': 'Solicitor (HK) [2009-2010] , Solicitor (UK) [2010--] , HKIAC Accredited General Mediator , HKMAAL Accredited General Mediator , FHKIArb', 'Call': 'HK( 2010  )'}\n",
      "17 {'Member': 'Chan, David L.K. 陳連九', 'Address': \"Rm 1318, Prince's Bldg, 10 Chater Rd, Central, H.K. [Annex to Alan Leong, S.C.'s Chambers]\", 'Tel.No': '25268128', 'Fax.No': '25268500', 'Mobile': '90919825', 'E-mail': 'davidlkc_esq@yahoo.com', 'Quals': 'CEDR Accredited Mediator', 'Call': 'HK( 2011  )'}\n",
      "18 {'Member': 'Chan, Dora K.H. (Mrs) 陳黃潔好  (女士)', 'Address': 'Rm 28, New Henry House, 10 Ice House St, Central, H.K. [Annex to Andrew Liao SC’s Chambers]', 'Tel.No': '35763130', 'Fax.No': '35763030', 'Call': 'HK( 1997 ), UK( 1996  )'}\n"
     ]
    }
   ],
   "source": [
    "data = []\n",
    "i = 0\n",
    "start = time.time()\n",
    "for url in member_url[:20]:\n",
    "    USER_AGENT = random.choice(USER_AGENT_LIST)\n",
    "    headers = {'user-agent': USER_AGENT}\n",
    "    html = session.get(url, headers=headers)\n",
    "    soup = BeautifulSoup(html.text, 'html.parser')\n",
    "    data.append(extract_data(soup, 'Eng'))\n",
    "    print(i, data[-1])\n",
    "    i += 1\n",
    "end = time.time()\n",
    "print('Take {} second to crawl {} items'.format(end-start,len(member_url[:20])))"
   ]
  },
  {
   "cell_type": "code",
   "execution_count": null,
   "metadata": {
    "scrolled": true
   },
   "outputs": [
    {
     "name": "stdout",
     "output_type": "stream",
     "text": [
      "40 {'Member': 'Cheng, Bosco Y.K. 鄭宇傑 *', 'Address': '10/F, Printing House, 6 Duddell St, Central, H.K.', 'Tel.No': '25260068', 'Fax.No': '28400131', 'Mobile': '95354581', 'E-mail': 'boscoesq@gmail.com', 'Quals': 'LLM (U. Lon)', 'Call': 'HK( 2007  )'}\n",
      "41 {'Member': 'Cheng, Ching Yee (Ms) 鄭靖怡  (女士)', 'Address': '4/F, Chung Nam Bldg, 1 Lockhart Rd, Wanchai, H.K.', 'Tel.No': '25217317', 'Fax.No': '28450654', 'E-mail': 'cheng06@gmail.com', 'Call': 'HK( 2006  )'}\n",
      "42 {'Member': 'Cheng, Francis M.B. 鄭明斌', 'Address': 'Rm 3308, Tower Two, Lippo Centre, 89 Queensway, Admiralty, H.K.', 'Tel.No': '25220209', 'Fax.No': '28696208', 'Call': 'HK( 1995 ), UK( 1994  )'}\n",
      "43 {'Member': 'Cheng, James C.C. 鄭從展 *', 'Name of Chambers': 'Olympia Chambers', 'Address': 'Rm 56, 5/F, New Henry House, 10 Ice House St, Central, H.K.', 'Tel.No': '24579996', 'Fax.No': '24579997', 'Website': 'http://www.olyc.hk', 'Call': 'HK( 1992  )'}\n",
      "44 {'Member': 'Cheng, Tobias Y.C. 鄭潤聰', 'Name of Chambers': \"Cheng Huan SC's Chambers\", 'Address': '15/F, Dina House, 11 Duddell St, Central, H.K.', 'Tel.No': '25262293', 'Fax.No': '28453749', 'E-mail': 'tobychenghk@gmail.com', 'Quals': 'CEDR Accredited Mediator , JD , BSc (Business Studies) , LLM (Arbitration & Dispute Resolution) (City U.)', 'Call': 'HK( 2011  )'}\n",
      "45 {'Member': 'Cheung, Adonis K.W. 張錦榮', 'Name of Chambers': 'Bernacchi Chambers', 'Address': '1402, Tower 1, Admiralty Centre, 18 Harcourt Rd, Admiralty, H.K.', 'Tel.No': '25220066', 'Fax.No': '28450851', 'E-mail': 'adonis@bernacchichambers.com', 'Call': 'HK( 1994 ), UK( 1994  )'}\n",
      "46 {'Member': 'Cheung, Alexander H.F. 張學鋒 *', 'Name of Chambers': 'Central Chambers', 'Address': 'Rm 418, Tower Two, Lippo Centre, 89 Queensway, Admiralty, H.K.', 'Tel.No': '25213517', 'Fax.No': '28681965', 'Mobile': '60206093', 'E-mail': 'alexhfcheung@hotmail.com', 'Quals': 'CPA (HK) , CA (NZ) , HKIAC Accredited General Mediator', 'Call': 'HK( 2006 ), NSW( 2004 ), Victoria( 2005  )'}\n",
      "47 {'Member': 'Cheung, Charmine C.M. (Ms) 張湛雯  (女士) *', 'Name of Chambers': 'Gilt Chambers', 'Address': '8/F, Far East Finance Centre, 16 Harcourt Rd, Admiralty, H.K.', 'Tel.No': '28668233', 'Fax.No': '28667858', 'Mobile': '62913731', 'E-mail': 'charmine.cheung@giltchambers.com', 'Quals': 'JD (CUHK) , PCLL (CUHK) , LLM (Cantab)', 'Call': 'HK( 2012  )'}\n"
     ]
    }
   ],
   "source": [
    "start = time.time()\n",
    "for url in member_url[40:60]:\n",
    "    USER_AGENT = random.choice(USER_AGENT_LIST)\n",
    "    headers = {'user-agent': USER_AGENT}\n",
    "    html = session.get(url, headers=headers)\n",
    "    soup = BeautifulSoup(html.text, 'html.parser')\n",
    "    data.append(extract_data(soup, 'Eng'))\n",
    "    print(i, data[-1])\n",
    "    i += 1\n",
    "end = time.time()\n",
    "print('Take {} second to crawl {} items'.format(end-start,len(member_url[40:60])))"
   ]
  },
  {
   "cell_type": "markdown",
   "metadata": {},
   "source": [
    "Save data to Dataframe"
   ]
  },
  {
   "cell_type": "code",
   "execution_count": 69,
   "metadata": {
    "scrolled": true
   },
   "outputs": [
    {
     "name": "stdout",
     "output_type": "stream",
     "text": [
      "                              Member  \\\n",
      "0   Lee, Martin C.M., S.C. 李柱銘 資深大律師   \n",
      "1  Chang, Denis K.L., S.C. 張健利 資深大律師   \n",
      "2              Griffiths, John, S.C.   \n",
      "3         Cheng, Huan, S.C. 清洪 資深大律師   \n",
      "4  Chan, Edward K.S., S.C. 陳景生 資深大律師   \n",
      "\n",
      "                                             Address    Tel.No    Fax.No  \\\n",
      "0  704A, Tower 1, Admiralty Centre, 18 Harcourt R...  25290864  28612829   \n",
      "1  9th Floor, One Lippo Centre, 89 Queensway, Adm...  28107222  28450439   \n",
      "2  38/F, Gloucester Tower, The Landmark,  Central...  25263071  28105287   \n",
      "3     15/F, Dina House, 11 Duddell St, Central, H.K.  25262293  28453749   \n",
      "4  10/F, New Henry House, 10 Ice House St, Centra...  25242156  28105656   \n",
      "\n",
      "                                        Call              Name of Chambers  \\\n",
      "0  HK( 1966 ), Inner HK( 1979 ), UK( 1965  )                           NaN   \n",
      "1  HK( 1970 ), Inner HK( 1981 ), UK( 1968  )        Denis Chang's Chambers   \n",
      "2  HK( 1979 ), Inner HK( 1982 ), UK( 1956  )            Des Voeux Chambers   \n",
      "3  HK( 1976 ), Inner HK( 1988 ), UK( 1969  )      Cheng Huan SC's Chambers   \n",
      "4  HK( 1975 ), Inner HK( 1989 ), UK( 1974  )  Sir Oswald Cheung's Chambers   \n",
      "\n",
      "                E-mail                                 Website  \\\n",
      "0                  NaN                                     NaN   \n",
      "1       dchang@dcc.law  https://dcc.law/barrister/denis-chang/   \n",
      "2                  NaN                                     NaN   \n",
      "3                  NaN                                     NaN   \n",
      "4  echan@siroswald.com                                     NaN   \n",
      "\n",
      "                Quals Mobile                     Category  \\\n",
      "0                 NaN    NaN  Professional Qualifications   \n",
      "1                 NaN    NaN  Professional Qualifications   \n",
      "2                 NaN    NaN  Professional Qualifications   \n",
      "3                 NaN    NaN  Professional Qualifications   \n",
      "4  LLB , LLM (U. Lon)    NaN  Professional Qualifications   \n",
      "\n",
      "                Organization  \n",
      "0  Hong Kong Bar Association  \n",
      "1  Hong Kong Bar Association  \n",
      "2  Hong Kong Bar Association  \n",
      "3  Hong Kong Bar Association  \n",
      "4  Hong Kong Bar Association  \n",
      "(104, 12)\n"
     ]
    }
   ],
   "source": [
    "df = pd.DataFrame(data)\n",
    "df['Category'] = 'Professional Qualifications'\n",
    "df['Organization'] = 'Hong Kong Bar Association'\n",
    "df['Title'] = 'Mediator'\n",
    "print(df.head())\n",
    "print(df.shape)"
   ]
  },
  {
   "cell_type": "markdown",
   "metadata": {},
   "source": [
    "## Data cleaning"
   ]
  },
  {
   "cell_type": "markdown",
   "metadata": {},
   "source": [
    "Add gender"
   ]
  },
  {
   "cell_type": "code",
   "execution_count": 70,
   "metadata": {},
   "outputs": [],
   "source": [
    "df['Gender'] = df['Member'].apply(lambda x: 'F' if 'Ms' in x else 'M')"
   ]
  },
  {
   "cell_type": "markdown",
   "metadata": {},
   "source": [
    "Separate Eng and Chi name"
   ]
  },
  {
   "cell_type": "code",
   "execution_count": 72,
   "metadata": {},
   "outputs": [],
   "source": [
    "def split_chi_name(name):\n",
    "    chi_name = re.findall(r'[\\u4e00-\\u9fa5]+',name)\n",
    "    if chi_name:\n",
    "        return chi_name[0]\n",
    "    else:\n",
    "        return \"\""
   ]
  },
  {
   "cell_type": "code",
   "execution_count": 73,
   "metadata": {},
   "outputs": [],
   "source": [
    "df['Chi Name'] = df['Member'].apply(split_chi_name)"
   ]
  },
  {
   "cell_type": "code",
   "execution_count": null,
   "metadata": {},
   "outputs": [],
   "source": [
    "def split_eng_name(name):\n",
    "    chi_name = split_chi_name(name)\n",
    "    if chi_name:\n",
    "        chi_name_idx = name.find(chi_name)\n",
    "        return name[:chi_name_idx].strip()\n",
    "    else: \n",
    "        return name"
   ]
  },
  {
   "cell_type": "code",
   "execution_count": 71,
   "metadata": {},
   "outputs": [],
   "source": [
    "df['Eng Name'] = df['Member'].apply(split_eng_name)\n",
    "df['Eng Name'] = df['Eng Name'].apply(lambda x: x[:x.find('(')] if '(' in x else x)"
   ]
  },
  {
   "cell_type": "markdown",
   "metadata": {},
   "source": [
    "Split First and Last Name Eng"
   ]
  },
  {
   "cell_type": "code",
   "execution_count": 74,
   "metadata": {},
   "outputs": [],
   "source": [
    "df['First Name Eng'] = df['Eng Name'].apply(lambda x: x.split(',')[1] if ',' in x else x)\n",
    "df['Last Name Eng'] = df['Eng Name'].apply(lambda x: x.split(',')[0] if ',' in x else x)"
   ]
  },
  {
   "cell_type": "markdown",
   "metadata": {},
   "source": [
    "Split First and Last Name Chi"
   ]
  },
  {
   "cell_type": "code",
   "execution_count": 75,
   "metadata": {},
   "outputs": [],
   "source": [
    "df['First Name Chi'] = df['Chi Name'].apply(lambda x: x[1:] if x else \"\")\n",
    "df['Last Name Chi'] = df['Chi Name'].apply(lambda x: x[0] if x else \"\")"
   ]
  },
  {
   "cell_type": "markdown",
   "metadata": {},
   "source": [
    "Order the columns"
   ]
  },
  {
   "cell_type": "code",
   "execution_count": 77,
   "metadata": {},
   "outputs": [
    {
     "data": {
      "text/plain": [
       "Index(['Member', 'Address', 'Tel.No', 'Fax.No', 'Call', 'Name of Chambers',\n",
       "       'E-mail', 'Website', 'Quals', 'Mobile', 'Category', 'Organization',\n",
       "       'Gender', 'Eng Name', 'Chi Name', 'First Name Eng', 'Last Name Eng',\n",
       "       'First Name Chi', 'Last Name Chi', 'Title'],\n",
       "      dtype='object')"
      ]
     },
     "execution_count": 77,
     "metadata": {},
     "output_type": "execute_result"
    }
   ],
   "source": [
    "df.columns"
   ]
  },
  {
   "cell_type": "code",
   "execution_count": 78,
   "metadata": {
    "scrolled": true
   },
   "outputs": [],
   "source": [
    "df = df[['Last Name Chi','First Name Chi','Chi Name',\n",
    "         'Last Name Eng','First Name Eng','Eng Name','Member',\n",
    "         'Gender','Title','Category','Organization',\n",
    "         'Name of Chambers','Quals','Call',\n",
    "         'Address','Mobile','Tel.No','Fax.No','E-mail','Website']]"
   ]
  },
  {
   "cell_type": "markdown",
   "metadata": {},
   "source": [
    "Save to csv file"
   ]
  },
  {
   "cell_type": "code",
   "execution_count": 79,
   "metadata": {},
   "outputs": [],
   "source": [
    "df.to_excel('香港大律师公会_Mediator.xlsx',encoding='utf_8_sig')\n",
    "df.to_csv('香港大律师公会_Mediator.csv',encoding='utf_8_sig')"
   ]
  }
 ],
 "metadata": {
  "kernelspec": {
   "display_name": "Python 3",
   "language": "python",
   "name": "python3"
  },
  "language_info": {
   "codemirror_mode": {
    "name": "ipython",
    "version": 3
   },
   "file_extension": ".py",
   "mimetype": "text/x-python",
   "name": "python",
   "nbconvert_exporter": "python",
   "pygments_lexer": "ipython3",
   "version": "3.7.3"
  }
 },
 "nbformat": 4,
 "nbformat_minor": 2
}
