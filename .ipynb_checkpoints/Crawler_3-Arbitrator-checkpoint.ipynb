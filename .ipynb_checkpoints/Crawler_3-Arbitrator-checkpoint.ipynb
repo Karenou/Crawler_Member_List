{
 "cells": [
  {
   "cell_type": "code",
   "execution_count": 1,
   "metadata": {},
   "outputs": [],
   "source": [
    "import re\n",
    "import pandas as pd\n",
    "import numpy as np\n",
    "from bs4 import BeautifulSoup\n",
    "import requests\n",
    "from urllib.parse import parse_qs, urlparse\n",
    "from datetime import datetime\n",
    "import time\n",
    "import random"
   ]
  },
  {
   "cell_type": "markdown",
   "metadata": {},
   "source": [
    "# I. Crawl Information"
   ]
  },
  {
   "cell_type": "markdown",
   "metadata": {},
   "source": [
    "Helper function to extract information about Hong Kong Bar Association - senior counsel"
   ]
  },
  {
   "cell_type": "code",
   "execution_count": 2,
   "metadata": {},
   "outputs": [],
   "source": [
    "def extract_data(soup, language = 'Eng'):\n",
    "    '''\n",
    "    @soup: BeautifulSoup object contains html of the website\n",
    "    @language: a string indicates whether the language is Chi or Eng\n",
    "    \n",
    "    the function extract member information on current page and return a data dictionary with below format\n",
    "    return data: {'Member': name, 'Name of Chambers': ,Address': , 'Tel.No': , 'Fax.No':, 'Website': , Call':}\n",
    "    ''' \n",
    "    data = {}\n",
    "    \n",
    "    # name format: last name Eng, middle name Eng, initials Eng, title, name Chi, title Chi \n",
    "    name = soup.find('div',{'class':'barrister-name'}).text.strip().split(' ')\n",
    "    name = ' '.join(name[:-1]).strip()\n",
    "    data['Member'] = name\n",
    "    \n",
    "    # other info, split key and value using the first :\n",
    "    info = soup.find_all('div',{'class':'barrister-row'})\n",
    "    for item in info:\n",
    "        content = item.text\n",
    "        key = content[:content.find(':')]\n",
    "        value = content[content.find(':')+1:]\n",
    "        data[key] = value\n",
    "        \n",
    "    return data"
   ]
  },
  {
   "cell_type": "markdown",
   "metadata": {},
   "source": [
    "## English version "
   ]
  },
  {
   "cell_type": "markdown",
   "metadata": {},
   "source": [
    "Extract main page html, the website stores the names in javascript dataTable"
   ]
  },
  {
   "cell_type": "code",
   "execution_count": 3,
   "metadata": {},
   "outputs": [],
   "source": [
    "eng_url = \"https://www.hkba.org/Bar-List/arbitrators\"\n",
    "session = requests.Session()\n",
    "eng_html = session.get(eng_url)\n",
    "soup = BeautifulSoup(eng_html.text, 'html.parser')"
   ]
  },
  {
   "cell_type": "markdown",
   "metadata": {},
   "source": [
    "get the html where the javascript defines the dataSet variable"
   ]
  },
  {
   "cell_type": "code",
   "execution_count": 4,
   "metadata": {
    "scrolled": true
   },
   "outputs": [],
   "source": [
    "content = soup.find_all('script')[25].text\n",
    "end_str = 'david-kk\",\"\",\"\"],]'\n",
    "idx = content.find(end_str)\n",
    "# get only dataset html\n",
    "content = content[:idx+len(end_str)]\n",
    "# get only lists of html\n",
    "content = content.split('[')[2:]"
   ]
  },
  {
   "cell_type": "markdown",
   "metadata": {},
   "source": [
    "Get the html of each member's website"
   ]
  },
  {
   "cell_type": "code",
   "execution_count": 5,
   "metadata": {},
   "outputs": [],
   "source": [
    "def extract_member_html(html):\n",
    "    html_prefix = 'https://www.hkba.org/'\n",
    "    url = re.search('barrister/[0-9a-zA-ZÀ-ÿ-.\\-]+',html)\n",
    "    if url:\n",
    "        return html_prefix + url.group()\n",
    "    else:\n",
    "        return \"\""
   ]
  },
  {
   "cell_type": "code",
   "execution_count": 6,
   "metadata": {},
   "outputs": [],
   "source": [
    "content_df = pd.DataFrame(content, columns = ['html'])\n",
    "content_df.html = content_df.html.apply(extract_member_html)\n",
    "member_url = content_df.html.tolist()"
   ]
  },
  {
   "cell_type": "markdown",
   "metadata": {},
   "source": [
    "Extract member data on all pages. To mimic human visits, set to headers as below."
   ]
  },
  {
   "cell_type": "code",
   "execution_count": 7,
   "metadata": {},
   "outputs": [],
   "source": [
    "USER_AGENT_LIST = [\n",
    "    \"Mozilla/4.0 (compatible; MSIE 6.0; Windows NT 5.1; SV1; AcooBrowser; .NET CLR 1.1.4322; .NET CLR 2.0.50727)\",\n",
    "    \"Mozilla/4.0 (compatible; MSIE 7.0; Windows NT 6.0; Acoo Browser; SLCC1; .NET CLR 2.0.50727; Media Center PC 5.0; .NET CLR 3.0.04506)\",\n",
    "    \"Mozilla/4.0 (compatible; MSIE 7.0; AOL 9.5; AOLBuild 4337.35; Windows NT 5.1; .NET CLR 1.1.4322; .NET CLR 2.0.50727)\",\n",
    "    \"Mozilla/5.0 (Windows; U; MSIE 9.0; Windows NT 9.0; en-US)\",\n",
    "    \"Mozilla/5.0 (compatible; MSIE 9.0; Windows NT 6.1; Win64; x64; Trident/5.0; .NET CLR 3.5.30729; .NET CLR 3.0.30729; .NET CLR 2.0.50727; Media Center PC 6.0)\",\n",
    "    \"Mozilla/5.0 (compatible; MSIE 8.0; Windows NT 6.0; Trident/4.0; WOW64; Trident/4.0; SLCC2; .NET CLR 2.0.50727; .NET CLR 3.5.30729; .NET CLR 3.0.30729; .NET CLR 1.0.3705; .NET CLR 1.1.4322)\",\n",
    "    \"Mozilla/4.0 (compatible; MSIE 7.0b; Windows NT 5.2; .NET CLR 1.1.4322; .NET CLR 2.0.50727; InfoPath.2; .NET CLR 3.0.04506.30)\",\n",
    "    \"Mozilla/5.0 (Windows; U; Windows NT 5.1; zh-CN) AppleWebKit/523.15 (KHTML, like Gecko, Safari/419.3) Arora/0.3 (Change: 287 c9dfb30)\",\n",
    "    \"Mozilla/5.0 (X11; U; Linux; en-US) AppleWebKit/527+ (KHTML, like Gecko, Safari/419.3) Arora/0.6\",\n",
    "    \"Mozilla/5.0 (Windows; U; Windows NT 5.1; en-US; rv:1.8.1.2pre) Gecko/20070215 K-Ninja/2.1.1\",\n",
    "    \"Mozilla/5.0 (Windows; U; Windows NT 5.1; zh-CN; rv:1.9) Gecko/20080705 Firefox/3.0 Kapiko/3.0\",\n",
    "    \"Mozilla/5.0 (X11; Linux i686; U;) Gecko/20070322 Kazehakase/0.4.5\",\n",
    "    \"Mozilla/5.0 (X11; U; Linux i686; en-US; rv:1.9.0.8) Gecko Fedora/1.9.0.8-1.fc10 Kazehakase/0.5.6\",\n",
    "    \"Mozilla/5.0 (Windows NT 6.1; WOW64) AppleWebKit/535.11 (KHTML, like Gecko) Chrome/17.0.963.56 Safari/535.11\",\n",
    "    \"Mozilla/5.0 (Macintosh; Intel Mac OS X 10_7_3) AppleWebKit/535.20 (KHTML, like Gecko) Chrome/19.0.1036.7 Safari/535.20\",\n",
    "    \"Opera/9.80 (Macintosh; Intel Mac OS X 10.6.8; U; fr) Presto/2.9.168 Version/11.52\",\n",
    "    \"Mozilla/5.0 (Windows NT 6.1; WOW64) AppleWebKit/536.11 (KHTML, like Gecko) Chrome/20.0.1132.11 TaoBrowser/2.0 Safari/536.11\",\n",
    "    \"Mozilla/5.0 (Windows NT 6.1; WOW64) AppleWebKit/537.1 (KHTML, like Gecko) Chrome/21.0.1180.71 Safari/537.1 LBBROWSER\",\n",
    "    \"Mozilla/5.0 (compatible; MSIE 9.0; Windows NT 6.1; WOW64; Trident/5.0; SLCC2; .NET CLR 2.0.50727; .NET CLR 3.5.30729; .NET CLR 3.0.30729; Media Center PC 6.0; .NET4.0C; .NET4.0E; LBBROWSER)\",\n",
    "    \"Mozilla/4.0 (compatible; MSIE 6.0; Windows NT 5.1; SV1; QQDownload 732; .NET4.0C; .NET4.0E; LBBROWSER)\",\n",
    "    \"Mozilla/5.0 (Windows NT 6.1; WOW64) AppleWebKit/535.11 (KHTML, like Gecko) Chrome/17.0.963.84 Safari/535.11 LBBROWSER\",\n",
    "    \"Mozilla/4.0 (compatible; MSIE 7.0; Windows NT 6.1; WOW64; Trident/5.0; SLCC2; .NET CLR 2.0.50727; .NET CLR 3.5.30729; .NET CLR 3.0.30729; Media Center PC 6.0; .NET4.0C; .NET4.0E)\",\n",
    "    \"Mozilla/5.0 (compatible; MSIE 9.0; Windows NT 6.1; WOW64; Trident/5.0; SLCC2; .NET CLR 2.0.50727; .NET CLR 3.5.30729; .NET CLR 3.0.30729; Media Center PC 6.0; .NET4.0C; .NET4.0E; QQBrowser/7.0.3698.400)\",\n",
    "    \"Mozilla/4.0 (compatible; MSIE 6.0; Windows NT 5.1; SV1; QQDownload 732; .NET4.0C; .NET4.0E)\",\n",
    "    \"Mozilla/4.0 (compatible; MSIE 7.0; Windows NT 5.1; Trident/4.0; SV1; QQDownload 732; .NET4.0C; .NET4.0E; 360SE)\",\n",
    "    \"Mozilla/4.0 (compatible; MSIE 6.0; Windows NT 5.1; SV1; QQDownload 732; .NET4.0C; .NET4.0E)\",\n",
    "    \"Mozilla/4.0 (compatible; MSIE 7.0; Windows NT 6.1; WOW64; Trident/5.0; SLCC2; .NET CLR 2.0.50727; .NET CLR 3.5.30729; .NET CLR 3.0.30729; Media Center PC 6.0; .NET4.0C; .NET4.0E)\",\n",
    "    \"Mozilla/5.0 (Windows NT 5.1) AppleWebKit/537.1 (KHTML, like Gecko) Chrome/21.0.1180.89 Safari/537.1\",\n",
    "    \"Mozilla/5.0 (Windows NT 6.1; WOW64) AppleWebKit/537.1 (KHTML, like Gecko) Chrome/21.0.1180.89 Safari/537.1\",\n",
    "    \"Mozilla/5.0 (iPad; U; CPU OS 4_2_1 like Mac OS X; zh-cn) AppleWebKit/533.17.9 (KHTML, like Gecko) Version/5.0.2 Mobile/8C148 Safari/6533.18.5\",\n",
    "    \"Mozilla/5.0 (Windows NT 6.1; Win64; x64; rv:2.0b13pre) Gecko/20110307 Firefox/4.0b13pre\",\n",
    "    \"Mozilla/5.0 (X11; Ubuntu; Linux x86_64; rv:16.0) Gecko/20100101 Firefox/16.0\",\n",
    "    \"Mozilla/5.0 (Windows NT 6.1; WOW64) AppleWebKit/537.11 (KHTML, like Gecko) Chrome/23.0.1271.64 Safari/537.11\",\n",
    "    \"Mozilla/5.0 (X11; U; Linux x86_64; zh-CN; rv:1.9.2.10) Gecko/20100922 Ubuntu/10.10 (maverick) Firefox/3.6.10\",\n",
    "    \"Mozilla/5.0 (Windows NT 10.0; Win64; x64) AppleWebKit/537.36 (KHTML, like Gecko) Chrome/58.0.3029.110 Safari/537.36\",\n",
    "    ]"
   ]
  },
  {
   "cell_type": "markdown",
   "metadata": {},
   "source": [
    "My network is a bit slow so I separate the crawling into 4 parts."
   ]
  },
  {
   "cell_type": "code",
   "execution_count": 8,
   "metadata": {
    "scrolled": true
   },
   "outputs": [
    {
     "name": "stdout",
     "output_type": "stream",
     "text": [
      "0 {'Member': 'Acton-Bond, Jonathan Edward 龐仲寧', 'Name of Chambers': 'Trinity Chambers', 'Address': '18/F, Bangkok Bank Bldg, 28 Des Voeux Rd Central, H.K.', 'Tel.No': '25212666', 'Fax.No': '28454844', 'Mobile': '96570742', 'E-mail': 'jeactonbond@gmail.com', 'Quals': 'BA (Sussex U.) , FCI Arb', 'Call': 'HK( 1988 ), UK( 1971  )'}\n",
      "1 {'Member': 'Aiken, Nigel, S.C. 區啟賢 資深大律師', 'Name of Chambers': 'Temple Chambers', 'Address': '16/F, One Pacific Place, 88 Queensway, Admiralty, H.K.', 'Tel.No': '25232003', 'Fax.No': '28100302', 'Website': 'http://www.templechambers.com', 'Call': 'HK( 1981 ), Inner HK( 1994 ), UK( 1974  )'}\n",
      "2 {'Member': 'Alder, Edward A.G.', 'Name of Chambers': \"Prince's Chambers\", 'Address': '3002, Tower Two, Lippo Centre, 89 Queensway, Admiralty, H.K.', 'Tel.No': '25257388', 'Fax.No': '25304241', 'Mobile': '60189770', 'E-mail': 'edwardalder@princeschambers.com.hk', 'Quals': 'Solicitor (HK) [1994-2006] , Solicitor (NSW) [1992 --]', 'Call': 'HK( 2006  )'}\n",
      "3 {'Member': 'Au, Helen H.L. (Ms) 區曉嵐  (女士) *', 'Address': 'Rm 28, New Henry House, 10 Ice House St, Central, H.K. [Annex to Andrew Liao SC’s Chambers]', 'Tel.No': '35763130', 'Fax.No': '35763030', 'E-mail': 'helen@helen-au.com', 'Quals': 'FCI Arb , FHKI Arb , FAMINZ (Arb) , CEDR Accredited Mediator , HKMC Mediator , MHKIArb , MNI', 'Call': 'HK( 2002  )'}\n",
      "4 {'Member': 'Barlow, Barrie, S.C.', 'Name of Chambers': 'Des Voeux Chambers', 'Address': '38/F, Gloucester Tower, The Landmark,  Central, H.K.', 'Tel.No': '25263071', 'Fax.No': '28105287', 'Website': 'http://www.dvc.hk/en/members-of-chambers/silks/barrie-barlow-s.c', 'Call': 'HK( 1984 ), Inner HK( 2007 ), Cwlth( 1975  )'}\n",
      "5 {'Member': 'Barrett, Paul N.', 'Name of Chambers': 'Pacific Chambers', 'Address': 'Rm 901, Dina House, 11 Duddell St, Central, H.K.', 'Tel.No': '25215544', 'Fax.No': '25245912', 'Mobile': '93166195', 'E-mail': 'paul@pnbarrett.com', 'Quals': 'Chartered Arbitrator , FCI Arb , FHKIS , FRICS , FCIOB', 'Call': 'HK( 1999  )'}\n",
      "6 {'Member': 'Bartlett, Jeremy J., S.C. 包智力 資深大律師', 'Name of Chambers': \"Prince's Chambers\", 'Address': '3002, Tower Two, Lippo Centre, 89 Queensway, Admiralty, H.K.', 'Tel.No': '25257388', 'Fax.No': '25253930', 'Quals': 'Solicitor (HK) [1988-1999] , Solicitor (UK) [1988-1999] , Solicitor (NZ) [1984 --] , Solicitor (Victoria) [1986 --]', 'Call': 'HK( 1999 ), Inner HK( 2015  )'}\n",
      "7 {'Member': 'Burns, S. Ashley, S.C.', 'Name of Chambers': 'Temple Chambers', 'Address': '16/F, One Pacific Place, 88 Queensway, Admiralty, H.K.', 'Tel.No': '25232003', 'Fax.No': '28100302', 'Website': 'http://www.templechambers.com', 'Quals': 'Solicitor (HK) [1977-1996] , Solicitor (UK) [1972-1996]', 'Call': 'HK( 1996 ), Inner HK( 2007  )'}\n",
      "8 {'Member': 'Chain, Benjamin 錢純武', 'Address': \"Rm 1520, Prince's Bldg, 10 Chater Rd, Central, H.K.\", 'Tel.No': '25211206', 'Fax.No': '28451601', 'Call': 'HK( 1980  )'}\n",
      "9 {'Member': 'Chan, Charles K.C. 陳貴春 *', 'Name of Chambers': 'Harcourt Chambers', 'Address': '3403, Bank of America Tower, 12 Harcourt Rd, Central, H.K.', 'Tel.No': '28017338', 'Fax.No': '28016229', 'Mobile': '63493398', 'Website': 'https://www.harcourtchambers.com/members/charles-chan-k-c/', 'Quals': 'MCI Arb , HKMAAL Accredited General Mediator , LLB (Lond) , LLM (Renmin U. of China) , FHKIArb', 'Call': 'HK( 1993 ), UK( 1993  )'}\n",
      "10 {'Member': 'Chan, Chun Hei Ryan 陳俊羲 *', 'Name of Chambers': 'Suite 2703 Chambers', 'Address': 'Suite 2703, LHT Tower, 31 Queen’s Road Central, Central, H.K.', 'Tel.No': '34688790', 'Fax.No': '37532977', 'Mobile': '64655550', 'E-mail': 'ryan@suite2703.com', 'Quals': \"LLB (U. Manchester) , PCLL (CUHK) , M Phil in Criminology (Cambridge) , FCI Arb , Dip in Int'l Commercial Arbitration , FHKIArb\", 'Call': 'HK( 2018  )'}\n",
      "11 {'Member': 'Chan, Danny K.K. 陳健強', 'Name of Chambers': 'Century Chambers', 'Address': 'Rm 1005B, Tower One, Lippo Centre, 89 Queensway, Admiralty, H.K.', 'Tel.No': '25268782/25211388', 'Fax.No': '25268718', 'E-mail': 'dc@centurychambers.hk', 'Quals': 'Solicitor (HK) [2009-2010] , Solicitor (UK) [2010--] , HKIAC Accredited General Mediator , HKMAAL Accredited General Mediator , FHKIArb', 'Call': 'HK( 2010  )'}\n",
      "12 {'Member': 'Chan, Frederick H.F. 陳慶輝 *', 'Name of Chambers': 'Parkside Chambers', 'Address': 'Suite 3101, Two Pacific Place, 88 Queensway, Admiralty, H.K.', 'Tel.No': '28401130', 'Fax.No': '28100612', 'Website': 'http://www.parksidechambers.com.hk/members/frederick-h-f-chan/', 'Quals': 'LLM (U. Lon) , CEDR Accredited Mediator , FCI Arb', 'Call': 'HK( 1993  )'}\n",
      "13 {'Member': 'Chan, Jacky Hei-Ching 陳希政 *', 'Name of Chambers': 'Harcourt Chambers', 'Address': '3403, Bank of America Tower, 12 Harcourt Rd, Central, H.K.', 'Tel.No': '28017338', 'Fax.No': '28016229', 'E-mail': 'heiching@harcourtchambers.com', 'Website': 'https://www.harcourtchambers.com/members/chan-hei-ching-jacky/', 'Quals': \"LLB (HKU) , B Eng (CivE-Law) (HKU) , PCLL (HKU) , FCI Arb , FHKI Arb , HKIAC Accredited General Mediator , HKMAAL Accredited Family Mediator , HKMAAL Accredited General Mediator , Master in EU Competition Law (King's College London)\", 'Call': 'HK( 2010  )'}\n",
      "14 {'Member': 'Chan, Samuel K.Y. 陳家殷', 'Name of Chambers': \"Denis Chang's Chambers\", 'Address': '9th Floor, One Lippo Centre, 89 Queensway, Admiralty, H.K.', 'Tel.No': '28107222', 'Fax.No': '28450439', 'E-mail': 'schan@dcc.law', 'Website': 'https://dcc.law/barrister/samuel-chan/', 'Quals': 'FCI Arb , FHKI Arb , MA (EU Competition Law) (KCL)', 'Call': 'HK( 1989  )'}\n",
      "15 {'Member': 'Chan, Vod K.S. 陳家成 *', 'Name of Chambers': 'Chambers of Ronny Wong S.C.', 'Address': 'Rms 3206-3208, Alexandra House, 18 Chater Rd, Central, H.K.', 'Tel.No': '25261732', 'Fax.No': '28455421', 'Mobile': '91008444', 'E-mail': 'vodchan@hotmail.com', 'Quals': 'LLM , MBA , HKIAC Accredited General Mediator', 'Call': 'HK( 2004  )'}\n",
      "16 {'Member': 'Cheng, Huan, S.C. 清洪 資深大律師', 'Name of Chambers': \"Cheng Huan SC's Chambers\", 'Address': '15/F, Dina House, 11 Duddell St, Central, H.K.', 'Tel.No': '25262293', 'Fax.No': '28453749', 'Call': 'HK( 1976 ), Inner HK( 1988 ), UK( 1969  )'}\n",
      "17 {'Member': 'Cheung, Diana H.C. (Ms) 張嫺珠  (女士) *', 'Address': '1301, 13/F, Cheong K. Bldg, 84-86 Des Voeux Road Central, H.K.', 'Tel.No': '93427448', 'Fax.No': '39569740', 'Mobile': '93825218', 'E-mail': 'dianahc2000@yahoo.com.hk', 'Quals': \"LLM (Int'l Bus Law) (U.Lon) , FCI Arb , FHKI Arb , HKMAAL Accredited General Mediator\", 'Call': 'HK( 1992  )'}\n",
      "18 {'Member': 'Cheung, Harrison C.H. 張志雄 *', 'Name of Chambers': 'Gary Soo’s Chambers', 'Address': 'Rms 606 & 08, Tower Two, Lippo Centre, 89 Queensway, Admiralty, H.K.', 'Tel.No': '28696325', 'Fax.No': '28696302', 'Mobile': '92519399', 'E-mail': 'harrisoncheung.counsel@gmail.com', 'Quals': 'B Eng (Civil) , M App.Sc(Engineering Geology) , MPA (Accounting) , MA Arb & Dr , MBA , LLB , PCLL , MHKIE , MCI Arb , RPE (Civil)', 'Call': 'HK( 2010  )'}\n",
      "19 {'Member': 'Cheung, Ivan T.Y. 張大有', 'Name of Chambers': 'Fortune Chambers', 'Address': 'Rm 2305-07, 23/F, Tower Two, Lippo Centre, 89 Queensway, Admiralty, H.K.', 'Tel.No': '28108383', 'Fax.No': '28452668', 'Quals': 'BSc (QS) , LLB (U. Lon) , MA Arb & Dr , MSc (Accountancy) , FCI Arb , CPA , FCCA , HKIAC Accredited General Mediator , HKMAAL Accredited General Mediator', 'Call': 'HK( 1998  )'}\n",
      "20 {'Member': 'Chow, Edward Lap-San 周立新 *', 'Name of Chambers': 'Gary Soo’s Chambers', 'Address': 'Rms 606 & 08, Tower Two, Lippo Centre, 89 Queensway, Admiralty, H.K.', 'Tel.No': '28696325', 'Fax.No': '28696302', 'E-mail': 'edwardchow.at.work@gmail.com', 'Quals': 'LLM (Arbitration & Dispute Resolution)(HKU) , LLM (in Corporate & Financial Law) (HKU) , FCI Arb , FHKI Arb , HKIAC Arbitrator , HKMAAL General Mediator', 'Call': 'HK( 1990  )'}\n",
      "21 {'Member': 'Chow, Val P.Y. 周翩洋 *', 'Name of Chambers': 'Temple Chambers', 'Address': '16/F, One Pacific Place, 88 Queensway, Admiralty, H.K.', 'Tel.No': '25232003', 'Fax.No': '28100302', 'E-mail': 'valchow@templechambers.com', 'Website': 'http://www.templechambers.com', 'Quals': 'Solicitor (HK) [2011-2012] , BBA (Law) , LLB , LLM , PCLL', 'Call': 'HK( 2013  )'}\n",
      "22 {'Member': 'Chung, Jerry Ming Shing 宗銘誠', 'Address': 'Rm 87, New Henry House, 10 Ice House St, Central, H.K.', 'Tel.No': '25225494', 'Fax.No': '28104677', 'Mobile': '97660624', 'E-mail': 'nhh87ice@netvigator.com', 'Quals': 'LLB (U. Bristol) , LLM (Commercial & Corporate Law) , M. Fin , MA Arb & Dr , Accredited Mediator , FHKI Arb , LLM (Chinese Law)', 'Call': 'HK( 2000 ), UK( 2000  )'}\n"
     ]
    },
    {
     "name": "stdout",
     "output_type": "stream",
     "text": [
      "23 {'Member': 'Chung, Kenneth K.H. 鍾建康 *', 'Name of Chambers': \"Sir Oswald Cheung's Chambers\", 'Address': '10/F, New Henry House, 10 Ice House St, Central, H.K.', 'Tel.No': '25242156', 'Fax.No': '28105656', 'E-mail': 'kchung@siroswald.com', 'Quals': 'LLM , BSc (Civil Engineering) , MBA , Chartered Engineer (UK) , Registered Structural Engineer (HK) , Registered Professional Engineer (Structural) (HK) , MHKIE , MIStructE , MICE , FHKI Arb , MCI Arb , HKIAC Accredited General Mediator', 'Call': 'HK( 2002  )'}\n",
      "24 {'Member': 'Chung, la Fontaine L.F. (Ms) 鍾麗芳  (女士) *', 'Address': 'Rm 52, New Henry House, 10 Ice House St, Central, H.K.', 'Tel.No': '25861550', 'Fax.No': '28109196', 'E-mail': 'chunglf@graduate.hku.hk', 'Quals': 'LLB , PCLL (HKU) , LLM (HKU) , BA (Accountancy) , FCCA , CPA , ACIS , ACS , FHKI Arb , HKIAC Accredited General Mediator , HKMAAL Accredited General Mediator', 'Call': 'HK( 2004  )'}\n",
      "25 {'Member': 'Chung, Peter K.T. 鍾錦棠', 'Name of Chambers': 'Sky Chambers', 'Address': 'Rm 304-305, 3/F, Prosperous Bldg, 48-52 Des Voeux Rd Central, H.K.', 'Tel.No': '25218180', 'Fax.No': '25218229', 'Mobile': '66276873', 'E-mail': 'peter@skychambers.com.hk', 'Quals': 'DMS , B Bus , Cert CLTP , PgC HKL , MA Arb & Dr , LLB , ACMA , FCPA , FCI Arb , HKIAC Accredited General Mediator , HKMAAL Accredited General Mediator , HKIAC Arbitrator', 'Call': 'HK( 2001 ), UK( 2001  )'}\n",
      "26 {'Member': 'Clayton, Peter D., S.C.', 'Name of Chambers': 'Parkside Chambers', 'Address': 'Suite 3101, Two Pacific Place, 88 Queensway, Admiralty, H.K.', 'Tel.No': '28401130', 'Fax.No': '28100612', 'Website': 'http://www.parksidechambers.com.hk/members/peter-clayton/', 'Call': 'HK( 1982 ), Inner HK( 2005 ), UK( 1977  )'}\n",
      "Take 31.751744508743286 second to crawl 27 items\n"
     ]
    }
   ],
   "source": [
    "data = []\n",
    "i = 0\n",
    "start = time.time()\n",
    "for url in member_url:\n",
    "    USER_AGENT = random.choice(USER_AGENT_LIST)\n",
    "    headers = {'user-agent': USER_AGENT}\n",
    "    html = session.get(url, headers=headers)\n",
    "    soup = BeautifulSoup(html.text, 'html.parser')\n",
    "    data.append(extract_data(soup, 'Eng'))\n",
    "    print(i, data[-1])\n",
    "    i += 1\n",
    "end = time.time()\n",
    "print('Take {} second to crawl {} items'.format(end-start,len(member_url)))"
   ]
  },
  {
   "cell_type": "markdown",
   "metadata": {},
   "source": [
    "Save data to Dataframe"
   ]
  },
  {
   "cell_type": "code",
   "execution_count": 12,
   "metadata": {
    "scrolled": true
   },
   "outputs": [
    {
     "name": "stdout",
     "output_type": "stream",
     "text": [
      "                            Member    Name of Chambers  \\\n",
      "0  Acton-Bond, Jonathan Edward 龐仲寧    Trinity Chambers   \n",
      "1     Aiken, Nigel, S.C. 區啟賢 資深大律師     Temple Chambers   \n",
      "2               Alder, Edward A.G.   Prince's Chambers   \n",
      "3  Au, Helen H.L. (Ms) 區曉嵐  (女士) *                 NaN   \n",
      "4             Barlow, Barrie, S.C.  Des Voeux Chambers   \n",
      "\n",
      "                                             Address    Tel.No    Fax.No  \\\n",
      "0  18/F, Bangkok Bank Bldg, 28 Des Voeux Rd Centr...  25212666  28454844   \n",
      "1  16/F, One Pacific Place, 88 Queensway, Admiral...  25232003  28100302   \n",
      "2  3002, Tower Two, Lippo Centre, 89 Queensway, A...  25257388  25304241   \n",
      "3  Rm 28, New Henry House, 10 Ice House St, Centr...  35763130  35763030   \n",
      "4  38/F, Gloucester Tower, The Landmark,  Central...  25263071  28105287   \n",
      "\n",
      "     Mobile                              E-mail  \\\n",
      "0  96570742               jeactonbond@gmail.com   \n",
      "1       NaN                                 NaN   \n",
      "2  60189770  edwardalder@princeschambers.com.hk   \n",
      "3       NaN                  helen@helen-au.com   \n",
      "4       NaN                                 NaN   \n",
      "\n",
      "                                               Quals  \\\n",
      "0                           BA (Sussex U.) , FCI Arb   \n",
      "1                                                NaN   \n",
      "2  Solicitor (HK) [1994-2006] , Solicitor (NSW) [...   \n",
      "3  FCI Arb , FHKI Arb , FAMINZ (Arb) , CEDR Accre...   \n",
      "4                                                NaN   \n",
      "\n",
      "                                           Call  \\\n",
      "0                       HK( 1988 ), UK( 1971  )   \n",
      "1     HK( 1981 ), Inner HK( 1994 ), UK( 1974  )   \n",
      "2                                   HK( 2006  )   \n",
      "3                                   HK( 2002  )   \n",
      "4  HK( 1984 ), Inner HK( 2007 ), Cwlth( 1975  )   \n",
      "\n",
      "                                             Website Pager  \\\n",
      "0                                                NaN   NaN   \n",
      "1                      http://www.templechambers.com   NaN   \n",
      "2                                                NaN   NaN   \n",
      "3                                                NaN   NaN   \n",
      "4  http://www.dvc.hk/en/members-of-chambers/silks...   NaN   \n",
      "\n",
      "                      Category               Organization       Title  \n",
      "0  Professional Qualifications  Hong Kong Bar Association  Arbitrator  \n",
      "1  Professional Qualifications  Hong Kong Bar Association  Arbitrator  \n",
      "2  Professional Qualifications  Hong Kong Bar Association  Arbitrator  \n",
      "3  Professional Qualifications  Hong Kong Bar Association  Arbitrator  \n",
      "4  Professional Qualifications  Hong Kong Bar Association  Arbitrator  \n",
      "(114, 14)\n"
     ]
    }
   ],
   "source": [
    "df = pd.DataFrame(data)\n",
    "df['Category'] = 'Professional Qualifications'\n",
    "df['Organization'] = 'Hong Kong Bar Association'\n",
    "df['Title'] = 'Arbitrator'\n",
    "print(df.head())\n",
    "print(df.shape)"
   ]
  },
  {
   "cell_type": "markdown",
   "metadata": {},
   "source": [
    "## Data cleaning"
   ]
  },
  {
   "cell_type": "markdown",
   "metadata": {},
   "source": [
    "Add gender"
   ]
  },
  {
   "cell_type": "code",
   "execution_count": 13,
   "metadata": {},
   "outputs": [],
   "source": [
    "df['Gender'] = df['Member'].apply(lambda x: 'F' if 'Ms' in x else 'M')"
   ]
  },
  {
   "cell_type": "markdown",
   "metadata": {},
   "source": [
    "Separate Eng and Chi name"
   ]
  },
  {
   "cell_type": "code",
   "execution_count": 14,
   "metadata": {},
   "outputs": [],
   "source": [
    "def split_chi_name(name):\n",
    "    chi_name = re.findall(r'[\\u4e00-\\u9fa5]+',name)\n",
    "    if chi_name:\n",
    "        return chi_name[0]\n",
    "    else:\n",
    "        return \"\""
   ]
  },
  {
   "cell_type": "code",
   "execution_count": 15,
   "metadata": {},
   "outputs": [],
   "source": [
    "df['Chi Name'] = df['Member'].apply(split_chi_name)"
   ]
  },
  {
   "cell_type": "code",
   "execution_count": 26,
   "metadata": {},
   "outputs": [],
   "source": [
    "def split_eng_name(name):\n",
    "    chi_name = split_chi_name(name)\n",
    "    if chi_name:\n",
    "        chi_name_idx = name.find(chi_name)\n",
    "        return name[:chi_name_idx].strip()\n",
    "    else: \n",
    "        return name"
   ]
  },
  {
   "cell_type": "code",
   "execution_count": 27,
   "metadata": {
    "scrolled": true
   },
   "outputs": [],
   "source": [
    "df['Eng Name'] = df['Member'].apply(split_eng_name)\n",
    "df['Eng Name'] = df['Eng Name'].apply(lambda x: x[:x.find('(')] if '(' in x else x)"
   ]
  },
  {
   "cell_type": "markdown",
   "metadata": {},
   "source": [
    "Split First and Last Name Eng"
   ]
  },
  {
   "cell_type": "code",
   "execution_count": 29,
   "metadata": {},
   "outputs": [],
   "source": [
    "df['First Name Eng'] = df['Eng Name'].apply(lambda x: x.split(',')[1] if ',' in x else x)\n",
    "df['Last Name Eng'] = df['Eng Name'].apply(lambda x: x.split(',')[0] if ',' in x else x)"
   ]
  },
  {
   "cell_type": "markdown",
   "metadata": {},
   "source": [
    "Split First and Last Name Chi"
   ]
  },
  {
   "cell_type": "code",
   "execution_count": 30,
   "metadata": {},
   "outputs": [],
   "source": [
    "df['First Name Chi'] = df['Chi Name'].apply(lambda x: x[1:] if x else \"\")\n",
    "df['Last Name Chi'] = df['Chi Name'].apply(lambda x: x[0] if x else \"\")"
   ]
  },
  {
   "cell_type": "markdown",
   "metadata": {},
   "source": [
    "Order the columns"
   ]
  },
  {
   "cell_type": "code",
   "execution_count": 32,
   "metadata": {},
   "outputs": [
    {
     "data": {
      "text/plain": [
       "Index(['Member', 'Name of Chambers', 'Address', 'Tel.No', 'Fax.No', 'Mobile',\n",
       "       'E-mail', 'Quals', 'Call', 'Website', 'Pager', 'Category',\n",
       "       'Organization', 'Title', 'Gender', 'Chi Name', 'Eng Name',\n",
       "       'First Name Eng', 'Last Name Eng', 'First Name Chi', 'Last Name Chi'],\n",
       "      dtype='object')"
      ]
     },
     "execution_count": 32,
     "metadata": {},
     "output_type": "execute_result"
    }
   ],
   "source": [
    "df.columns"
   ]
  },
  {
   "cell_type": "code",
   "execution_count": 33,
   "metadata": {
    "scrolled": true
   },
   "outputs": [],
   "source": [
    "df = df[['Last Name Chi','First Name Chi','Chi Name',\n",
    "         'Last Name Eng','First Name Eng','Eng Name','Member',\n",
    "         'Gender','Title','Category','Organization',\n",
    "         'Name of Chambers','Quals','Call',\n",
    "         'Address','Mobile','Tel.No','Fax.No','E-mail','Website','Pager']]"
   ]
  },
  {
   "cell_type": "markdown",
   "metadata": {},
   "source": [
    "Save to csv file"
   ]
  },
  {
   "cell_type": "code",
   "execution_count": 34,
   "metadata": {},
   "outputs": [],
   "source": [
    "df.to_excel('香港大律师公会_Arbitrator.xlsx',encoding='utf_8_sig')\n",
    "df.to_csv('香港大律师公会_Arbitrator.csv',encoding='utf_8_sig')"
   ]
  }
 ],
 "metadata": {
  "kernelspec": {
   "display_name": "Python 3",
   "language": "python",
   "name": "python3"
  },
  "language_info": {
   "codemirror_mode": {
    "name": "ipython",
    "version": 3
   },
   "file_extension": ".py",
   "mimetype": "text/x-python",
   "name": "python",
   "nbconvert_exporter": "python",
   "pygments_lexer": "ipython3",
   "version": "3.7.3"
  }
 },
 "nbformat": 4,
 "nbformat_minor": 2
}
